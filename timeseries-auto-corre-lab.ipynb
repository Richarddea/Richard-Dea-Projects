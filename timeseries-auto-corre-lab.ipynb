{
 "cells": [
  {
   "cell_type": "markdown",
   "metadata": {},
   "source": [
    "<img src=\"https://ga-dash.s3.amazonaws.com/production/assets/logo-9f88ae6c9c3871690e33280fcf557f33.png\" style=\"float: left; margin: 15px\">\n",
    "\n",
    "## Autocorrelation Lab (solutions - Amazon)\n",
    "\n",
    "Week 10 | Lesson 1.1\n",
    "\n",
    "---"
   ]
  },
  {
   "cell_type": "markdown",
   "metadata": {},
   "source": [
    "---\n",
    "\n",
    "**Load the mapquest dataset:**"
   ]
  },
  {
   "cell_type": "code",
   "execution_count": null,
   "metadata": {
    "collapsed": true
   },
   "outputs": [],
   "source": [
    "import pandas as pd\n",
    "import numpy as np\n",
    "import matplotlib.pyplot as plt\n",
    "import seaborn as sns\n",
    "import datetime\n",
    "import prettyplotlib as ppl\n",
    "\n",
    "sns.set_style('whitegrid')\n",
    "\n",
    "%matplotlib inline\n",
    "%config InlineBackend.figure_format = 'retina'"
   ]
  },
  {
   "cell_type": "markdown",
   "metadata": {},
   "source": [
    "#### Load the data, then convert the date to datetime format and make it the index of the DataFrame:"
   ]
  },
  {
   "cell_type": "code",
   "execution_count": null,
   "metadata": {
    "collapsed": true
   },
   "outputs": [],
   "source": [
    "## For ilustration purpose I am using the amazon dataframe\n",
    "amaz_df = pd.read_csv('/~/Desktop/DSI-2-TEACH/DSI-SF/datasets/time_series_data/amzn.csv')"
   ]
  },
  {
   "cell_type": "code",
   "execution_count": null,
   "metadata": {
    "collapsed": false
   },
   "outputs": [],
   "source": [
    "amaz_df.info()"
   ]
  },
  {
   "cell_type": "code",
   "execution_count": null,
   "metadata": {
    "collapsed": false
   },
   "outputs": [],
   "source": [
    "amaz_df.head(3)"
   ]
  },
  {
   "cell_type": "code",
   "execution_count": null,
   "metadata": {
    "collapsed": true
   },
   "outputs": [],
   "source": [
    "amaz_df.columns = ['date','open','high','low','close','volume']"
   ]
  },
  {
   "cell_type": "code",
   "execution_count": null,
   "metadata": {
    "collapsed": false
   },
   "outputs": [],
   "source": [
    "amaz_df.date = pd.to_datetime(amaz_df.date)"
   ]
  },
  {
   "cell_type": "code",
   "execution_count": null,
   "metadata": {
    "collapsed": true
   },
   "outputs": [],
   "source": [
    "amaz_df.set_index('date', inplace=True)"
   ]
  },
  {
   "cell_type": "code",
   "execution_count": null,
   "metadata": {
    "collapsed": false
   },
   "outputs": [],
   "source": [
    "#Create a year and month column\n",
    "amaz_df['year'] = amaz_df.index.year\n",
    "amaz_df['month'] =amaz_df.index.month\n",
    "amaz_df.head(3)"
   ]
  },
  {
   "cell_type": "code",
   "execution_count": null,
   "metadata": {
    "collapsed": false
   },
   "outputs": [],
   "source": [
    "amaz_df.sort_values(by=['year', 'month'], ascending=False).head(20)"
   ]
  },
  {
   "cell_type": "markdown",
   "metadata": {},
   "source": [
    "---\n",
    "\n",
    "**Plot the dataset, using pandas' `.plot()` functionality:**\n",
    "\n",
    "http://pandas.pydata.org/pandas-docs/stable/generated/pandas.DataFrame.plot.html"
   ]
  },
  {
   "cell_type": "code",
   "execution_count": null,
   "metadata": {
    "collapsed": false
   },
   "outputs": [],
   "source": []
  },
  {
   "cell_type": "markdown",
   "metadata": {},
   "source": [
    "**Plot only volume:**"
   ]
  },
  {
   "cell_type": "code",
   "execution_count": null,
   "metadata": {
    "collapsed": false
   },
   "outputs": [],
   "source": []
  },
  {
   "cell_type": "markdown",
   "metadata": {},
   "source": [
    "---\n",
    "\n",
    "**Access time components using the pandas Series `dt` attribute to create date \"ticks\" for a plot:**\n",
    "\n",
    "\n",
    "http://pandas.pydata.org/pandas-docs/stable/generated/pandas.DatetimeIndex.to_pydatetime.html\n",
    "\n",
    "http://pandas.pydata.org/pandas-docs/stable/generated/pandas.Series.dt.html"
   ]
  },
  {
   "cell_type": "code",
   "execution_count": null,
   "metadata": {
    "collapsed": false
   },
   "outputs": [],
   "source": []
  },
  {
   "cell_type": "markdown",
   "metadata": {},
   "source": [
    "---\n",
    "\n",
    "**Plot the volume using the date ticks for the x-axis:**"
   ]
  },
  {
   "cell_type": "code",
   "execution_count": null,
   "metadata": {
    "collapsed": false
   },
   "outputs": [],
   "source": []
  },
  {
   "cell_type": "markdown",
   "metadata": {},
   "source": [
    "### Autocorrelation\n",
    "The \"autocorrelation\" with a specified period and lag is the correlation between the current timepoint and the timepoint prior defined by the period (day, week, month, etc.) the specified lag prior.\n",
    "\n"
   ]
  },
  {
   "cell_type": "markdown",
   "metadata": {},
   "source": [
    "**Calculate the autocorrelation for amazon in 2016 except the month of novemeber for day and week periods with lag 1:**"
   ]
  },
  {
   "cell_type": "code",
   "execution_count": null,
   "metadata": {
    "collapsed": false
   },
   "outputs": [],
   "source": [
    "\n",
    "\n",
    "print autocorr_day_lag1\n",
    "print autocorr_week_lag1"
   ]
  },
  {
   "cell_type": "markdown",
   "metadata": {},
   "source": [
    "### Rolling mean and rolling median\n",
    "The \"rolling mean\" or median takes a specified lag and uses the current time point and time points prior up to the specified lag to calculate the statistic.\n",
    "\n",
    "**rolling().mean()** (as well as **rolling().median()**) takes these important parameters:\n",
    "\n",
    "> the first is the series to aggregate\n",
    "\n",
    "> **window** is the number of days to include in the average\n",
    "\n",
    "> **center** is whether the window should be centered on the date or use data prior to that date\n",
    "\n",
    "> **freq** is on what level to roll-up the averages to (as used in **resample**). Either **D** for day, **M** for month or **A** for year, etc."
   ]
  },
  {
   "cell_type": "markdown",
   "metadata": {},
   "source": [
    "**Calculate the monthly rolling mean and median for the volume:**"
   ]
  },
  {
   "cell_type": "code",
   "execution_count": null,
   "metadata": {
    "collapsed": false
   },
   "outputs": [],
   "source": []
  },
  {
   "cell_type": "markdown",
   "metadata": {},
   "source": [
    "**Calculate the weekly rolling mean of volume in 2016 (exclude the month of november), using a weekly time period with an order 2 window, and graph the results** "
   ]
  },
  {
   "cell_type": "code",
   "execution_count": null,
   "metadata": {
    "collapsed": false,
    "scrolled": true
   },
   "outputs": [],
   "source": [
    "## In this question I am using the amaz_1 created on the previous step\n",
    "# amaz_1 = amaz_df[(amaz_df.year == 2016) & (amaz_df.month!=11)]\n",
    "# amaz_1.sort_index(ascending=True, inplace=True)\n",
    "\n",
    "weekly_volume.head()"
   ]
  },
  {
   "cell_type": "code",
   "execution_count": null,
   "metadata": {
    "collapsed": false
   },
   "outputs": [],
   "source": [
    "\n",
    "plt.show()"
   ]
  },
  {
   "cell_type": "markdown",
   "metadata": {},
   "source": [
    "### Expanding mean vs rolling mean\n",
    "The **\"expanding mean\"** simply uses all datapoints up to the current time to calculate the mean.\n",
    "\n",
    "Plot the rolling mean and the expanded mean for volume in 2016 (exclude the month of november):"
   ]
  },
  {
   "cell_type": "code",
   "execution_count": null,
   "metadata": {
    "collapsed": false,
    "scrolled": true
   },
   "outputs": [],
   "source": [
    "## In this question I am using the amaz_1 created on the previous step\n",
    "# amaz_1 = amaz_df[(amaz_df.year == 2016) & (amaz_df.month!=11)]\n",
    "# amaz_1.sort_index(ascending=True, inplace=True)\n",
    "\n",
    "\n"
   ]
  },
  {
   "cell_type": "code",
   "execution_count": null,
   "metadata": {
    "collapsed": false
   },
   "outputs": [],
   "source": [
    "plt.figure(figsize=(14,7))\n",
    "\n",
    "\n",
    "\n",
    "plt.legend(loc='upper left')\n",
    "\n",
    "plt.tick_params(labelsize=14)"
   ]
  },
  {
   "cell_type": "markdown",
   "metadata": {},
   "source": [
    "---\n",
    "\n",
    "### Exponentially weighted windows\n",
    "\n",
    "http://pandas.pydata.org/pandas-docs/stable/computation.html#exponentially-weighted-windows\n",
    "\n",
    "---\n",
    "\n",
    "Exponentially weighted windows are one of the most common and effective ways of modeling timeseries data. There is an \"exponential decay\" on the contribution of prior means, making each subsequent previous mean have less of a contribution to the currently modeled mean.\n",
    "\n",
    "The (adjusted) exponentially weighted mean for time $t$ is defined as:\n",
    "\n",
    "### $$ x_t = \\frac{x_t + (1 - \\alpha)x_{t-1} + (1 - \\alpha)^2x_{t-1} + ... + (1 - \\alpha)^{t}x_0} {1 + (1 - \\alpha) + (1 - \\alpha)^2 + ... + (1 - \\alpha)^{t}} $$"
   ]
  },
  {
   "cell_type": "markdown",
   "metadata": {},
   "source": [
    "---\n",
    "\n",
    "**Plot the rolling, expanded, and exponentially weighted mean of volume, as well as the actual volume, for the summer months of 2016:**"
   ]
  },
  {
   "cell_type": "code",
   "execution_count": null,
   "metadata": {
    "collapsed": false
   },
   "outputs": [],
   "source": [
    "amaz_1_summer = amaz_1[(amaz_1.month >=6) & (amaz_1.month<=8)]\n",
    "\n",
    "\n"
   ]
  },
  {
   "cell_type": "code",
   "execution_count": null,
   "metadata": {
    "collapsed": false
   },
   "outputs": [],
   "source": [
    "ax = amaz_1_summer[['volume']].plot(figsize=(14, 7), style='bs-.', lw=2.5)\n",
    "rolling_mean.plot(ax=ax, lw=2.5, color='y')\n",
    "expanding_mean.plot(ax=ax, lw=2.5, color='g')\n",
    "exp_weighted_mean.plot(ax=ax, lw=2.5, color='r')\n",
    "plt.show()"
   ]
  },
  {
   "cell_type": "markdown",
   "metadata": {},
   "source": [
    "---\n",
    "\n",
    "### Pandas.diff() function\n",
    "\n",
    "Another common function is is **`.diff()`**, which takes the difference over time. **`df.diff()`** takes one arugment, `periods`, which is how many prior rows to use for the difference.\n",
    "\n",
    "http://pandas.pydata.org/pandas-docs/stable/generated/pandas.Series.diff.html"
   ]
  },
  {
   "cell_type": "markdown",
   "metadata": {},
   "source": [
    "---\n",
    "** Calculate the order 1 and order 2 differences for volume in 2016:**"
   ]
  },
  {
   "cell_type": "code",
   "execution_count": null,
   "metadata": {
    "collapsed": false
   },
   "outputs": [],
   "source": [
    "# amaz_1 = amaz_df[(amaz_df.year == 2016) & (amaz_df.month!=11)]\n",
    "# amaz_1.sort_index(ascending=True, inplace=True)\n",
    "amaz_1.volume.head(15)"
   ]
  },
  {
   "cell_type": "code",
   "execution_count": null,
   "metadata": {
    "collapsed": false
   },
   "outputs": [],
   "source": []
  },
  {
   "cell_type": "code",
   "execution_count": null,
   "metadata": {
    "collapsed": false
   },
   "outputs": [],
   "source": []
  },
  {
   "cell_type": "markdown",
   "metadata": {},
   "source": [
    "---\n",
    "\n",
    "## Autocorrelation revisited: acf and pacf\n",
    "\n",
    "http://www.itl.nist.gov/div898/handbook/eda/section3/eda35c.htm\n",
    "\n",
    "http://www.ltrr.arizona.edu/~dmeko/notes_3.pdf\n",
    "\n",
    "https://onlinecourses.science.psu.edu/stat510/node/62\n",
    "\n",
    "\n",
    "---\n",
    "\n",
    "### Autocorrelation and the autocorrelation function (acf)\n",
    "\n",
    "Autocorrelation, also known as *serial correlation* and *lagged correlation*, is the correlation of a time series with iteself at different lags.\n",
    "\n",
    "Examples of autocorrelation:\n",
    "\n",
    "    In stock market data the stock price at one point is correlated with the stock \n",
    "    price of the point directly prior in time. \n",
    "    \n",
    "    In sales data (the one used in the lecture), sales on a Saturday are likely correlated with sales on the next Saturday and the previous Saturday, as well as other days to more or less extent.\n",
    "    \n",
    "Autocorrelation in data is something that breaks the assumptions of linear regression, which is why using regression on time series data is typically inappropriate.\n",
    "\n",
    "Below is the formula for the autocorrelation funtion (acf):\n",
    "\n",
    "$\\text{Given measurements } x_1, x_2, x_3 ... x_n \\text{ at time points } t_1, t_2, t_3 ... t_n:$\n",
    "\n",
    "### $$lag_k\\;acf() = \\frac{\\sum_{i=1}^{n-k}\\left(\\left(\\;x_i - \\bar{x}\\;\\right)\\left(\\;x_{i+k} - \\bar{x}\\;\\right)\\right)}{\\sum_{i=1}^n\\left(\\;x_i - \\bar{x}\\;\\right)^2}$$\n",
    "\n",
    "Compare this to the formula for correlation:\n",
    "\n",
    "$\\text{Given measurements } x_1, x_2, x_3 ... x_n \\text{ aand measurements } y_1, y_2, y_3 ... y_n:$\n",
    "\n",
    "### $$r_{xy} = \\frac{\\sum_{i=1}^{n-k}\\left(\\left(\\;x_i - \\bar{x}\\;\\right)\\left(\\;y_{i} - \\bar{y}\\;\\right)\\right)}{\\sqrt{\\left(\\sum_{i=1}^{n}\\left(\\;x_i - \\bar{x}\\;\\right)^2\\sum_{i=1}^n\\left(\\;y_i - \\bar{y}\\;\\right)^2\\right)}}$$\n",
    "\n",
    "---"
   ]
  },
  {
   "cell_type": "markdown",
   "metadata": {},
   "source": [
    "**Calculate and plot the autocorrelation in 2016 for volume:**"
   ]
  },
  {
   "cell_type": "code",
   "execution_count": null,
   "metadata": {
    "collapsed": false
   },
   "outputs": [],
   "source": [
    "# amaz_1 = amaz_df[(amaz_df.year == 2016) & (amaz_df.month!=11)]\n",
    "# amaz_1.sort_index(ascending=True, inplace=True)\n",
    "\n",
    "amaz_1_autocorrelations = [amaz_1.volume.autocorr(lag=1) for l in range(1,31)]\n",
    "print type(amaz_1_autocorrelations)\n",
    "amaz_1_autocorrelations[0:10]"
   ]
  },
  {
   "cell_type": "code",
   "execution_count": null,
   "metadata": {
    "collapsed": false
   },
   "outputs": [],
   "source": [
    "\n",
    "\n",
    "s1autocorr.head(3)"
   ]
  },
  {
   "cell_type": "code",
   "execution_count": null,
   "metadata": {
    "collapsed": false
   },
   "outputs": [],
   "source": [
    "\n",
    "plt.show()"
   ]
  },
  {
   "cell_type": "markdown",
   "metadata": {},
   "source": [
    "---\n",
    "\n",
    "### Partial autocorrelation and partial autocorrelation function (pacf)\n",
    "\n",
    "The partial autocorrelation function (pacf) is similar to the acf; the difference is that the correlations between other lagged timepoints are \"regressed out\" of the correlation for a given lag. Put another way, this is a *conditional correlation*.\n",
    "\n",
    "An intuitive way to think about this is in the context of regression. For a pacf with lag = 2 take two regressions:\n",
    "\n",
    "### $$lm_{t-1} = x_{t} \\sim \\beta_0 + \\beta_1x_{t-1}$$\n",
    "\n",
    "### $$lm_{t-2} = x_{t} \\sim \\beta_0 + \\beta_1x_{t-1} + \\beta_2x_{t-2}$$\n",
    "\n",
    "Then to find the $pacf(\\;x_{t-2}\\;)$ we find **the increase in the variance explained by the second regression over the first one**.\n",
    "\n",
    "More formally, the $pacf$ is defined as:\n",
    "\n",
    "### $$ pacf \\left( x_{t-n} \\right) = \\frac{covariance \\left( x_{t}, \\; x_{t-n} \\; | \\; x_{t-1} ... x_{t-n-1} \\right)} {\\sqrt {\\;  variance \\left( x_{t} \\ ;| \\; x_{t-1} ... x_{t-n-1} \\right) variance \\left( x_{t-n} \\; | \\; x_{t-1} ... x_{t-n-1} \\right) \\; } }$$\n",
    "\n",
    "---"
   ]
  },
  {
   "cell_type": "markdown",
   "metadata": {},
   "source": [
    "Load and use the $pacf()$ and $acf()$ functions from statsmodels as well as their plotting functions:"
   ]
  },
  {
   "cell_type": "code",
   "execution_count": null,
   "metadata": {
    "collapsed": true
   },
   "outputs": [],
   "source": [
    "from statsmodels.tsa.stattools import acf, pacf\n",
    "from statsmodels.graphics.tsaplots import plot_acf, plot_pacf"
   ]
  },
  {
   "cell_type": "markdown",
   "metadata": {},
   "source": [
    "**Calculate and plot the partial autocorrelation and the autocorrelation again using the statsmodels functions:**"
   ]
  },
  {
   "cell_type": "code",
   "execution_count": null,
   "metadata": {
    "collapsed": false
   },
   "outputs": [],
   "source": [
    "\n",
    "plt.show()"
   ]
  },
  {
   "cell_type": "code",
   "execution_count": null,
   "metadata": {
    "collapsed": false,
    "scrolled": false
   },
   "outputs": [],
   "source": [
    "\n",
    "plt.show()"
   ]
  },
  {
   "cell_type": "code",
   "execution_count": null,
   "metadata": {
    "collapsed": true
   },
   "outputs": [],
   "source": []
  }
 ],
 "metadata": {
  "kernelspec": {
   "display_name": "Python [Root]",
   "language": "python",
   "name": "Python [Root]"
  },
  "language_info": {
   "codemirror_mode": {
    "name": "ipython",
    "version": 2
   },
   "file_extension": ".py",
   "mimetype": "text/x-python",
   "name": "python",
   "nbconvert_exporter": "python",
   "pygments_lexer": "ipython2",
   "version": "2.7.12"
  }
 },
 "nbformat": 4,
 "nbformat_minor": 0
}
