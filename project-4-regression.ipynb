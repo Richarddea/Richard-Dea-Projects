{
 "cells": [
  {
   "cell_type": "markdown",
   "metadata": {},
   "source": [
    "<img src=\"http://imgur.com/1ZcRyrc.png\" style=\"float: left; margin: 15px; height: 80px\">\n",
    "\n",
    "# Project 4\n",
    "\n",
    "## San Francisco Data\n",
    "\n",
    "---\n",
    "\n",
    "[San Francisco provides a wealth of data on the city to the public.](https://data.sfgov.org/) Project 4 is all about exploring this data and modeling interesting relationships with regression.\n",
    "\n",
    "Project 4 is also much more open-ended than the previous projects. You are more responsible for finding things about the data that interest you, coming up with your own hypothesis about it, and reporting on the analysis you carry out. That being said, there are still specific requirements and restrictions on the type of models you will be constructing.\n",
    "\n",
    "---\n",
    "\n",
    "## Notes on the data\n",
    "\n",
    "We have gone through the above website and pulled out a variety of different datasets that we think are particularly interesting. Some of the datasets are from external sources as well, but all are related to San Francisco. A high level overview of data folders is provided after the project requirements section.\n",
    "\n",
    "**There is a lot of different data. You are _NOT_ expected to explore all of it or include all of it in analyses.** The point of the project is to focus on aspects of San Francisco that are particularly interesting to you from a modeling point of view. \n",
    "\n",
    "**The uncompressed data is a large filesize.** Even the compressed data is pretty large. The data is compressed into a .7z format which has one of the smallest filesizes available. You will likely need a 3rd party app to extract it. \n",
    "\n",
    "### Recommended Utilities for .7z\n",
    "- For OSX [Keka](http://www.kekaosx.com/en/) or [The Unarchiver](http://wakaba.c3.cx/s/apps/unarchiver.html). \n",
    "- For Windows [7-zip](http://www.7-zip.org/) is the standard. \n",
    "- For Linux try the `p7zip` utility.  `sudo apt-get install p7zip`.\n",
    "\n",
    "---\n",
    "\n",
    "## Project requirements\n",
    "\n",
    "**You will be performing 4 different sections of analysis on the San Francisco data.**\n",
    "\n",
    "**Models must be regression. This means that your target variable needs to be numeric/continuous**\n",
    "\n",
    "Do not perform classification models – this will be the topic of week 4.\n"
   ]
  },
  {
   "cell_type": "markdown",
   "metadata": {},
   "source": [
    "<img src=\"http://imgur.com/l5NasQj.png\" style=\"float: left; margin: 25px 15px 0px 0px; height: 25px\">\n",
    "\n",
    "### 1. Choose a dataset or datasets of interest to you and perform EDA\n",
    "\n",
    "---\n",
    "\n",
    "1. Explain what the data is. This may include multiple csv files. Some of this data has hard to understand codes representing the variables. Nearly all data is pulled from https://data.sfgov.org/ so this is a very good resource for determining what the data is.\n",
    "- Clean the data.\n",
    "- Develop and state clearly a hypothesis about the data that you would want to test.\n",
    "- Create some initial visualizations on the portions of the data relevant to your hypothesis."
   ]
  },
  {
   "cell_type": "code",
   "execution_count": null,
   "metadata": {
    "collapsed": false
   },
   "outputs": [],
   "source": [
    "\n"
   ]
  },
  {
   "cell_type": "code",
   "execution_count": 92,
   "metadata": {
    "collapsed": false
   },
   "outputs": [],
   "source": [
    "import numpy as np\n",
    "import scipy.stats as stats\n",
    "import csv\n",
    "import pandas as pd\n",
    "import seaborn as sns\n",
    "import matplotlib.pyplot as plt\n",
    "% matplotlib inline\n",
    "\n",
    "fire_filepath = '../../../../Richarddea/DSI-SF-3_copy/datasets/san_francisco/san_francisco/fire_data/fire_incidents.csv'\n",
    "sf_fire = pd.read_csv(fire_filepath)\n",
    "assessor = '../../../DSI-SF-3_copy/datasets/san_francisco/san_francisco/assessor_office/assessor_data_2011_2012.csv'\n",
    "sf_assr = pd.read_csv(assessor)"
   ]
  },
  {
   "cell_type": "code",
   "execution_count": 93,
   "metadata": {
    "collapsed": false
   },
   "outputs": [
    {
     "name": "stdout",
     "output_type": "stream",
     "text": [
      "<class 'pandas.core.frame.DataFrame'>\n",
      "RangeIndex: 193758 entries, 0 to 193757\n",
      "Data columns (total 36 columns):\n",
      "PROPLOC       193758 non-null object\n",
      "RP1NBRCDE     193746 non-null object\n",
      "RP1PRCLID     193758 non-null object\n",
      "RP1VOLUME     193758 non-null int64\n",
      "RP1CLACDE     193749 non-null object\n",
      "YRBLT         193758 non-null int64\n",
      "BATHS         193758 non-null int64\n",
      "BEDS          193758 non-null int64\n",
      "ROOMS         193758 non-null int64\n",
      "STOREYNO      193758 non-null int64\n",
      "UNITS         193758 non-null int64\n",
      "CHGDATE       193758 non-null int64\n",
      "ZONE          167294 non-null object\n",
      "CONSTTYPE     162811 non-null object\n",
      "DEPTH         193758 non-null float64\n",
      "FRONT         193758 non-null float64\n",
      "SQFT          193758 non-null int64\n",
      "FBA           193757 non-null float64\n",
      "LAREA         193757 non-null float64\n",
      "LOTCODE       68852 non-null object\n",
      "REPRISDATE    0 non-null float64\n",
      "RP1RECDAT1    193757 non-null float64\n",
      "RP1DOCNO1     77742 non-null object\n",
      "RP1DOCNO2     193757 non-null float64\n",
      "RP1TRACDE     193337 non-null float64\n",
      "OWNRPRCNT     193757 non-null float64\n",
      "EXEMPTYPE     88493 non-null object\n",
      "RP1STACDE     3082 non-null object\n",
      "RP1EXMVL2     193757 non-null float64\n",
      "RP1EXMVL1     193757 non-null float64\n",
      "ROLLYEAR      193757 non-null float64\n",
      "RECURRSALD    193757 non-null float64\n",
      "RP1FXTVAL     193757 non-null float64\n",
      "RP1IMPVAL     193757 non-null float64\n",
      "RP1LNDVAL     193757 non-null float64\n",
      "RP1PPTVAL     193757 non-null float64\n",
      "dtypes: float64(17), int64(9), object(10)\n",
      "memory usage: 53.2+ MB\n"
     ]
    }
   ],
   "source": [
    "sf_assr.info()"
   ]
  },
  {
   "cell_type": "code",
   "execution_count": 94,
   "metadata": {
    "collapsed": false
   },
   "outputs": [
    {
     "data": {
      "text/plain": [
       "property_location_code         0\n",
       "neighborhood_code             12\n",
       "neighborhood                   0\n",
       "volume_number                  0\n",
       "property_class_code            9\n",
       "year_built                     0\n",
       "number_of_bathrooms            0\n",
       "number_of_bedrooms             0\n",
       "number_of_rooms                0\n",
       "number_of_stories              0\n",
       "number_of_units                0\n",
       "char_change_date               0\n",
       "zoning_code                26464\n",
       "construction_type          30947\n",
       "lot_depth                      0\n",
       "lot_frontage                   0\n",
       "property_sqft                  0\n",
       "basement_area                  1\n",
       "lot_area                       1\n",
       "lot_code                  124906\n",
       "prior_sale_date           193758\n",
       "recordation_date               1\n",
       "document_1                116016\n",
       "document_2                     1\n",
       "tax_rate_area_code           421\n",
       "percentage_own                 1\n",
       "exempt_type               105265\n",
       "status_code               190676\n",
       "misc_exempt_value              1\n",
       "home_exempt_value              1\n",
       "misc                           1\n",
       "current_sale_date              1\n",
       "fixture_value                  1\n",
       "improv_value                   1\n",
       "land_value                     1\n",
       "personal_prop_value            1\n",
       "dtype: int64"
      ]
     },
     "execution_count": 94,
     "metadata": {},
     "output_type": "execute_result"
    }
   ],
   "source": [
    "column_names = ['property_location_code','neighborhood_code','neighborhood','volume_number','property_class_code',\n",
    "                'year_built','number_of_bathrooms','number_of_bedrooms','number_of_rooms','number_of_stories','number_of_units',\n",
    "                'char_change_date','zoning_code','construction_type','lot_depth','lot_frontage','property_sqft','basement_area',\n",
    "                'lot_area','lot_code','prior_sale_date','recordation_date','document_1',\n",
    "                'document_2','tax_rate_area_code','percentage_own','exempt_type','status_code',\n",
    "                'misc_exempt_value','home_exempt_value','misc','current_sale_date','fixture_value',\n",
    "                'improv_value','land_value','personal_prop_value']\n",
    "sf_assr.columns = column_names\n",
    "sf_assr.isnull().sum()"
   ]
  },
  {
   "cell_type": "code",
   "execution_count": null,
   "metadata": {
    "collapsed": false
   },
   "outputs": [],
   "source": []
  },
  {
   "cell_type": "code",
   "execution_count": 96,
   "metadata": {
    "collapsed": false
   },
   "outputs": [],
   "source": [
    "sf_assr = sf_assr.drop('zoning_code', 1)\n",
    "sf_assr = sf_assr.drop('construction_type', 1)\n",
    "sf_assr = sf_assr.drop('lot_code', 1)\n",
    "sf_assr = sf_assr.drop('prior_sale_date', 1)\n",
    "sf_assr = sf_assr.drop('document_1', 1)\n",
    "sf_assr = sf_assr.drop('exempt_type', 1)\n",
    "sf_assr = sf_assr.drop('status_code', 1)\n",
    "sf_assr = sf_assr.drop('prior_sale_date', 1)\n"
   ]
  },
  {
   "cell_type": "code",
   "execution_count": 97,
   "metadata": {
    "collapsed": false
   },
   "outputs": [
    {
     "name": "stdout",
     "output_type": "stream",
     "text": [
      "Index([u'property_location_code', u'neighborhood_code', u'neighborhood',\n",
      "       u'volume_number', u'property_class_code', u'year_built',\n",
      "       u'number_of_bathrooms', u'number_of_bedrooms', u'number_of_rooms',\n",
      "       u'number_of_stories', u'number_of_units', u'char_change_date',\n",
      "       u'lot_depth', u'lot_frontage', u'property_sqft', u'basement_area',\n",
      "       u'lot_area', u'recordation_date', u'document_2', u'tax_rate_area_code',\n",
      "       u'percentage_own', u'misc_exempt_value', u'home_exempt_value', u'misc',\n",
      "       u'current_sale_date', u'fixture_value', u'improv_value', u'land_value',\n",
      "       u'personal_prop_value'],\n",
      "      dtype='object')\n",
      "land_value\n"
     ]
    }
   ],
   "source": [
    "print sf_assr.columns\n",
    "print sf_assr.columns[27]"
   ]
  },
  {
   "cell_type": "code",
   "execution_count": 98,
   "metadata": {
    "collapsed": false
   },
   "outputs": [
    {
     "data": {
      "image/png": "[encoded data removed]",
      "text/plain": [
       "<matplotlib.figure.Figure at 0x119313dd0>"
      ]
     },
     "metadata": {},
     "output_type": "display_data"
    }
   ],
   "source": [
    "mean_corr = sf_assr[[x for x in sf_assr.columns if x not in 'Land_value']].corr()\n",
    "\n",
    "plt.rcParams['figure.figsize']=(9,7)\n",
    "\n",
    "mask = np.zeros_like(mean_corr, dtype=np.bool)\n",
    "mask[np.triu_indices_from(mask)] = True\n",
    "\n",
    "ax = sns.heatmap(mean_corr, mask=mask)\n",
    "\n",
    "ax.set_xticklabels(ax.xaxis.get_ticklabels(), fontsize=14)\n",
    "ax.set_yticklabels(ax.yaxis.get_ticklabels(), fontsize=14)\n",
    "\n",
    "plt.show()"
   ]
  },
  {
   "cell_type": "markdown",
   "metadata": {},
   "source": [
    "<img src=\"http://imgur.com/l5NasQj.png\" style=\"float: left; margin: 25px 15px 0px 0px; height: 25px\">\n",
    "\n",
    "### 2. Construct and evaluate a linear regression model on the data\n",
    "\n",
    "---\n",
    "\n",
    "1. State the variables that are predictors in your linear regression and the target variable.\n",
    "- Investigate and remove any outliers or other problems in your data. _This is a subjective process._\n",
    "- Construct a linear regression model.\n",
    "- Evaluate the model. How does the $R^2$ of the overall model compare to cross-validated $R^2$. What do the differences in $R^2$ mean?\n",
    "  - Use test / train split\n",
    "  - Use K-Folds\n",
    "  - Compare and explain your results with both\n",
    "- Visualize the evaluation metrics of your analysis in clear charts.\n",
    "- Summarize your results in the context of your hypothesis. Frame this as if you are presenting to non-technical readers.\n"
   ]
  },
  {
   "cell_type": "code",
   "execution_count": 99,
   "metadata": {
    "collapsed": false
   },
   "outputs": [],
   "source": [
    "sf_assr.loc[sf_assr['lot_area'].isnull()]\n",
    "\n",
    "sf_assr = sf_assr.drop(sf_assr.index[[193757]])"
   ]
  },
  {
   "cell_type": "code",
   "execution_count": 100,
   "metadata": {
    "collapsed": true
   },
   "outputs": [],
   "source": [
    "from sklearn import datasets, linear_model\n",
    "from sklearn.metrics import mean_squared_error"
   ]
  },
  {
   "cell_type": "code",
   "execution_count": 102,
   "metadata": {
    "collapsed": false
   },
   "outputs": [
    {
     "name": "stdout",
     "output_type": "stream",
     "text": [
      "(193757,) (193757, 1)\n"
     ]
    }
   ],
   "source": [
    "lm = linear_model.LinearRegression() \n",
    "\n",
    "target = 'land_value'\n",
    "y = sf_assr[target]\n",
    "\n",
    "X = sf_assr[['lot_area']]\n",
    "\n",
    "print y.shape, X.shape"
   ]
  },
  {
   "cell_type": "code",
   "execution_count": 103,
   "metadata": {
    "collapsed": false
   },
   "outputs": [
    {
     "data": {
      "text/plain": [
       "(193757,)"
      ]
     },
     "execution_count": 103,
     "metadata": {},
     "output_type": "execute_result"
    }
   ],
   "source": [
    "model = lm.fit(X, y)\n",
    "\n",
    "predictions = lm.predict(X)\n",
    "predictions.shape"
   ]
  },
  {
   "cell_type": "code",
   "execution_count": 104,
   "metadata": {
    "collapsed": false
   },
   "outputs": [
    {
     "name": "stdout",
     "output_type": "stream",
     "text": [
      "0.000107229197968\n",
      "[ 0.16038311]\n",
      "369495.729333\n",
      "4.62151551018e+12\n"
     ]
    }
   ],
   "source": [
    "R2_score = model.score(X, y)\n",
    "print R2_score\n",
    "\n",
    "print model.coef_\n",
    "print lm.intercept_\n",
    "print mean_squared_error(y, predictions)"
   ]
  },
  {
   "cell_type": "markdown",
   "metadata": {},
   "source": [
    "<img src=\"http://imgur.com/xDpSobf.png\" style=\"float: left; margin: 25px 15px 0px 0px; height: 25px\">\n",
    "\n",
    "### 2.2 Explain $R^2$ vs. mean squared error (MSE)\n",
    "\n",
    "---\n",
    "\n",
    "1. If you have negative $R^2$ values in cross-validation, what does this mean? \n",
    "2. Why can $R^2$ only be negative when the model is tested on new data?"
   ]
  },
  {
   "cell_type": "code",
   "execution_count": null,
   "metadata": {
    "collapsed": false
   },
   "outputs": [],
   "source": []
  },
  {
   "cell_type": "code",
   "execution_count": null,
   "metadata": {
    "collapsed": false
   },
   "outputs": [],
   "source": []
  },
  {
   "cell_type": "markdown",
   "metadata": {},
   "source": [
    "<img src=\"http://imgur.com/l5NasQj.png\" style=\"float: left; margin: 25px 15px 0px 0px; height: 25px\">\n",
    "\n",
    "### 3. Combine multiple sources of data and evaluate a model with regularized regression\n",
    "\n",
    "---\n",
    "\n",
    "**I recommend having many predictors to see benefits from regularization methods, but it's up to you.**\n",
    "\n",
    "1. Use _NEW_ sources of data for this section. It should not be related to your analysis/hypothesis from section 1.\n",
    "- Like in part 1, you should state a hypothesis and perform data cleaning and EDA _only_ on the relevant portions of your data. Don't waste time!\n",
    "- Construct and evaluate different models with cross-validated $R^2$. Compare LinearRegression, Lasso, Ridge, and ElasticNet. Find the optimal hyperparameters (alpha, l1_ratio) using gridsearch.\n",
    "- Report on which model is best, and why that might be the case (hint: does your data have multicollinearity? Irrelevant variables? Both?)\n",
    "- Plot visuals that compare the performance of the four models.\n"
   ]
  },
  {
   "cell_type": "code",
   "execution_count": 108,
   "metadata": {
    "collapsed": false
   },
   "outputs": [
    {
     "data": {
      "text/plain": [
       "(193757, 21)"
      ]
     },
     "execution_count": 108,
     "metadata": {},
     "output_type": "execute_result"
    }
   ],
   "source": [
    "sf_assr = sf_assr.drop('tax_rate_area_code',1)\n",
    "sf_assr = sf_assr.drop('lot_area',1)\n",
    "sf_assr = sf_assr.drop('misc',1)\n",
    "\n",
    "columns = sf_assr.select_dtypes(['object']).columns\n",
    "sf_assr = sf_assr.drop(columns,inplace=False,axis=1)\n",
    "\n",
    "target = sf_assr[\"land_value\"]\n",
    "pred = sf_assr.drop('land_value', 1)\n",
    "pred.shape"
   ]
  },
  {
   "cell_type": "code",
   "execution_count": 109,
   "metadata": {
    "collapsed": false
   },
   "outputs": [
    {
     "data": {
      "text/plain": [
       "volume_number          0\n",
       "year_built             0\n",
       "number_of_bathrooms    0\n",
       "number_of_bedrooms     0\n",
       "number_of_rooms        0\n",
       "number_of_stories      0\n",
       "number_of_units        0\n",
       "char_change_date       0\n",
       "lot_depth              0\n",
       "lot_frontage           0\n",
       "property_sqft          0\n",
       "basement_area          0\n",
       "recordation_date       0\n",
       "document_2             0\n",
       "percentage_own         0\n",
       "misc_exempt_value      0\n",
       "home_exempt_value      0\n",
       "current_sale_date      0\n",
       "fixture_value          0\n",
       "improv_value           0\n",
       "personal_prop_value    0\n",
       "dtype: int64"
      ]
     },
     "execution_count": 109,
     "metadata": {},
     "output_type": "execute_result"
    }
   ],
   "source": [
    "pred = (pred - pred.mean()) / pred.std()\n",
    "pred.isnull().sum()"
   ]
  },
  {
   "cell_type": "code",
   "execution_count": 110,
   "metadata": {
    "collapsed": false
   },
   "outputs": [
    {
     "name": "stdout",
     "output_type": "stream",
     "text": [
      "[  2.51621256e-01   7.33009512e-01   6.33086065e-01   1.25861550e-01\n",
      "   3.06670077e-01   2.41527420e-01   1.87344244e-01   3.30911094e-01\n",
      "   3.66966869e-01   5.67732310e-01  -2.89433484e-02  -1.07136736e+01\n",
      "   3.68947284e-01   4.20845475e-01  -1.22390695e+00  -2.58921978e+00\n",
      "   5.39005963e-01   6.12497717e-01   1.91278231e-01   3.45751991e-01\n",
      "   5.50785817e-01  -6.87191459e+01  -1.24999451e-01   2.25330987e-01\n",
      "   2.54021287e-01]\n"
     ]
    }
   ],
   "source": [
    "from sklearn import linear_model\n",
    "from sklearn.cross_validation import KFold, cross_val_score\n",
    "from sklearn.preprocessing import StandardScaler\n",
    "from sklearn.linear_model import LinearRegression\n",
    "sf_assr_norm = StandardScaler()\n",
    "predictor_standard_scaler = sf_assr_norm.fit_transform(pred)\n",
    "predictor_col = dict(enumerate(pred.columns))\n",
    "predictor_col\n",
    "\n",
    "lr = LinearRegression()\n",
    "\n",
    "lr.fit(pred, target)\n",
    "scores = cross_val_score(lr, pred, target, cv=25)\n",
    "\n",
    "print scores"
   ]
  },
  {
   "cell_type": "code",
   "execution_count": 111,
   "metadata": {
    "collapsed": false
   },
   "outputs": [
    {
     "ename": "ValueError",
     "evalue": "all the input arrays must have same number of dimensions",
     "output_type": "error",
     "traceback": [
      "\u001b[0;31m---------------------------------------------------------------------------\u001b[0m",
      "\u001b[0;31mValueError\u001b[0m                                Traceback (most recent call last)",
      "\u001b[0;32m<ipython-input-111-3f3089943119>\u001b[0m in \u001b[0;36m<module>\u001b[0;34m()\u001b[0m\n\u001b[1;32m     14\u001b[0m \u001b[0my_log\u001b[0m \u001b[0;34m=\u001b[0m \u001b[0mnp\u001b[0m\u001b[0;34m.\u001b[0m\u001b[0mlog1p\u001b[0m\u001b[0;34m(\u001b[0m\u001b[0my\u001b[0m\u001b[0;34m)\u001b[0m\u001b[0;34m.\u001b[0m\u001b[0mvalues\u001b[0m\u001b[0;34m\u001b[0m\u001b[0m\n\u001b[1;32m     15\u001b[0m \u001b[0;34m\u001b[0m\u001b[0m\n\u001b[0;32m---> 16\u001b[0;31m \u001b[0mX\u001b[0m \u001b[0;34m=\u001b[0m \u001b[0mnp\u001b[0m\u001b[0;34m.\u001b[0m\u001b[0mhstack\u001b[0m\u001b[0;34m(\u001b[0m\u001b[0;34m(\u001b[0m\u001b[0mX_rest\u001b[0m\u001b[0;34m,\u001b[0m \u001b[0mX_cat\u001b[0m\u001b[0;34m)\u001b[0m\u001b[0;34m)\u001b[0m\u001b[0;34m\u001b[0m\u001b[0m\n\u001b[0m\u001b[1;32m     17\u001b[0m \u001b[0;34m\u001b[0m\u001b[0m\n\u001b[1;32m     18\u001b[0m \u001b[0mX_train\u001b[0m\u001b[0;34m,\u001b[0m \u001b[0mX_test\u001b[0m\u001b[0;34m,\u001b[0m \u001b[0my_train\u001b[0m\u001b[0;34m,\u001b[0m \u001b[0my_test\u001b[0m \u001b[0;34m=\u001b[0m \u001b[0mtrain_test_split\u001b[0m\u001b[0;34m(\u001b[0m\u001b[0mX\u001b[0m\u001b[0;34m,\u001b[0m \u001b[0my_log\u001b[0m\u001b[0;34m)\u001b[0m\u001b[0;34m\u001b[0m\u001b[0m\n",
      "\u001b[0;32m//anaconda/envs/dsi/lib/python2.7/site-packages/numpy/core/shape_base.pyc\u001b[0m in \u001b[0;36mhstack\u001b[0;34m(tup)\u001b[0m\n\u001b[1;32m    278\u001b[0m         \u001b[0;32mreturn\u001b[0m \u001b[0m_nx\u001b[0m\u001b[0;34m.\u001b[0m\u001b[0mconcatenate\u001b[0m\u001b[0;34m(\u001b[0m\u001b[0marrs\u001b[0m\u001b[0;34m,\u001b[0m \u001b[0;36m0\u001b[0m\u001b[0;34m)\u001b[0m\u001b[0;34m\u001b[0m\u001b[0m\n\u001b[1;32m    279\u001b[0m     \u001b[0;32melse\u001b[0m\u001b[0;34m:\u001b[0m\u001b[0;34m\u001b[0m\u001b[0m\n\u001b[0;32m--> 280\u001b[0;31m         \u001b[0;32mreturn\u001b[0m \u001b[0m_nx\u001b[0m\u001b[0;34m.\u001b[0m\u001b[0mconcatenate\u001b[0m\u001b[0;34m(\u001b[0m\u001b[0marrs\u001b[0m\u001b[0;34m,\u001b[0m \u001b[0;36m1\u001b[0m\u001b[0;34m)\u001b[0m\u001b[0;34m\u001b[0m\u001b[0m\n\u001b[0m\u001b[1;32m    281\u001b[0m \u001b[0;34m\u001b[0m\u001b[0m\n\u001b[1;32m    282\u001b[0m \u001b[0;32mdef\u001b[0m \u001b[0mstack\u001b[0m\u001b[0;34m(\u001b[0m\u001b[0marrays\u001b[0m\u001b[0;34m,\u001b[0m \u001b[0maxis\u001b[0m\u001b[0;34m=\u001b[0m\u001b[0;36m0\u001b[0m\u001b[0;34m)\u001b[0m\u001b[0;34m:\u001b[0m\u001b[0;34m\u001b[0m\u001b[0m\n",
      "\u001b[0;31mValueError\u001b[0m: all the input arrays must have same number of dimensions"
     ]
    }
   ],
   "source": [
    "from sklearn.cross_validation import train_test_split\n",
    "from sklearn.linear_model import LinearRegression\n",
    "from sklearn.metrics import mean_squared_error\n",
    "from sklearn.linear_model import RidgeCV, LassoCV, ElasticNetCV\n",
    "from __future__ import division\n",
    "\n",
    "target = sf_assr[\"land_value\"]\n",
    "pred = sf_assr.drop('land_value', 1)\n",
    "\n",
    "X_rest = pred\n",
    "X_cat = np.log1p(y).values\n",
    "\n",
    "y = target\n",
    "y_log = np.log1p(y).values\n",
    "\n",
    "X = np.hstack((X_rest, X_cat))\n",
    "\n",
    "X_train, X_test, y_train, y_test = train_test_split(X, y_log)\n",
    "\n",
    "first_reg = LinearRegression()\n",
    "first_reg.fit(X_train, y_train)\n",
    "y_pred = first_reg.predict(X_test)\n",
    "\n",
    "ridge_prices = RidgeCV(store_cv_values=False)\n",
    "ridge_prices.fit(X_train, y_train)\n",
    "\n",
    "y_train_ridge_pred = ridge_prices.predict(X_train)\n",
    "y_test_ridge_pred = ridge_prices.predict(X_test)\n",
    "\n"
   ]
  },
  {
   "cell_type": "markdown",
   "metadata": {},
   "source": [
    "<img src=\"http://imgur.com/l5NasQj.png\" style=\"float: left; margin: 25px 15px 0px 0px; height: 25px\">\n",
    "\n",
    "### 4. Conduct another, different analysis and report on it\n",
    "\n",
    "---\n",
    "\n",
    "1. Combining multiple sources of data (csv files) is required.\n",
    "- Perform EDA and cleaning on relevant data.\n",
    "- Construct and compare different regression models with cross-validation.\n",
    "- Plot descriptive visuals you think are useful for understanding the data.\n",
    "- Report on your findings.\n",
    "\n",
    "This section is just another analysis like the first sections, but is more open-ended in what models you decide to build and why. Don't feel obligated to try every out every regularized regression model (though it doesn't hurt). \n"
   ]
  },
  {
   "cell_type": "code",
   "execution_count": 112,
   "metadata": {
    "collapsed": false
   },
   "outputs": [
    {
     "data": {
      "text/plain": [
       "(193757, 21)"
      ]
     },
     "execution_count": 112,
     "metadata": {},
     "output_type": "execute_result"
    }
   ],
   "source": [
    "columns = sf_assr.select_dtypes(['object']).columns\n",
    "sf_assr_2 = sf_assr.drop(columns,inplace=False,axis=1)\n",
    "\n",
    "target_2 = sf_assr[\"property_sqft\"]\n",
    "pred_2 = sf_assr.drop('property_sqft', 1)\n",
    "pred_2.shape"
   ]
  },
  {
   "cell_type": "code",
   "execution_count": 113,
   "metadata": {
    "collapsed": false
   },
   "outputs": [],
   "source": [
    "pred_2 = (pred_2 - pred_2.mean()) / pred_2.std()"
   ]
  },
  {
   "cell_type": "code",
   "execution_count": 114,
   "metadata": {
    "collapsed": false
   },
   "outputs": [
    {
     "name": "stdout",
     "output_type": "stream",
     "text": [
      "[ 1.  1.  1.  1.  1.  1.  1.  1.  1.  1.]\n"
     ]
    }
   ],
   "source": [
    "sf_assr_norm_2 = StandardScaler()\n",
    "pred_standard_scaler_2 = sf_assr_norm.fit_transform(pred_2)\n",
    "pred_col = dict(enumerate(pred_2.columns))\n",
    "pred_col\n",
    "\n",
    "lr.fit(pred_2, target)\n",
    "scores = cross_val_score(lr, pred_2, target, cv=10)\n",
    "\n",
    "print scores"
   ]
  },
  {
   "cell_type": "markdown",
   "metadata": {},
   "source": [
    "<img src=\"http://imgur.com/xDpSobf.png\" style=\"float: left; margin: 25px 15px 0px 0px; height: 25px\">\n",
    "\n",
    "### 4.2 Ploting GridSearch with Lasso, Ridge, or Elasticnet\n",
    "---\n",
    "1. Using the gridsearch results, plot your score in relation to your parameters.\n",
    "1. Plot the effect on your coefficients given alpha.\n",
    "1. Plot any other parameter change to visualize the impact of any other hyperparameter.\n",
    "\n",
    "It's helpful to understand the impact of parameters used in Gridsearch, and that you are comfortable working with the data that is generated for reporting to explore the results visually."
   ]
  },
  {
   "cell_type": "code",
   "execution_count": null,
   "metadata": {
    "collapsed": true
   },
   "outputs": [],
   "source": []
  },
  {
   "cell_type": "markdown",
   "metadata": {},
   "source": [
    "<img src=\"http://imgur.com/GCAf1UX.png\" style=\"float: left; margin: 25px 15px 0px 0px; height: 25px\">\n",
    "\n",
    "## 5. Bias-variance tradeoff\n",
    "\n",
    "---\n",
    "\n",
    "1. Select San Francisco data of your choice and construct a regularized regression model (this can be data from an earlier analysis if you like). Ideally the model should actually improve across regularization strengths...\n",
    "- Gridsearch the regularization parameters to find the optimal.\n",
    "- Plot the regularization parameter against the cross-validated $R^2$.\n",
    "- Explain how regularization and regularization strength is related to the bias-variance tradeoff.\n"
   ]
  },
  {
   "cell_type": "code",
   "execution_count": null,
   "metadata": {
    "collapsed": true
   },
   "outputs": [],
   "source": []
  },
  {
   "cell_type": "markdown",
   "metadata": {},
   "source": [
    "<img src=\"http://imgur.com/xDpSobf.png\" style=\"float: left; margin: 25px 15px 0px 0px; height: 25px\">\n",
    "\n",
    "### 5.1 Calculate the approximated $\\text{bias}^2$ and variance across regularization strengths.\n",
    "\n",
    "---\n",
    "\n",
    "You can obviously use my code from the bias-variance lab to do this. \n",
    "\n",
    "Plot the bias and variance change _with_ the cross-validated $R^2$. \n",
    "\n",
    "You'll need to scale these values somehow to put them on the same chart (I recommend (MinMaxScaler)[http://scikit-learn.org/stable/modules/generated/sklearn.preprocessing.MinMaxScaler.html] to put $\\text{bias}^2$ and variance on the same scale as cross-validated $R^2$."
   ]
  },
  {
   "cell_type": "code",
   "execution_count": null,
   "metadata": {
    "collapsed": true
   },
   "outputs": [],
   "source": []
  },
  {
   "cell_type": "markdown",
   "metadata": {},
   "source": [
    "<img src=\"http://imgur.com/HNPKfE8.png\" style=\"float: left; margin: 25px 15px 0px 0px; height: 25px\">\n",
    "\n",
    "## 6. Custom regularized regression penalties\n",
    "\n",
    "---\n",
    "\n",
    "The $\\lambda1$ and $\\lambda2$ norm regularization penalties (Lasso and Ridge) are the most commonly used regularization penalties. They have a solid foundation in statistics and evidence of effectiveness. However, these are not the only possible penalties for regression – sometimes new, customized penalties give additional performance and predictive power to models depending on the context.\n",
    "\n",
    "\n",
    "**Devise of and implement a penalized regression for San Francisco data.** What is your rationale – why would this be useful? How does it perform compared to the standard Ridge, Lasso, and Elastic Net penalties?"
   ]
  },
  {
   "cell_type": "markdown",
   "metadata": {
    "collapsed": true
   },
   "source": [
    "## Statistics, Biases, and Hypothesis Testing"
   ]
  },
  {
   "cell_type": "markdown",
   "metadata": {},
   "source": [
    "<img src=\"http://imgur.com/l5NasQj.png\" style=\"float: left; margin: 25px 15px 0px 0px; height: 25px\">\n",
    "\n",
    "## 7. Biases \n",
    "\n",
    "---\n",
    "A new food ordering smartphone app incentivizes its users to invite their friends by offering them free orders for each friend that signs up\n",
    "- What biases are being caused here?\n",
    "- How would you measure the success of such a program?\n",
    "- Rephrase this question to be unbiased\n",
    "- Many people have said that there is a need for stricter laws on dangerous weapons. Do you agree?"
   ]
  },
  {
   "cell_type": "markdown",
   "metadata": {},
   "source": [
    "### 7. Biases Answers ###\n",
    "\n",
    "The bias is that it's only attracting users that are using it for free orders and not actual customers. \n",
    "\n",
    "Success can be measured by the number of users that joined the app from the free orders and are coming back to re-order more food using this app.\n",
    "\n",
    "Do you agree that there is a need for stricter law on dangerous weapons?\n",
    "    - when you add that many people have said it, it makes the person that you are asking bias as they may \n",
    "      agree since they do not want to be out of the norm."
   ]
  },
  {
   "cell_type": "markdown",
   "metadata": {},
   "source": [
    "<img src=\"http://imgur.com/l5NasQj.png\" style=\"float: left; margin: 25px 15px 0px 0px; height: 25px\">\n",
    "\n",
    "## 8. Hypothesis Testing \n",
    "\n",
    "---\n",
    "\n",
    "For the health/mortality data that Ferris used in class: \n",
    "- Generate summary statistics, histogram plots, cdf plots, and confidence intervals for two columns of your choice and a correlation matrix across all\n",
    "- Using what you generated, provide short summaries of each column describing the data\n",
    "- Is there a difference in mortality between smokers, nonsmokers?\n",
    "- If national average weight is 85 pounds, is our weight average significantly different?\n",
    "- Until now, we’ve only asked is it different. This is called a two sided test. \n",
    "    - What if we want to know if its less than or greater than? This is called a one sided test. We can calculate this from the result of a two sided. You divide your p value in half and check if your t statistic is positive or negative Greater than: p/2 < confidence level and t > 0 and Less-than: p/2 < confidence level and t < 0.\n",
    "    \n",
    "\n",
    "- If national average weight is 85 pounds, is our weight average statistical significantly less?"
   ]
  },
  {
   "cell_type": "code",
   "execution_count": 115,
   "metadata": {
    "collapsed": true
   },
   "outputs": [],
   "source": [
    "import matplotlib as plt\n",
    "%matplotlib inline\n",
    "\n",
    "health_data = pd.read_csv('http://assets.datacamp.com/blog_assets/chol.txt', sep=' ')\n"
   ]
  },
  {
   "cell_type": "code",
   "execution_count": 116,
   "metadata": {
    "collapsed": false
   },
   "outputs": [
    {
     "data": {
      "text/html": [
       "<div>\n",
       "<table border=\"1\" class=\"dataframe\">\n",
       "  <thead>\n",
       "    <tr style=\"text-align: right;\">\n",
       "      <th></th>\n",
       "      <th>AGE</th>\n",
       "      <th>HEIGHT</th>\n",
       "      <th>WEIGHT</th>\n",
       "      <th>CHOL</th>\n",
       "      <th>SMOKE</th>\n",
       "      <th>BLOOD</th>\n",
       "      <th>MORT</th>\n",
       "    </tr>\n",
       "  </thead>\n",
       "  <tbody>\n",
       "    <tr>\n",
       "      <th>0</th>\n",
       "      <td>20</td>\n",
       "      <td>176</td>\n",
       "      <td>77</td>\n",
       "      <td>195</td>\n",
       "      <td>nonsmo</td>\n",
       "      <td>b</td>\n",
       "      <td>alive</td>\n",
       "    </tr>\n",
       "    <tr>\n",
       "      <th>1</th>\n",
       "      <td>53</td>\n",
       "      <td>167</td>\n",
       "      <td>56</td>\n",
       "      <td>250</td>\n",
       "      <td>sigare</td>\n",
       "      <td>o</td>\n",
       "      <td>dead</td>\n",
       "    </tr>\n",
       "    <tr>\n",
       "      <th>2</th>\n",
       "      <td>44</td>\n",
       "      <td>170</td>\n",
       "      <td>80</td>\n",
       "      <td>304</td>\n",
       "      <td>sigare</td>\n",
       "      <td>a</td>\n",
       "      <td>dead</td>\n",
       "    </tr>\n",
       "    <tr>\n",
       "      <th>3</th>\n",
       "      <td>37</td>\n",
       "      <td>173</td>\n",
       "      <td>89</td>\n",
       "      <td>178</td>\n",
       "      <td>nonsmo</td>\n",
       "      <td>o</td>\n",
       "      <td>alive</td>\n",
       "    </tr>\n",
       "    <tr>\n",
       "      <th>4</th>\n",
       "      <td>26</td>\n",
       "      <td>170</td>\n",
       "      <td>71</td>\n",
       "      <td>206</td>\n",
       "      <td>sigare</td>\n",
       "      <td>o</td>\n",
       "      <td>alive</td>\n",
       "    </tr>\n",
       "  </tbody>\n",
       "</table>\n",
       "</div>"
      ],
      "text/plain": [
       "   AGE  HEIGHT  WEIGHT  CHOL   SMOKE BLOOD   MORT\n",
       "0   20     176      77   195  nonsmo     b  alive\n",
       "1   53     167      56   250  sigare     o   dead\n",
       "2   44     170      80   304  sigare     a   dead\n",
       "3   37     173      89   178  nonsmo     o  alive\n",
       "4   26     170      71   206  sigare     o  alive"
      ]
     },
     "execution_count": 116,
     "metadata": {},
     "output_type": "execute_result"
    }
   ],
   "source": [
    "health_data.head()"
   ]
  },
  {
   "cell_type": "code",
   "execution_count": 117,
   "metadata": {
    "collapsed": false
   },
   "outputs": [
    {
     "data": {
      "text/html": [
       "<div>\n",
       "<table border=\"1\" class=\"dataframe\">\n",
       "  <thead>\n",
       "    <tr style=\"text-align: right;\">\n",
       "      <th></th>\n",
       "      <th>AGE</th>\n",
       "      <th>HEIGHT</th>\n",
       "      <th>WEIGHT</th>\n",
       "      <th>CHOL</th>\n",
       "    </tr>\n",
       "  </thead>\n",
       "  <tbody>\n",
       "    <tr>\n",
       "      <th>AGE</th>\n",
       "      <td>1.000000</td>\n",
       "      <td>-0.274894</td>\n",
       "      <td>0.053034</td>\n",
       "      <td>0.454691</td>\n",
       "    </tr>\n",
       "    <tr>\n",
       "      <th>HEIGHT</th>\n",
       "      <td>-0.274894</td>\n",
       "      <td>1.000000</td>\n",
       "      <td>0.491970</td>\n",
       "      <td>-0.287539</td>\n",
       "    </tr>\n",
       "    <tr>\n",
       "      <th>WEIGHT</th>\n",
       "      <td>0.053034</td>\n",
       "      <td>0.491970</td>\n",
       "      <td>1.000000</td>\n",
       "      <td>-0.034337</td>\n",
       "    </tr>\n",
       "    <tr>\n",
       "      <th>CHOL</th>\n",
       "      <td>0.454691</td>\n",
       "      <td>-0.287539</td>\n",
       "      <td>-0.034337</td>\n",
       "      <td>1.000000</td>\n",
       "    </tr>\n",
       "  </tbody>\n",
       "</table>\n",
       "</div>"
      ],
      "text/plain": [
       "             AGE    HEIGHT    WEIGHT      CHOL\n",
       "AGE     1.000000 -0.274894  0.053034  0.454691\n",
       "HEIGHT -0.274894  1.000000  0.491970 -0.287539\n",
       "WEIGHT  0.053034  0.491970  1.000000 -0.034337\n",
       "CHOL    0.454691 -0.287539 -0.034337  1.000000"
      ]
     },
     "execution_count": 117,
     "metadata": {},
     "output_type": "execute_result"
    }
   ],
   "source": [
    "health_data.corr()"
   ]
  },
  {
   "cell_type": "code",
   "execution_count": 118,
   "metadata": {
    "collapsed": false
   },
   "outputs": [
    {
     "data": {
      "text/plain": [
       "array([[<matplotlib.axes._subplots.AxesSubplot object at 0x117c2e250>,\n",
       "        <matplotlib.axes._subplots.AxesSubplot object at 0x11745add0>],\n",
       "       [<matplotlib.axes._subplots.AxesSubplot object at 0x117c6b510>,\n",
       "        <matplotlib.axes._subplots.AxesSubplot object at 0x11d973110>]], dtype=object)"
      ]
     },
     "execution_count": 118,
     "metadata": {},
     "output_type": "execute_result"
    },
    {
     "data": {
      "image/png": "[encoded data removed]",
      "text/plain": [
       "<matplotlib.figure.Figure at 0x124200410>"
      ]
     },
     "metadata": {},
     "output_type": "display_data"
    },
    {
     "data": {
      "image/png": "[encoded data removed]",
      "text/plain": [
       "<matplotlib.figure.Figure at 0x124200850>"
      ]
     },
     "metadata": {},
     "output_type": "display_data"
    }
   ],
   "source": [
    "health_data[['HEIGHT', 'WEIGHT']].plot.hist()\n",
    "health_data['WEIGHT'].plot.hist()\n",
    "health_data.hist(cumulative=True, normed=1, bins=100)"
   ]
  },
  {
   "cell_type": "code",
   "execution_count": 119,
   "metadata": {
    "collapsed": false
   },
   "outputs": [
    {
     "name": "stdout",
     "output_type": "stream",
     "text": [
      "(159.10645794714111, 185.59354205285888)\n",
      "(55.470135659365447, 96.299864340634571)\n"
     ]
    }
   ],
   "source": [
    "import numpy as np\n",
    "import scipy\n",
    "height_mean = np.mean(health_data['HEIGHT'])\n",
    "height_sigma = np.std(health_data['HEIGHT'])\n",
    "weight_mean = np.mean(health_data['WEIGHT'])\n",
    "weight_sigma = np.std(health_data['WEIGHT'])\n",
    "print scipy.stats.norm.interval(.95, loc=height_mean, scale=height_sigma) \n",
    "print scipy.stats.norm.interval(.95, loc=weight_mean, scale=weight_sigma) "
   ]
  },
  {
   "cell_type": "code",
   "execution_count": null,
   "metadata": {
    "collapsed": true
   },
   "outputs": [],
   "source": []
  }
 ],
 "metadata": {
  "anaconda-cloud": {},
  "kernelspec": {
   "display_name": "Python [dsi]",
   "language": "python",
   "name": "Python [dsi]"
  },
  "language_info": {
   "codemirror_mode": {
    "name": "ipython",
    "version": 2
   },
   "file_extension": ".py",
   "mimetype": "text/x-python",
   "name": "python",
   "nbconvert_exporter": "python",
   "pygments_lexer": "ipython2",
   "version": "2.7.12"
  }
 },
 "nbformat": 4,
 "nbformat_minor": 0
}
