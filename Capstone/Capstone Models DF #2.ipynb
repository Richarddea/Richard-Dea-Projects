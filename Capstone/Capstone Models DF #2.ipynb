{
 "cells": [
  {
   "cell_type": "code",
   "execution_count": 54,
   "metadata": {
    "collapsed": false
   },
   "outputs": [],
   "source": [
    "import pandas as pd\n",
    "final_df_2 = pd.read_csv('../Capstone/final_df_2.csv')"
   ]
  },
  {
   "cell_type": "code",
   "execution_count": 55,
   "metadata": {
    "collapsed": false
   },
   "outputs": [],
   "source": [
    "final_df_2.drop(['Unnamed: 0'], axis=1, inplace=True)"
   ]
  },
  {
   "cell_type": "code",
   "execution_count": 56,
   "metadata": {
    "collapsed": false
   },
   "outputs": [],
   "source": [
    "final_df_2 = pd.get_dummies(final_df_2, columns=['team_x', 'team_y'])"
   ]
  },
  {
   "cell_type": "markdown",
   "metadata": {},
   "source": [
    "#  Train/Test Split"
   ]
  },
  {
   "cell_type": "code",
   "execution_count": 77,
   "metadata": {
    "collapsed": false
   },
   "outputs": [],
   "source": [
    "from sklearn.cross_validation import train_test_split\n",
    "\n",
    "y = final_df_2['winner']\n",
    "X = final_df_2.iloc[:, 4:]"
   ]
  },
  {
   "cell_type": "code",
   "execution_count": 78,
   "metadata": {
    "collapsed": false
   },
   "outputs": [
    {
     "data": {
      "text/html": [
       "<div>\n",
       "<table border=\"1\" class=\"dataframe\">\n",
       "  <thead>\n",
       "    <tr style=\"text-align: right;\">\n",
       "      <th></th>\n",
       "      <th>week</th>\n",
       "      <th>day_of_week</th>\n",
       "      <th>defense_ast_x</th>\n",
       "      <th>defense_ffum_x</th>\n",
       "      <th>defense_fgblk_x</th>\n",
       "      <th>defense_frec_x</th>\n",
       "      <th>defense_frec_tds_x</th>\n",
       "      <th>defense_frec_yds_x</th>\n",
       "      <th>defense_int_x</th>\n",
       "      <th>defense_int_tds_x</th>\n",
       "      <th>...</th>\n",
       "      <th>team_y_OAK</th>\n",
       "      <th>team_y_PHI</th>\n",
       "      <th>team_y_PIT</th>\n",
       "      <th>team_y_SD</th>\n",
       "      <th>team_y_SEA</th>\n",
       "      <th>team_y_SF</th>\n",
       "      <th>team_y_STL</th>\n",
       "      <th>team_y_TB</th>\n",
       "      <th>team_y_TEN</th>\n",
       "      <th>team_y_WAS</th>\n",
       "    </tr>\n",
       "  </thead>\n",
       "  <tbody>\n",
       "    <tr>\n",
       "      <th>0</th>\n",
       "      <td>1</td>\n",
       "      <td>4</td>\n",
       "      <td>25</td>\n",
       "      <td>1</td>\n",
       "      <td>1</td>\n",
       "      <td>1</td>\n",
       "      <td>0</td>\n",
       "      <td>5</td>\n",
       "      <td>1</td>\n",
       "      <td>0</td>\n",
       "      <td>...</td>\n",
       "      <td>0.0</td>\n",
       "      <td>0.0</td>\n",
       "      <td>0.0</td>\n",
       "      <td>0.0</td>\n",
       "      <td>0.0</td>\n",
       "      <td>0.0</td>\n",
       "      <td>0.0</td>\n",
       "      <td>0.0</td>\n",
       "      <td>1.0</td>\n",
       "      <td>0.0</td>\n",
       "    </tr>\n",
       "  </tbody>\n",
       "</table>\n",
       "<p>1 rows × 214 columns</p>\n",
       "</div>"
      ],
      "text/plain": [
       "   week  day_of_week  defense_ast_x  defense_ffum_x  defense_fgblk_x  \\\n",
       "0     1            4             25               1                1   \n",
       "\n",
       "   defense_frec_x  defense_frec_tds_x  defense_frec_yds_x  defense_int_x  \\\n",
       "0               1                   0                   5              1   \n",
       "\n",
       "   defense_int_tds_x     ...      team_y_OAK  team_y_PHI  team_y_PIT  \\\n",
       "0                  0     ...             0.0         0.0         0.0   \n",
       "\n",
       "   team_y_SD  team_y_SEA  team_y_SF  team_y_STL  team_y_TB  team_y_TEN  \\\n",
       "0        0.0         0.0        0.0         0.0        0.0         1.0   \n",
       "\n",
       "   team_y_WAS  \n",
       "0         0.0  \n",
       "\n",
       "[1 rows x 214 columns]"
      ]
     },
     "execution_count": 78,
     "metadata": {},
     "output_type": "execute_result"
    }
   ],
   "source": [
    "X.head(1)"
   ]
  },
  {
   "cell_type": "code",
   "execution_count": 79,
   "metadata": {
    "collapsed": false
   },
   "outputs": [
    {
     "data": {
      "text/plain": [
       "0    1\n",
       "1    1\n",
       "2    1\n",
       "3    0\n",
       "4    0\n",
       "Name: winner, dtype: int64"
      ]
     },
     "execution_count": 79,
     "metadata": {},
     "output_type": "execute_result"
    }
   ],
   "source": [
    "y.head()"
   ]
  },
  {
   "cell_type": "code",
   "execution_count": 80,
   "metadata": {
    "collapsed": false
   },
   "outputs": [],
   "source": [
    "X_train, X_test, y_train, y_test = train_test_split(X, y, test_size=0.3, random_state=42)"
   ]
  },
  {
   "cell_type": "code",
   "execution_count": 81,
   "metadata": {
    "collapsed": false
   },
   "outputs": [
    {
     "name": "stdout",
     "output_type": "stream",
     "text": [
      "(1302,)\n",
      "(1302, 214)\n"
     ]
    }
   ],
   "source": [
    "print y_train.shape\n",
    "print X_train.shape"
   ]
  },
  {
   "cell_type": "markdown",
   "metadata": {},
   "source": [
    "# Logistic Regression"
   ]
  },
  {
   "cell_type": "code",
   "execution_count": 82,
   "metadata": {
    "collapsed": true
   },
   "outputs": [],
   "source": [
    "from sklearn.linear_model import LogisticRegression\n",
    "logreg = LogisticRegression()"
   ]
  },
  {
   "cell_type": "code",
   "execution_count": 83,
   "metadata": {
    "collapsed": true
   },
   "outputs": [],
   "source": [
    "model = logreg.fit(X_train,y_train)"
   ]
  },
  {
   "cell_type": "code",
   "execution_count": 84,
   "metadata": {
    "collapsed": false
   },
   "outputs": [
    {
     "data": {
      "text/plain": [
       "0.99231950844854067"
      ]
     },
     "execution_count": 84,
     "metadata": {},
     "output_type": "execute_result"
    }
   ],
   "source": [
    "model.score(X_train, y_train)"
   ]
  },
  {
   "cell_type": "code",
   "execution_count": 85,
   "metadata": {
    "collapsed": false
   },
   "outputs": [
    {
     "name": "stdout",
     "output_type": "stream",
     "text": [
      "0.942652329749\n",
      "0.9871350751\n"
     ]
    }
   ],
   "source": [
    "from sklearn import metrics\n",
    "\n",
    "predicted = model.predict(X_test)\n",
    "prob = model.predict_proba(X_test)\n",
    "\n",
    "print metrics.accuracy_score(y_test, predicted)\n",
    "print metrics.roc_auc_score(y_test, prob[:, 1])"
   ]
  },
  {
   "cell_type": "code",
   "execution_count": 86,
   "metadata": {
    "collapsed": false
   },
   "outputs": [
    {
     "name": "stdout",
     "output_type": "stream",
     "text": [
      "[[215  17]\n",
      " [ 15 311]]\n",
      "             precision    recall  f1-score   support\n",
      "\n",
      "          0       0.93      0.93      0.93       232\n",
      "          1       0.95      0.95      0.95       326\n",
      "\n",
      "avg / total       0.94      0.94      0.94       558\n",
      "\n"
     ]
    }
   ],
   "source": [
    "print metrics.confusion_matrix(y_test, predicted)\n",
    "print metrics.classification_report(y_test, predicted)"
   ]
  },
  {
   "cell_type": "code",
   "execution_count": 87,
   "metadata": {
    "collapsed": false
   },
   "outputs": [
    {
     "name": "stdout",
     "output_type": "stream",
     "text": [
      "[ 0.94101877  0.95174263  0.93010753  0.93530997  0.9541779 ]\n",
      "0.942471358321\n"
     ]
    }
   ],
   "source": [
    "from sklearn.cross_validation import cross_val_score\n",
    "scores = cross_val_score(LogisticRegression(), X, y, scoring='accuracy', cv=5)\n",
    "print scores\n",
    "print scores.mean()"
   ]
  },
  {
   "cell_type": "code",
   "execution_count": 88,
   "metadata": {
    "collapsed": false
   },
   "outputs": [
    {
     "data": {
      "image/png": "[encoded data removed]",
      "text/plain": [
       "<matplotlib.figure.Figure at 0x118769fd0>"
      ]
     },
     "metadata": {},
     "output_type": "display_data"
    }
   ],
   "source": [
    "from sklearn.metrics import roc_curve, auc\n",
    "import matplotlib.pyplot as plt\n",
    "plt.style.use('seaborn-white')\n",
    "%matplotlib inline\n",
    "\n",
    "y_score = logreg.decision_function(X_test)\n",
    "\n",
    "FPR = dict()\n",
    "TPR = dict()\n",
    "ROC_AUC = dict()\n",
    "\n",
    "FPR[1], TPR[1], _ = roc_curve(y_test, y_score)\n",
    "ROC_AUC[1] = auc(FPR[1], TPR[1])\n",
    "\n",
    "plt.figure(figsize=[11,9])\n",
    "plt.plot(FPR[1], TPR[1], label='ROC curve (area = %0.2f)' % ROC_AUC[1], linewidth=4)\n",
    "plt.plot([0, 1], [0, 1], 'k--', linewidth=4)\n",
    "plt.xlim([0.0, 1.0])\n",
    "plt.ylim([0.0, 1.05])\n",
    "plt.xlabel('False Positive Rate', fontsize=18)\n",
    "plt.ylabel('True Positive Rate', fontsize=18)\n",
    "plt.title('Receiver operating characteristic for cancer detection', fontsize=18)\n",
    "plt.legend(loc=\"lower right\")\n",
    "plt.show()"
   ]
  },
  {
   "cell_type": "markdown",
   "metadata": {},
   "source": [
    "# Decision Tree"
   ]
  },
  {
   "cell_type": "code",
   "execution_count": 89,
   "metadata": {
    "collapsed": false
   },
   "outputs": [
    {
     "data": {
      "text/plain": [
       "DecisionTreeClassifier(class_weight=None, criterion='gini', max_depth=None,\n",
       "            max_features=None, max_leaf_nodes=None, min_samples_leaf=1,\n",
       "            min_samples_split=2, min_weight_fraction_leaf=0.0,\n",
       "            presort=False, random_state=None, splitter='best')"
      ]
     },
     "execution_count": 89,
     "metadata": {},
     "output_type": "execute_result"
    }
   ],
   "source": [
    "from sklearn.tree import DecisionTreeClassifier\n",
    "dtc = DecisionTreeClassifier()\n",
    "\n",
    "dtc.fit(X_train, y_train)"
   ]
  },
  {
   "cell_type": "code",
   "execution_count": 90,
   "metadata": {
    "collapsed": false
   },
   "outputs": [
    {
     "data": {
      "text/plain": [
       "0.83486200822078693"
      ]
     },
     "execution_count": 90,
     "metadata": {},
     "output_type": "execute_result"
    }
   ],
   "source": [
    "cross_val_score(dtc, X_train, y_train, cv=5).mean()"
   ]
  },
  {
   "cell_type": "code",
   "execution_count": 91,
   "metadata": {
    "collapsed": false
   },
   "outputs": [
    {
     "name": "stdout",
     "output_type": "stream",
     "text": [
      "0.847670250896\n",
      "0.84726041887\n",
      "[[196  36]\n",
      " [ 49 277]]\n",
      "             precision    recall  f1-score   support\n",
      "\n",
      "          0       0.80      0.84      0.82       232\n",
      "          1       0.88      0.85      0.87       326\n",
      "\n",
      "avg / total       0.85      0.85      0.85       558\n",
      "\n"
     ]
    }
   ],
   "source": [
    "dtc_predicted = dtc.predict(X_test)\n",
    "dtc_prob = dtc.predict_proba(X_test)\n",
    "\n",
    "print metrics.accuracy_score(y_test, dtc_predicted)\n",
    "print metrics.roc_auc_score(y_test, dtc_prob[:, 1])\n",
    "print metrics.confusion_matrix(y_test, dtc_predicted)\n",
    "print metrics.classification_report(y_test, dtc_predicted)"
   ]
  },
  {
   "cell_type": "code",
   "execution_count": 92,
   "metadata": {
    "collapsed": true
   },
   "outputs": [],
   "source": [
    "dtc_params = {\n",
    "    'max_depth':[None,1,2,3,4],\n",
    "    'max_features':[None,'log2','sqrt',2,3,4,5],\n",
    "    'min_samples_split':[2,3,4,5,10,15,20,25,30,40,50]\n",
    "}\n",
    "\n",
    "from sklearn.grid_search import GridSearchCV\n",
    "\n",
    "dtc_gs = GridSearchCV(DecisionTreeClassifier(), dtc_params, cv=5, verbose=1)"
   ]
  },
  {
   "cell_type": "code",
   "execution_count": 93,
   "metadata": {
    "collapsed": false
   },
   "outputs": [
    {
     "name": "stdout",
     "output_type": "stream",
     "text": [
      "Fitting 5 folds for each of 385 candidates, totalling 1925 fits\n"
     ]
    },
    {
     "name": "stderr",
     "output_type": "stream",
     "text": [
      "[Parallel(n_jobs=1)]: Done  49 tasks       | elapsed:    2.2s\n",
      "[Parallel(n_jobs=1)]: Done 199 tasks       | elapsed:    3.6s\n",
      "[Parallel(n_jobs=1)]: Done 449 tasks       | elapsed:    5.4s\n",
      "[Parallel(n_jobs=1)]: Done 799 tasks       | elapsed:    7.9s\n",
      "[Parallel(n_jobs=1)]: Done 1249 tasks       | elapsed:   12.8s\n",
      "[Parallel(n_jobs=1)]: Done 1799 tasks       | elapsed:   20.0s\n",
      "[Parallel(n_jobs=1)]: Done 1925 out of 1925 | elapsed:   21.0s finished\n"
     ]
    },
    {
     "data": {
      "text/plain": [
       "GridSearchCV(cv=5, error_score='raise',\n",
       "       estimator=DecisionTreeClassifier(class_weight=None, criterion='gini', max_depth=None,\n",
       "            max_features=None, max_leaf_nodes=None, min_samples_leaf=1,\n",
       "            min_samples_split=2, min_weight_fraction_leaf=0.0,\n",
       "            presort=False, random_state=None, splitter='best'),\n",
       "       fit_params={}, iid=True, n_jobs=1,\n",
       "       param_grid={'max_features': [None, 'log2', 'sqrt', 2, 3, 4, 5], 'min_samples_split': [2, 3, 4, 5, 10, 15, 20, 25, 30, 40, 50], 'max_depth': [None, 1, 2, 3, 4]},\n",
       "       pre_dispatch='2*n_jobs', refit=True, scoring=None, verbose=1)"
      ]
     },
     "execution_count": 93,
     "metadata": {},
     "output_type": "execute_result"
    }
   ],
   "source": [
    "dtc_gs.fit(X_train, y_train)"
   ]
  },
  {
   "cell_type": "code",
   "execution_count": 94,
   "metadata": {
    "collapsed": false
   },
   "outputs": [
    {
     "name": "stdout",
     "output_type": "stream",
     "text": [
      "DecisionTreeClassifier(class_weight=None, criterion='gini', max_depth=4,\n",
      "            max_features=None, max_leaf_nodes=None, min_samples_leaf=1,\n",
      "            min_samples_split=2, min_weight_fraction_leaf=0.0,\n",
      "            presort=False, random_state=None, splitter='best')\n",
      "{'max_features': None, 'min_samples_split': 2, 'max_depth': 4}\n",
      "0.845622119816\n"
     ]
    }
   ],
   "source": [
    "dtc_best = dtc_gs.best_estimator_\n",
    "print dtc_best\n",
    "print dtc_gs.best_params_\n",
    "print dtc_gs.best_score_"
   ]
  },
  {
   "cell_type": "code",
   "execution_count": 95,
   "metadata": {
    "collapsed": false
   },
   "outputs": [
    {
     "data": {
      "text/html": [
       "<div>\n",
       "<table border=\"1\" class=\"dataframe\">\n",
       "  <thead>\n",
       "    <tr style=\"text-align: right;\">\n",
       "      <th></th>\n",
       "      <th>feature</th>\n",
       "      <th>importance</th>\n",
       "    </tr>\n",
       "  </thead>\n",
       "  <tbody>\n",
       "    <tr>\n",
       "      <th>36</th>\n",
       "      <td>kicking_tot_x</td>\n",
       "      <td>0.438706</td>\n",
       "    </tr>\n",
       "    <tr>\n",
       "      <th>110</th>\n",
       "      <td>kicking_tot_y</td>\n",
       "      <td>0.225884</td>\n",
       "    </tr>\n",
       "    <tr>\n",
       "      <th>148</th>\n",
       "      <td>turnovers_y</td>\n",
       "      <td>0.160161</td>\n",
       "    </tr>\n",
       "    <tr>\n",
       "      <th>74</th>\n",
       "      <td>turnovers_x</td>\n",
       "      <td>0.114596</td>\n",
       "    </tr>\n",
       "    <tr>\n",
       "      <th>39</th>\n",
       "      <td>kicking_xpmade_x</td>\n",
       "      <td>0.019379</td>\n",
       "    </tr>\n",
       "  </tbody>\n",
       "</table>\n",
       "</div>"
      ],
      "text/plain": [
       "              feature  importance\n",
       "36      kicking_tot_x    0.438706\n",
       "110     kicking_tot_y    0.225884\n",
       "148       turnovers_y    0.160161\n",
       "74        turnovers_x    0.114596\n",
       "39   kicking_xpmade_x    0.019379"
      ]
     },
     "execution_count": 95,
     "metadata": {},
     "output_type": "execute_result"
    }
   ],
   "source": [
    "dtfi = pd.DataFrame({\n",
    "        'feature':X.columns,\n",
    "        'importance':dtc_best.feature_importances_\n",
    "    })\n",
    "\n",
    "dtfi.sort_values('importance', ascending=False, inplace=True)\n",
    "dtfi.head()"
   ]
  },
  {
   "cell_type": "markdown",
   "metadata": {},
   "source": [
    "# Bagging Decision Tree"
   ]
  },
  {
   "cell_type": "code",
   "execution_count": 96,
   "metadata": {
    "collapsed": false
   },
   "outputs": [
    {
     "data": {
      "text/plain": [
       "array([ 0.90839695,  0.84230769,  0.85769231,  0.86923077,  0.88846154])"
      ]
     },
     "execution_count": 96,
     "metadata": {},
     "output_type": "execute_result"
    }
   ],
   "source": [
    "from sklearn.ensemble import BaggingClassifier\n",
    "bdtc = BaggingClassifier(DecisionTreeClassifier())\n",
    "\n",
    "cross_val_score(bdtc, X_train, y_train, cv=5, n_jobs=-1)"
   ]
  },
  {
   "cell_type": "code",
   "execution_count": 99,
   "metadata": {
    "collapsed": true
   },
   "outputs": [],
   "source": [
    "params = {'base_estimator__max_depth': [3,5,10,20],\n",
    "          'max_features': [0.5, 0.7, 1.0],\n",
    "          'max_samples': [0.5, 0.7, 1.0],\n",
    "          'n_estimators': [2, 5, 10, 20],\n",
    "         }\n",
    "\n",
    "gsbdt = GridSearchCV(bdtc, params, n_jobs=-1, cv=5)"
   ]
  },
  {
   "cell_type": "code",
   "execution_count": 100,
   "metadata": {
    "collapsed": false
   },
   "outputs": [
    {
     "data": {
      "text/plain": [
       "GridSearchCV(cv=5, error_score='raise',\n",
       "       estimator=BaggingClassifier(base_estimator=DecisionTreeClassifier(class_weight=None, criterion='gini', max_depth=None,\n",
       "            max_features=None, max_leaf_nodes=None, min_samples_leaf=1,\n",
       "            min_samples_split=2, min_weight_fraction_leaf=0.0,\n",
       "            presort=False, random_state=None, ...n_estimators=10, n_jobs=1, oob_score=False,\n",
       "         random_state=None, verbose=0, warm_start=False),\n",
       "       fit_params={}, iid=True, n_jobs=-1,\n",
       "       param_grid={'max_features': [0.5, 0.7, 1.0], 'max_samples': [0.5, 0.7, 1.0], 'base_estimator__max_depth': [3, 5, 10, 20], 'n_estimators': [2, 5, 10, 20]},\n",
       "       pre_dispatch='2*n_jobs', refit=True, scoring=None, verbose=0)"
      ]
     },
     "execution_count": 100,
     "metadata": {},
     "output_type": "execute_result"
    }
   ],
   "source": [
    "gsbdt.fit(X_train, y_train)"
   ]
  },
  {
   "cell_type": "code",
   "execution_count": 101,
   "metadata": {
    "collapsed": false
   },
   "outputs": [
    {
     "name": "stdout",
     "output_type": "stream",
     "text": [
      "0.897849462366\n",
      "0.964228104506\n"
     ]
    }
   ],
   "source": [
    "gsbdt_predicted = gsbdt.predict(X_test)\n",
    "gsbdt_prob = gsbdt.predict_proba(X_test)\n",
    "\n",
    "print metrics.accuracy_score(y_test, gsbdt_predicted)\n",
    "print metrics.roc_auc_score(y_test, gsbdt_prob[:, 1])"
   ]
  },
  {
   "cell_type": "code",
   "execution_count": 102,
   "metadata": {
    "collapsed": false
   },
   "outputs": [
    {
     "data": {
      "text/plain": [
       "{'base_estimator__max_depth': 20,\n",
       " 'max_features': 0.5,\n",
       " 'max_samples': 1.0,\n",
       " 'n_estimators': 20}"
      ]
     },
     "execution_count": 102,
     "metadata": {},
     "output_type": "execute_result"
    }
   ],
   "source": [
    "gsbdt.best_params_"
   ]
  },
  {
   "cell_type": "code",
   "execution_count": 103,
   "metadata": {
    "collapsed": false
   },
   "outputs": [
    {
     "data": {
      "text/plain": [
       "0.90015360983102921"
      ]
     },
     "execution_count": 103,
     "metadata": {},
     "output_type": "execute_result"
    }
   ],
   "source": [
    "gsbdt.best_score_"
   ]
  },
  {
   "cell_type": "markdown",
   "metadata": {},
   "source": [
    "# Random Forest"
   ]
  },
  {
   "cell_type": "code",
   "execution_count": 106,
   "metadata": {
    "collapsed": true
   },
   "outputs": [],
   "source": [
    "from sklearn.ensemble import RandomForestClassifier\n",
    "rfc = RandomForestClassifier()"
   ]
  },
  {
   "cell_type": "code",
   "execution_count": 107,
   "metadata": {
    "collapsed": false
   },
   "outputs": [
    {
     "data": {
      "text/plain": [
       "RandomForestClassifier(bootstrap=True, class_weight=None, criterion='gini',\n",
       "            max_depth=None, max_features='auto', max_leaf_nodes=None,\n",
       "            min_samples_leaf=1, min_samples_split=2,\n",
       "            min_weight_fraction_leaf=0.0, n_estimators=10, n_jobs=1,\n",
       "            oob_score=False, random_state=None, verbose=0,\n",
       "            warm_start=False)"
      ]
     },
     "execution_count": 107,
     "metadata": {},
     "output_type": "execute_result"
    }
   ],
   "source": [
    "rfc.fit(X_train, y_train)"
   ]
  },
  {
   "cell_type": "code",
   "execution_count": 108,
   "metadata": {
    "collapsed": false
   },
   "outputs": [
    {
     "data": {
      "text/plain": [
       "array([ 0.87022901,  0.85769231,  0.86538462,  0.86923077,  0.89230769])"
      ]
     },
     "execution_count": 108,
     "metadata": {},
     "output_type": "execute_result"
    }
   ],
   "source": [
    "cross_val_score(rfc, X_train, y_train, cv=5)"
   ]
  },
  {
   "cell_type": "code",
   "execution_count": 109,
   "metadata": {
    "collapsed": false
   },
   "outputs": [
    {
     "name": "stdout",
     "output_type": "stream",
     "text": [
      "0.863799283154\n",
      "0.939344457373\n"
     ]
    }
   ],
   "source": [
    "rfc_predicted = rfc.predict(X_test)\n",
    "rfc_prob = rfc.predict_proba(X_test)\n",
    "\n",
    "print metrics.accuracy_score(y_test, rfc_predicted)\n",
    "print metrics.roc_auc_score(y_test, rfc_prob[:, 1])"
   ]
  },
  {
   "cell_type": "code",
   "execution_count": 110,
   "metadata": {
    "collapsed": true
   },
   "outputs": [],
   "source": [
    "rfc_gs = GridSearchCV(RandomForestClassifier(), dtc_params, cv=5, verbose=1)"
   ]
  },
  {
   "cell_type": "code",
   "execution_count": 111,
   "metadata": {
    "collapsed": false
   },
   "outputs": [
    {
     "name": "stdout",
     "output_type": "stream",
     "text": [
      "Fitting 5 folds for each of 385 candidates, totalling 1925 fits\n"
     ]
    },
    {
     "name": "stderr",
     "output_type": "stream",
     "text": [
      "[Parallel(n_jobs=1)]: Done  49 tasks       | elapsed:   11.1s\n",
      "[Parallel(n_jobs=1)]: Done 199 tasks       | elapsed:   18.2s\n",
      "[Parallel(n_jobs=1)]: Done 449 tasks       | elapsed:   28.3s\n",
      "[Parallel(n_jobs=1)]: Done 799 tasks       | elapsed:   40.8s\n",
      "[Parallel(n_jobs=1)]: Done 1249 tasks       | elapsed:  1.0min\n",
      "[Parallel(n_jobs=1)]: Done 1799 tasks       | elapsed:  1.4min\n",
      "[Parallel(n_jobs=1)]: Done 1925 out of 1925 | elapsed:  1.5min finished\n"
     ]
    },
    {
     "data": {
      "text/plain": [
       "GridSearchCV(cv=5, error_score='raise',\n",
       "       estimator=RandomForestClassifier(bootstrap=True, class_weight=None, criterion='gini',\n",
       "            max_depth=None, max_features='auto', max_leaf_nodes=None,\n",
       "            min_samples_leaf=1, min_samples_split=2,\n",
       "            min_weight_fraction_leaf=0.0, n_estimators=10, n_jobs=1,\n",
       "            oob_score=False, random_state=None, verbose=0,\n",
       "            warm_start=False),\n",
       "       fit_params={}, iid=True, n_jobs=1,\n",
       "       param_grid={'max_features': [None, 'log2', 'sqrt', 2, 3, 4, 5], 'min_samples_split': [2, 3, 4, 5, 10, 15, 20, 25, 30, 40, 50], 'max_depth': [None, 1, 2, 3, 4]},\n",
       "       pre_dispatch='2*n_jobs', refit=True, scoring=None, verbose=1)"
      ]
     },
     "execution_count": 111,
     "metadata": {},
     "output_type": "execute_result"
    }
   ],
   "source": [
    "rfc_gs.fit(X_train, y_train)"
   ]
  },
  {
   "cell_type": "code",
   "execution_count": 112,
   "metadata": {
    "collapsed": false
   },
   "outputs": [
    {
     "name": "stdout",
     "output_type": "stream",
     "text": [
      "RandomForestClassifier(bootstrap=True, class_weight=None, criterion='gini',\n",
      "            max_depth=None, max_features=None, max_leaf_nodes=None,\n",
      "            min_samples_leaf=1, min_samples_split=30,\n",
      "            min_weight_fraction_leaf=0.0, n_estimators=10, n_jobs=1,\n",
      "            oob_score=False, random_state=None, verbose=0,\n",
      "            warm_start=False)\n",
      "{'max_features': None, 'min_samples_split': 30, 'max_depth': None}\n",
      "0.894777265745\n"
     ]
    }
   ],
   "source": [
    "rfc_best = rfc_gs.best_estimator_\n",
    "print rfc_best\n",
    "print rfc_gs.best_params_\n",
    "print rfc_gs.best_score_"
   ]
  },
  {
   "cell_type": "code",
   "execution_count": 113,
   "metadata": {
    "collapsed": false
   },
   "outputs": [
    {
     "data": {
      "text/html": [
       "<div>\n",
       "<table border=\"1\" class=\"dataframe\">\n",
       "  <thead>\n",
       "    <tr style=\"text-align: right;\">\n",
       "      <th></th>\n",
       "      <th>feature</th>\n",
       "      <th>importance</th>\n",
       "    </tr>\n",
       "  </thead>\n",
       "  <tbody>\n",
       "    <tr>\n",
       "      <th>36</th>\n",
       "      <td>kicking_tot_x</td>\n",
       "      <td>0.330971</td>\n",
       "    </tr>\n",
       "    <tr>\n",
       "      <th>110</th>\n",
       "      <td>kicking_tot_y</td>\n",
       "      <td>0.176874</td>\n",
       "    </tr>\n",
       "    <tr>\n",
       "      <th>148</th>\n",
       "      <td>turnovers_y</td>\n",
       "      <td>0.075334</td>\n",
       "    </tr>\n",
       "    <tr>\n",
       "      <th>142</th>\n",
       "      <td>rushing_att_y</td>\n",
       "      <td>0.074076</td>\n",
       "    </tr>\n",
       "    <tr>\n",
       "      <th>74</th>\n",
       "      <td>turnovers_x</td>\n",
       "      <td>0.051099</td>\n",
       "    </tr>\n",
       "  </tbody>\n",
       "</table>\n",
       "</div>"
      ],
      "text/plain": [
       "           feature  importance\n",
       "36   kicking_tot_x    0.330971\n",
       "110  kicking_tot_y    0.176874\n",
       "148    turnovers_y    0.075334\n",
       "142  rushing_att_y    0.074076\n",
       "74     turnovers_x    0.051099"
      ]
     },
     "execution_count": 113,
     "metadata": {},
     "output_type": "execute_result"
    }
   ],
   "source": [
    "rffi = pd.DataFrame({\n",
    "        'feature':X.columns,\n",
    "        'importance':rfc_best.feature_importances_\n",
    "    })\n",
    "\n",
    "rffi.sort_values('importance', ascending=False, inplace=True)\n",
    "rffi.head()"
   ]
  },
  {
   "cell_type": "code",
   "execution_count": 114,
   "metadata": {
    "collapsed": false
   },
   "outputs": [
    {
     "name": "stdout",
     "output_type": "stream",
     "text": [
      "[[195  37]\n",
      " [ 39 287]]\n",
      "             precision    recall  f1-score   support\n",
      "\n",
      "          0       0.83      0.84      0.84       232\n",
      "          1       0.89      0.88      0.88       326\n",
      "\n",
      "avg / total       0.86      0.86      0.86       558\n",
      "\n"
     ]
    }
   ],
   "source": [
    "print metrics.confusion_matrix(y_test, rfc_predicted)\n",
    "print metrics.classification_report(y_test, rfc_predicted)\n"
   ]
  },
  {
   "cell_type": "code",
   "execution_count": 115,
   "metadata": {
    "collapsed": false
   },
   "outputs": [
    {
     "data": {
      "text/plain": [
       "array([[ 0.2,  0.8],\n",
       "       [ 0.2,  0.8],\n",
       "       [ 0.6,  0.4],\n",
       "       ..., \n",
       "       [ 0. ,  1. ],\n",
       "       [ 0.6,  0.4],\n",
       "       [ 1. ,  0. ]])"
      ]
     },
     "execution_count": 115,
     "metadata": {},
     "output_type": "execute_result"
    }
   ],
   "source": [
    "rfc_prob"
   ]
  },
  {
   "cell_type": "markdown",
   "metadata": {
    "collapsed": true
   },
   "source": [
    "# More Data Cleaning"
   ]
  },
  {
   "cell_type": "code",
   "execution_count": 116,
   "metadata": {
    "collapsed": false
   },
   "outputs": [],
   "source": [
    "final_df_copy = pd.DataFrame(final_df_2)"
   ]
  },
  {
   "cell_type": "code",
   "execution_count": 117,
   "metadata": {
    "collapsed": false
   },
   "outputs": [],
   "source": [
    "import re\n",
    "defenseless_yds_df = final_df_copy.select(lambda x: not re.search('defense(.*?)yds', x), axis=1)"
   ]
  },
  {
   "cell_type": "code",
   "execution_count": 122,
   "metadata": {
    "collapsed": false
   },
   "outputs": [],
   "source": [
    "y_less_def_yds = defenseless_yds_df['winner']\n",
    "X_less_def_yds = defenseless_yds_df.iloc[:, 4:]"
   ]
  },
  {
   "cell_type": "code",
   "execution_count": 124,
   "metadata": {
    "collapsed": false
   },
   "outputs": [],
   "source": [
    "X_train, X_test, y_train, y_test = train_test_split(X_less_def_yds, y_less_def_yds, test_size=.3, random_state=42)"
   ]
  },
  {
   "cell_type": "code",
   "execution_count": 125,
   "metadata": {
    "collapsed": false
   },
   "outputs": [],
   "source": [
    "mod_less = logreg.fit(X_train, y_train)"
   ]
  },
  {
   "cell_type": "code",
   "execution_count": 126,
   "metadata": {
    "collapsed": false
   },
   "outputs": [
    {
     "data": {
      "text/plain": [
       "0.97795698924731178"
      ]
     },
     "execution_count": 126,
     "metadata": {},
     "output_type": "execute_result"
    }
   ],
   "source": [
    "mod_less.score(X_less_def_yds, y_less_def_yds)"
   ]
  },
  {
   "cell_type": "code",
   "execution_count": 127,
   "metadata": {
    "collapsed": false
   },
   "outputs": [
    {
     "name": "stdout",
     "output_type": "stream",
     "text": [
      "0.948028673835\n",
      "0.9876110641\n"
     ]
    }
   ],
   "source": [
    "from sklearn import metrics\n",
    "\n",
    "predicted = mod_less.predict(X_test)\n",
    "prob = mod_less.predict_proba(X_test)\n",
    "\n",
    "print metrics.accuracy_score(y_test, predicted)\n",
    "print metrics.roc_auc_score(y_test, prob[:, 1])"
   ]
  },
  {
   "cell_type": "code",
   "execution_count": 130,
   "metadata": {
    "collapsed": false
   },
   "outputs": [
    {
     "data": {
      "text/plain": [
       "['gsis_id',\n",
       " 'winner',\n",
       " 'score_x',\n",
       " 'score_y',\n",
       " 'week',\n",
       " 'day_of_week',\n",
       " 'defense_ast_x',\n",
       " 'defense_ffum_x',\n",
       " 'defense_fgblk_x',\n",
       " 'defense_frec_x',\n",
       " 'defense_frec_tds_x',\n",
       " 'defense_frec_yds_x',\n",
       " 'defense_int_x',\n",
       " 'defense_int_tds_x',\n",
       " 'defense_int_yds_x',\n",
       " 'defense_misc_tds_x',\n",
       " 'defense_misc_yds_x',\n",
       " 'defense_pass_def_x',\n",
       " 'defense_puntblk_x',\n",
       " 'defense_qbhit_x',\n",
       " 'defense_safe_x',\n",
       " 'defense_sk_x',\n",
       " 'defense_sk_yds_x',\n",
       " 'defense_tkl_x',\n",
       " 'defense_tkl_loss_x',\n",
       " 'defense_tkl_loss_yds_x',\n",
       " 'defense_tkl_primary_x',\n",
       " 'defense_xpblk_x',\n",
       " 'fumbles_forced_x',\n",
       " 'fumbles_notforced_x',\n",
       " 'fumbles_oob_x',\n",
       " 'fumbles_rec_x',\n",
       " 'fumbles_rec_tds_x',\n",
       " 'fumbles_rec_yds_x',\n",
       " 'fumbles_tot_x',\n",
       " 'kicking_all_yds_x',\n",
       " 'kicking_fgb_x',\n",
       " 'kicking_fgm_yds_x',\n",
       " 'kicking_i20_x',\n",
       " 'kicking_rec_x',\n",
       " 'kicking_tot_x',\n",
       " 'kicking_touchback_x',\n",
       " 'kicking_xpb_x',\n",
       " 'kicking_xpmade_x',\n",
       " 'kicking_xpmissed_x',\n",
       " 'kickret_fair_x',\n",
       " 'kickret_ret_x',\n",
       " 'kickret_tds_x',\n",
       " 'kickret_yds_x',\n",
       " 'passing_cmp_air_yds_x',\n",
       " 'passing_incmp_x',\n",
       " 'passing_int_x',\n",
       " 'passing_sk_x',\n",
       " 'passing_sk_yds_x',\n",
       " 'passing_tds_x',\n",
       " 'passing_twoptm_x',\n",
       " 'passing_twoptmissed_x',\n",
       " 'punting_i20_x',\n",
       " 'punting_touchback_x',\n",
       " 'punting_yds_x',\n",
       " 'puntret_fair_x',\n",
       " 'puntret_tds_x',\n",
       " 'puntret_tot_x',\n",
       " 'puntret_yds_x',\n",
       " 'receiving_rec_x',\n",
       " 'receiving_tar_x',\n",
       " 'receiving_tds_x',\n",
       " 'receiving_twopta_x',\n",
       " 'receiving_twoptm_x',\n",
       " 'receiving_twoptmissed_x',\n",
       " 'receiving_yac_yds_x',\n",
       " 'receiving_yds_x',\n",
       " 'rushing_att_x',\n",
       " 'rushing_tds_x',\n",
       " 'rushing_twopta_x',\n",
       " 'rushing_twoptm_x',\n",
       " 'rushing_twoptmissed_x',\n",
       " 'rushing_yds_x',\n",
       " 'turnovers_x',\n",
       " 'location_x',\n",
       " 'defense_ast_y',\n",
       " 'defense_ffum_y',\n",
       " 'defense_fgblk_y',\n",
       " 'defense_frec_y',\n",
       " 'defense_frec_tds_y',\n",
       " 'defense_frec_yds_y',\n",
       " 'defense_int_y',\n",
       " 'defense_int_tds_y',\n",
       " 'defense_int_yds_y',\n",
       " 'defense_misc_tds_y',\n",
       " 'defense_misc_yds_y',\n",
       " 'defense_pass_def_y',\n",
       " 'defense_puntblk_y',\n",
       " 'defense_qbhit_y',\n",
       " 'defense_safe_y',\n",
       " 'defense_sk_y',\n",
       " 'defense_sk_yds_y',\n",
       " 'defense_tkl_y',\n",
       " 'defense_tkl_loss_y',\n",
       " 'defense_tkl_loss_yds_y',\n",
       " 'defense_tkl_primary_y',\n",
       " 'defense_xpblk_y',\n",
       " 'fumbles_forced_y',\n",
       " 'fumbles_notforced_y',\n",
       " 'fumbles_oob_y',\n",
       " 'fumbles_rec_y',\n",
       " 'fumbles_rec_tds_y',\n",
       " 'fumbles_rec_yds_y',\n",
       " 'fumbles_tot_y',\n",
       " 'kicking_all_yds_y',\n",
       " 'kicking_fgb_y',\n",
       " 'kicking_fgm_yds_y',\n",
       " 'kicking_i20_y',\n",
       " 'kicking_rec_y',\n",
       " 'kicking_tot_y',\n",
       " 'kicking_touchback_y',\n",
       " 'kicking_xpb_y',\n",
       " 'kicking_xpmade_y',\n",
       " 'kicking_xpmissed_y',\n",
       " 'kickret_fair_y',\n",
       " 'kickret_ret_y',\n",
       " 'kickret_tds_y',\n",
       " 'kickret_yds_y',\n",
       " 'passing_cmp_air_yds_y',\n",
       " 'passing_incmp_y',\n",
       " 'passing_int_y',\n",
       " 'passing_sk_y',\n",
       " 'passing_sk_yds_y',\n",
       " 'passing_tds_y',\n",
       " 'passing_twoptm_y',\n",
       " 'passing_twoptmissed_y',\n",
       " 'punting_i20_y',\n",
       " 'punting_touchback_y',\n",
       " 'punting_yds_y',\n",
       " 'puntret_fair_y',\n",
       " 'puntret_tds_y',\n",
       " 'puntret_tot_y',\n",
       " 'puntret_yds_y',\n",
       " 'receiving_rec_y',\n",
       " 'receiving_tar_y',\n",
       " 'receiving_tds_y',\n",
       " 'receiving_twopta_y',\n",
       " 'receiving_twoptm_y',\n",
       " 'receiving_twoptmissed_y',\n",
       " 'receiving_yac_yds_y',\n",
       " 'receiving_yds_y',\n",
       " 'rushing_att_y',\n",
       " 'rushing_tds_y',\n",
       " 'rushing_twopta_y',\n",
       " 'rushing_twoptm_y',\n",
       " 'rushing_twoptmissed_y',\n",
       " 'rushing_yds_y',\n",
       " 'turnovers_y',\n",
       " 'location_y',\n",
       " 'team_x_ARI',\n",
       " 'team_x_ATL',\n",
       " 'team_x_BAL',\n",
       " 'team_x_BUF',\n",
       " 'team_x_CAR',\n",
       " 'team_x_CHI',\n",
       " 'team_x_CIN',\n",
       " 'team_x_CLE',\n",
       " 'team_x_DAL',\n",
       " 'team_x_DEN',\n",
       " 'team_x_DET',\n",
       " 'team_x_GB',\n",
       " 'team_x_HOU',\n",
       " 'team_x_IND',\n",
       " 'team_x_JAC',\n",
       " 'team_x_KC',\n",
       " 'team_x_MIA',\n",
       " 'team_x_MIN',\n",
       " 'team_x_NE',\n",
       " 'team_x_NO',\n",
       " 'team_x_NYG',\n",
       " 'team_x_NYJ',\n",
       " 'team_x_OAK',\n",
       " 'team_x_PHI',\n",
       " 'team_x_PIT',\n",
       " 'team_x_SD',\n",
       " 'team_x_SEA',\n",
       " 'team_x_SF',\n",
       " 'team_x_STL',\n",
       " 'team_x_TB',\n",
       " 'team_x_TEN',\n",
       " 'team_x_WAS',\n",
       " 'team_y_ARI',\n",
       " 'team_y_ATL',\n",
       " 'team_y_BAL',\n",
       " 'team_y_BUF',\n",
       " 'team_y_CAR',\n",
       " 'team_y_CHI',\n",
       " 'team_y_CIN',\n",
       " 'team_y_CLE',\n",
       " 'team_y_DAL',\n",
       " 'team_y_DEN',\n",
       " 'team_y_DET',\n",
       " 'team_y_GB',\n",
       " 'team_y_HOU',\n",
       " 'team_y_IND',\n",
       " 'team_y_JAC',\n",
       " 'team_y_KC',\n",
       " 'team_y_MIA',\n",
       " 'team_y_MIN',\n",
       " 'team_y_NE',\n",
       " 'team_y_NO',\n",
       " 'team_y_NYG',\n",
       " 'team_y_NYJ',\n",
       " 'team_y_OAK',\n",
       " 'team_y_PHI',\n",
       " 'team_y_PIT',\n",
       " 'team_y_SD',\n",
       " 'team_y_SEA',\n",
       " 'team_y_SF',\n",
       " 'team_y_STL',\n",
       " 'team_y_TB',\n",
       " 'team_y_TEN',\n",
       " 'team_y_WAS']"
      ]
     },
     "execution_count": 130,
     "metadata": {},
     "output_type": "execute_result"
    }
   ],
   "source": [
    "final_df_copy.columns.tolist()"
   ]
  },
  {
   "cell_type": "code",
   "execution_count": null,
   "metadata": {
    "collapsed": true
   },
   "outputs": [],
   "source": []
  }
 ],
 "metadata": {
  "anaconda-cloud": {},
  "kernelspec": {
   "display_name": "Python [dsi]",
   "language": "python",
   "name": "Python [dsi]"
  },
  "language_info": {
   "codemirror_mode": {
    "name": "ipython",
    "version": 2
   },
   "file_extension": ".py",
   "mimetype": "text/x-python",
   "name": "python",
   "nbconvert_exporter": "python",
   "pygments_lexer": "ipython2",
   "version": "2.7.12"
  }
 },
 "nbformat": 4,
 "nbformat_minor": 0
}
