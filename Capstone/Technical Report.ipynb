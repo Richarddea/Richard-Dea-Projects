{
 "cells": [
  {
   "cell_type": "markdown",
   "metadata": {},
   "source": [
    "## Problem"
   ]
  },
  {
   "cell_type": "markdown",
   "metadata": {},
   "source": [
    "My goal for this project was to evaluate stats in the NFL and predict the outcome of an NFL game."
   ]
  },
  {
   "cell_type": "markdown",
   "metadata": {},
   "source": [
    "## Data"
   ]
  },
  {
   "cell_type": "markdown",
   "metadata": {},
   "source": [
    "For this project, I was able to find an NFL database that consist of stats from 2009 to 2015. This db was downloaded from BurntSushi github page to PostGreSQL. \n",
    "\n",
    "https://github.com/BurntSushi/nfldb\n",
    "\n",
    "This db consist of 5 tables and various team and player stats in each including final scores. \n"
   ]
  },
  {
   "cell_type": "markdown",
   "metadata": {},
   "source": [
    "## Cleaning"
   ]
  },
  {
   "cell_type": "markdown",
   "metadata": {},
   "source": [
    "To make the data more accessible and easier to analyze, I used python to access the PostGreSQL database where the data was stored. \n",
    "\n",
    "Since the column names did not transfer over to the Python Dataframes, I had to manuall change the columns names from numerical to stat name to be more readable. "
   ]
  },
  {
   "cell_type": "code",
   "execution_count": 19,
   "metadata": {
    "collapsed": false
   },
   "outputs": [],
   "source": [
    "import psycopg2\n",
    "import pandas as pd\n",
    "import seaborn as sns\n",
    "import matplotlib.pyplot as plt\n",
    "%matplotlib inline\n",
    "from sklearn import metrics\n",
    "from sklearn.grid_search import GridSearchCV\n",
    "\n",
    "try:\n",
    "    conn = psycopg2.connect('dbname=nfl user=nfldb')\n",
    "except: \n",
    "    print 'cannot connect'\n",
    "cur = conn.cursor()"
   ]
  },
  {
   "cell_type": "code",
   "execution_count": 2,
   "metadata": {
    "collapsed": false
   },
   "outputs": [
    {
     "data": {
      "text/html": [
       "<div>\n",
       "<table border=\"1\" class=\"dataframe\">\n",
       "  <thead>\n",
       "    <tr style=\"text-align: right;\">\n",
       "      <th></th>\n",
       "      <th>0</th>\n",
       "      <th>1</th>\n",
       "      <th>2</th>\n",
       "      <th>3</th>\n",
       "      <th>4</th>\n",
       "      <th>5</th>\n",
       "      <th>6</th>\n",
       "      <th>7</th>\n",
       "      <th>8</th>\n",
       "      <th>9</th>\n",
       "      <th>...</th>\n",
       "      <th>16</th>\n",
       "      <th>17</th>\n",
       "      <th>18</th>\n",
       "      <th>19</th>\n",
       "      <th>20</th>\n",
       "      <th>21</th>\n",
       "      <th>22</th>\n",
       "      <th>23</th>\n",
       "      <th>24</th>\n",
       "      <th>25</th>\n",
       "    </tr>\n",
       "  </thead>\n",
       "  <tbody>\n",
       "    <tr>\n",
       "      <th>0</th>\n",
       "      <td>2014122106</td>\n",
       "      <td>56403</td>\n",
       "      <td>2014-12-21 10:00:00-08:00</td>\n",
       "      <td>16</td>\n",
       "      <td>Sunday</td>\n",
       "      <td>2014</td>\n",
       "      <td>Regular</td>\n",
       "      <td>True</td>\n",
       "      <td>PIT</td>\n",
       "      <td>20</td>\n",
       "      <td>...</td>\n",
       "      <td>KC</td>\n",
       "      <td>12</td>\n",
       "      <td>3</td>\n",
       "      <td>3</td>\n",
       "      <td>0</td>\n",
       "      <td>6</td>\n",
       "      <td>0</td>\n",
       "      <td>0</td>\n",
       "      <td>2014-07-24 14:32:41.702371-07:00</td>\n",
       "      <td>2014-12-23 23:59:45.135816-08:00</td>\n",
       "    </tr>\n",
       "  </tbody>\n",
       "</table>\n",
       "<p>1 rows × 26 columns</p>\n",
       "</div>"
      ],
      "text/plain": [
       "           0      1                          2   3       4     5        6   \\\n",
       "0  2014122106  56403  2014-12-21 10:00:00-08:00  16  Sunday  2014  Regular   \n",
       "\n",
       "     7    8   9                 ...                 16  17  18  19  20  21 22  \\\n",
       "0  True  PIT  20                ...                 KC  12   3   3   0   6  0   \n",
       "\n",
       "   23                                24                                25  \n",
       "0   0  2014-07-24 14:32:41.702371-07:00  2014-12-23 23:59:45.135816-08:00  \n",
       "\n",
       "[1 rows x 26 columns]"
      ]
     },
     "execution_count": 2,
     "metadata": {},
     "output_type": "execute_result"
    }
   ],
   "source": [
    "cur.execute(\"select * from game\")\n",
    "game = cur.fetchall()\n",
    "\n",
    "games = []\n",
    "for rows in game:\n",
    "    games.append(rows)\n",
    "    \n",
    "games = pd.DataFrame(games)\n",
    "games.head(1)"
   ]
  },
  {
   "cell_type": "code",
   "execution_count": 3,
   "metadata": {
    "collapsed": false
   },
   "outputs": [
    {
     "data": {
      "text/html": [
       "<div>\n",
       "<table border=\"1\" class=\"dataframe\">\n",
       "  <thead>\n",
       "    <tr style=\"text-align: right;\">\n",
       "      <th></th>\n",
       "      <th>gsis_id</th>\n",
       "      <th>gamekey</th>\n",
       "      <th>start_time</th>\n",
       "      <th>week</th>\n",
       "      <th>day_of_week</th>\n",
       "      <th>season_year</th>\n",
       "      <th>season_type</th>\n",
       "      <th>finished</th>\n",
       "      <th>home_team</th>\n",
       "      <th>home_score</th>\n",
       "      <th>...</th>\n",
       "      <th>away_team</th>\n",
       "      <th>away_score</th>\n",
       "      <th>away_score_q1</th>\n",
       "      <th>away_score_q2</th>\n",
       "      <th>away_score_q3</th>\n",
       "      <th>away_score_q4</th>\n",
       "      <th>away_score_q5</th>\n",
       "      <th>away_turnovers</th>\n",
       "      <th>time_inserted</th>\n",
       "      <th>time_updated</th>\n",
       "    </tr>\n",
       "  </thead>\n",
       "  <tbody>\n",
       "    <tr>\n",
       "      <th>0</th>\n",
       "      <td>2014122106</td>\n",
       "      <td>56403</td>\n",
       "      <td>2014-12-21 10:00:00-08:00</td>\n",
       "      <td>16</td>\n",
       "      <td>Sunday</td>\n",
       "      <td>2014</td>\n",
       "      <td>Regular</td>\n",
       "      <td>True</td>\n",
       "      <td>PIT</td>\n",
       "      <td>20</td>\n",
       "      <td>...</td>\n",
       "      <td>KC</td>\n",
       "      <td>12</td>\n",
       "      <td>3</td>\n",
       "      <td>3</td>\n",
       "      <td>0</td>\n",
       "      <td>6</td>\n",
       "      <td>0</td>\n",
       "      <td>0</td>\n",
       "      <td>2014-07-24 14:32:41.702371-07:00</td>\n",
       "      <td>2014-12-23 23:59:45.135816-08:00</td>\n",
       "    </tr>\n",
       "  </tbody>\n",
       "</table>\n",
       "<p>1 rows × 26 columns</p>\n",
       "</div>"
      ],
      "text/plain": [
       "      gsis_id gamekey                 start_time  week day_of_week  \\\n",
       "0  2014122106   56403  2014-12-21 10:00:00-08:00    16      Sunday   \n",
       "\n",
       "   season_year season_type finished home_team  home_score  \\\n",
       "0         2014     Regular     True       PIT          20   \n",
       "\n",
       "                 ...                 away_team  away_score  away_score_q1  \\\n",
       "0                ...                        KC          12              3   \n",
       "\n",
       "   away_score_q2  away_score_q3  away_score_q4 away_score_q5  away_turnovers  \\\n",
       "0              3              0              6             0               0   \n",
       "\n",
       "                      time_inserted                      time_updated  \n",
       "0  2014-07-24 14:32:41.702371-07:00  2014-12-23 23:59:45.135816-08:00  \n",
       "\n",
       "[1 rows x 26 columns]"
      ]
     },
     "execution_count": 3,
     "metadata": {},
     "output_type": "execute_result"
    }
   ],
   "source": [
    "games.columns = ['gsis_id','gamekey','start_time','week','day_of_week','season_year',\n",
    "                 'season_type','finished','home_team','home_score','home_score_q1',\n",
    "                 'home_score_q2','home_score_q3','home_score_q4','home_score_q5',\n",
    "                 'home_turnovers','away_team','away_score','away_score_q1','away_score_q2',\n",
    "                 'away_score_q3','away_score_q4','away_score_q5','away_turnovers',\n",
    "                 'time_inserted','time_updated']\n",
    "games.head(1)"
   ]
  },
  {
   "cell_type": "markdown",
   "metadata": {},
   "source": [
    "### Creating a column for the Winner"
   ]
  },
  {
   "cell_type": "markdown",
   "metadata": {},
   "source": [
    "Since none of the tables shows the actual winners of each game, I created an additional column that shows the winner based on the final score of the game. To do so, I had to zip the home team and score and away team and score. "
   ]
  },
  {
   "cell_type": "code",
   "execution_count": 4,
   "metadata": {
    "collapsed": true
   },
   "outputs": [],
   "source": [
    "home_score = zip(games['home_team'], games['home_score'])\n",
    "away_score = zip(games['away_team'], games['away_score'])\n",
    "\n",
    "winner = []\n",
    "for k, v in zip(home_score, away_score):\n",
    "    if k[1] > v[1]:\n",
    "        winner.append(k[0])\n",
    "    elif k[1] < v[1]:\n",
    "        winner.append(v[0])\n",
    "    else:\n",
    "        winner.append('tie')\n",
    "        \n",
    "games['winner'] = winner"
   ]
  },
  {
   "cell_type": "markdown",
   "metadata": {},
   "source": [
    "# Final Dataset"
   ]
  },
  {
   "cell_type": "markdown",
   "metadata": {},
   "source": [
    "After subsetting and concatenating the play_players, games and drives tables, so that the home and away stats will be on a single row, I dropped columns that had high correlation and vulnerable to overfit. \n",
    "\n",
    "- Column names with X is for home teams\n",
    "- Column names with Y is for away teams\n",
    "\n",
    "The winner column has been dummified to show 1 if winner is the home team and 0 if winner is away team"
   ]
  },
  {
   "cell_type": "code",
   "execution_count": 5,
   "metadata": {
    "collapsed": true
   },
   "outputs": [],
   "source": [
    "finalDF = pd.read_csv('../Capstone/final_df_2_beforeDummy.csv')\n",
    "finalDF.drop('Unnamed: 0', axis=1, inplace=True)"
   ]
  },
  {
   "cell_type": "code",
   "execution_count": 6,
   "metadata": {
    "collapsed": false
   },
   "outputs": [
    {
     "data": {
      "text/html": [
       "<div>\n",
       "<table border=\"1\" class=\"dataframe\">\n",
       "  <thead>\n",
       "    <tr style=\"text-align: right;\">\n",
       "      <th></th>\n",
       "      <th>gsis_id</th>\n",
       "      <th>winner</th>\n",
       "      <th>team_x</th>\n",
       "      <th>team_y</th>\n",
       "      <th>score_x</th>\n",
       "      <th>score_y</th>\n",
       "      <th>week</th>\n",
       "      <th>day_of_week</th>\n",
       "      <th>defense_ast_x</th>\n",
       "      <th>defense_ffum_x</th>\n",
       "      <th>...</th>\n",
       "      <th>receiving_yac_yds_y</th>\n",
       "      <th>receiving_yds_y</th>\n",
       "      <th>rushing_att_y</th>\n",
       "      <th>rushing_tds_y</th>\n",
       "      <th>rushing_twopta_y</th>\n",
       "      <th>rushing_twoptm_y</th>\n",
       "      <th>rushing_twoptmissed_y</th>\n",
       "      <th>rushing_yds_y</th>\n",
       "      <th>turnovers_y</th>\n",
       "      <th>location_y</th>\n",
       "    </tr>\n",
       "  </thead>\n",
       "  <tbody>\n",
       "    <tr>\n",
       "      <th>0</th>\n",
       "      <td>2009091000</td>\n",
       "      <td>PIT</td>\n",
       "      <td>PIT</td>\n",
       "      <td>TEN</td>\n",
       "      <td>13</td>\n",
       "      <td>10</td>\n",
       "      <td>1</td>\n",
       "      <td>Thursday</td>\n",
       "      <td>25</td>\n",
       "      <td>1</td>\n",
       "      <td>...</td>\n",
       "      <td>88</td>\n",
       "      <td>244</td>\n",
       "      <td>25</td>\n",
       "      <td>0</td>\n",
       "      <td>0</td>\n",
       "      <td>0</td>\n",
       "      <td>0</td>\n",
       "      <td>86</td>\n",
       "      <td>2</td>\n",
       "      <td>0</td>\n",
       "    </tr>\n",
       "    <tr>\n",
       "      <th>1</th>\n",
       "      <td>2009091300</td>\n",
       "      <td>ATL</td>\n",
       "      <td>ATL</td>\n",
       "      <td>MIA</td>\n",
       "      <td>19</td>\n",
       "      <td>7</td>\n",
       "      <td>1</td>\n",
       "      <td>Sunday</td>\n",
       "      <td>5</td>\n",
       "      <td>3</td>\n",
       "      <td>...</td>\n",
       "      <td>88</td>\n",
       "      <td>176</td>\n",
       "      <td>22</td>\n",
       "      <td>0</td>\n",
       "      <td>0</td>\n",
       "      <td>0</td>\n",
       "      <td>0</td>\n",
       "      <td>96</td>\n",
       "      <td>0</td>\n",
       "      <td>0</td>\n",
       "    </tr>\n",
       "    <tr>\n",
       "      <th>2</th>\n",
       "      <td>2009091301</td>\n",
       "      <td>BAL</td>\n",
       "      <td>BAL</td>\n",
       "      <td>KC</td>\n",
       "      <td>38</td>\n",
       "      <td>24</td>\n",
       "      <td>1</td>\n",
       "      <td>Sunday</td>\n",
       "      <td>10</td>\n",
       "      <td>1</td>\n",
       "      <td>...</td>\n",
       "      <td>82</td>\n",
       "      <td>177</td>\n",
       "      <td>17</td>\n",
       "      <td>0</td>\n",
       "      <td>0</td>\n",
       "      <td>0</td>\n",
       "      <td>0</td>\n",
       "      <td>29</td>\n",
       "      <td>0</td>\n",
       "      <td>0</td>\n",
       "    </tr>\n",
       "  </tbody>\n",
       "</table>\n",
       "<p>3 rows × 156 columns</p>\n",
       "</div>"
      ],
      "text/plain": [
       "      gsis_id winner team_x team_y  score_x  score_y  week day_of_week  \\\n",
       "0  2009091000    PIT    PIT    TEN       13       10     1    Thursday   \n",
       "1  2009091300    ATL    ATL    MIA       19        7     1      Sunday   \n",
       "2  2009091301    BAL    BAL     KC       38       24     1      Sunday   \n",
       "\n",
       "   defense_ast_x  defense_ffum_x     ...      receiving_yac_yds_y  \\\n",
       "0             25               1     ...                       88   \n",
       "1              5               3     ...                       88   \n",
       "2             10               1     ...                       82   \n",
       "\n",
       "   receiving_yds_y  rushing_att_y  rushing_tds_y  rushing_twopta_y  \\\n",
       "0              244             25              0                 0   \n",
       "1              176             22              0                 0   \n",
       "2              177             17              0                 0   \n",
       "\n",
       "   rushing_twoptm_y  rushing_twoptmissed_y  rushing_yds_y  turnovers_y  \\\n",
       "0                 0                      0             86            2   \n",
       "1                 0                      0             96            0   \n",
       "2                 0                      0             29            0   \n",
       "\n",
       "   location_y  \n",
       "0           0  \n",
       "1           0  \n",
       "2           0  \n",
       "\n",
       "[3 rows x 156 columns]"
      ]
     },
     "execution_count": 6,
     "metadata": {},
     "output_type": "execute_result"
    }
   ],
   "source": [
    "finalDF.head(3)"
   ]
  },
  {
   "cell_type": "markdown",
   "metadata": {},
   "source": [
    "### Below plot shows the total wins by team from 2009 to 2015"
   ]
  },
  {
   "cell_type": "code",
   "execution_count": 79,
   "metadata": {
    "collapsed": false
   },
   "outputs": [
    {
     "data": {
      "image/png": "[encoded data removed]",
      "text/plain": [
       "<matplotlib.figure.Figure at 0x133466110>"
      ]
     },
     "metadata": {},
     "output_type": "display_data"
    }
   ],
   "source": [
    "most_wins = finalDF.winner.value_counts()\n",
    "most_wins = pd.DataFrame(most_wins).reset_index()\n",
    "most_wins.columns = ['Team','Total Wins']\n",
    "\n",
    "sns.set(style='whitegrid')\n",
    "fig = plt.figure(figsize=(8,6))\n",
    "ax = fig.gca()\n",
    "sns.barplot(x='Total Wins', y='Team', data=most_wins,)\n",
    "ax.set(xlabel='Total Wins 2009-2015', ylabel='Team')\n",
    "\n",
    "plt.show()"
   ]
  },
  {
   "cell_type": "markdown",
   "metadata": {},
   "source": [
    "# Model Selection"
   ]
  },
  {
   "cell_type": "markdown",
   "metadata": {},
   "source": [
    "I chose to 5 models to run my dataset and predict the outcomes of each game. Here are the 5 I chose:\n",
    "- Logistic Regression\n",
    "- KNN\n",
    "- Decision Tree\n",
    "- Extra Tree\n",
    "- Bagging Decision Tree\n",
    "- Random Forest\n",
    "\n",
    "To begin, I used train test to split my dataset up to be able to test my training model."
   ]
  },
  {
   "cell_type": "code",
   "execution_count": 86,
   "metadata": {
    "collapsed": true
   },
   "outputs": [],
   "source": [
    "final_df_3 = pd.read_csv('../Capstone/final_df_3.csv')\n",
    "final_df_3.drop(['Unnamed: 0'], axis=1, inplace=True)\n",
    "final_df_3 = pd.get_dummies(final_df_3, columns=['team_x', 'team_y'])"
   ]
  },
  {
   "cell_type": "code",
   "execution_count": 90,
   "metadata": {
    "collapsed": false
   },
   "outputs": [],
   "source": [
    "from sklearn.cross_validation import train_test_split\n",
    "\n",
    "y = final_df_3['winner']\n",
    "X = final_df_3.iloc[:, 4:]\n",
    "\n",
    "X_train, X_test, y_train, y_test = train_test_split(X, y, test_size=0.3, random_state=42)"
   ]
  },
  {
   "cell_type": "markdown",
   "metadata": {},
   "source": [
    "### Logistic Regression\n",
    "   - I started with Logistic regression with a gridsearch with both Lasso and Ridge regression to either remove or scale down some of the features.\n",
    "   - After running the model, ridge regression with the scaled down feature turned out to have the best parameter."
   ]
  },
  {
   "cell_type": "code",
   "execution_count": 91,
   "metadata": {
    "collapsed": false
   },
   "outputs": [],
   "source": [
    "from sklearn.linear_model import LogisticRegression\n",
    "from sklearn.grid_search import GridSearchCV\n",
    "\n",
    "logreg = LogisticRegression()\n",
    "logreg_params = {\n",
    "    'penalty':['l1','l2'],\n",
    "    'class_weight':[None, 'balanced' ],\n",
    "    'solver': ['liblinear']\n",
    "}"
   ]
  },
  {
   "cell_type": "code",
   "execution_count": 92,
   "metadata": {
    "collapsed": false
   },
   "outputs": [
    {
     "name": "stdout",
     "output_type": "stream",
     "text": [
      "Fitting 5 folds for each of 4 candidates, totalling 20 fits\n"
     ]
    },
    {
     "name": "stderr",
     "output_type": "stream",
     "text": [
      "[Parallel(n_jobs=1)]: Done  20 out of  20 | elapsed:    2.8s finished\n"
     ]
    },
    {
     "data": {
      "text/plain": [
       "GridSearchCV(cv=5, error_score='raise',\n",
       "       estimator=LogisticRegression(C=1.0, class_weight=None, dual=False, fit_intercept=True,\n",
       "          intercept_scaling=1, max_iter=100, multi_class='ovr', n_jobs=1,\n",
       "          penalty='l2', random_state=None, solver='liblinear', tol=0.0001,\n",
       "          verbose=0, warm_start=False),\n",
       "       fit_params={}, iid=True, n_jobs=1,\n",
       "       param_grid={'penalty': ['l1', 'l2'], 'solver': ['liblinear'], 'class_weight': [None, 'balanced']},\n",
       "       pre_dispatch='2*n_jobs', refit=True, scoring=None, verbose=1)"
      ]
     },
     "execution_count": 92,
     "metadata": {},
     "output_type": "execute_result"
    }
   ],
   "source": [
    "logreg_gs = GridSearchCV(LogisticRegression(), logreg_params, cv=5, verbose=1)\n",
    "logreg_gs.fit(X_train, y_train)"
   ]
  },
  {
   "cell_type": "code",
   "execution_count": 93,
   "metadata": {
    "collapsed": false
   },
   "outputs": [
    {
     "name": "stdout",
     "output_type": "stream",
     "text": [
      "LogisticRegression(C=1.0, class_weight=None, dual=False, fit_intercept=True,\n",
      "          intercept_scaling=1, max_iter=100, multi_class='ovr', n_jobs=1,\n",
      "          penalty='l2', random_state=None, solver='liblinear', tol=0.0001,\n",
      "          verbose=0, warm_start=False)\n",
      "{'penalty': 'l2', 'solver': 'liblinear', 'class_weight': None}\n",
      "0.927035330261\n"
     ]
    }
   ],
   "source": [
    "logreg_best = logreg_gs.best_estimator_\n",
    "print logreg_best\n",
    "print logreg_gs.best_params_\n",
    "print logreg_gs.best_score_"
   ]
  },
  {
   "cell_type": "code",
   "execution_count": 95,
   "metadata": {
    "collapsed": false
   },
   "outputs": [
    {
     "name": "stdout",
     "output_type": "stream",
     "text": [
      "[[212  20]\n",
      " [ 16 310]]\n",
      "             precision    recall  f1-score   support\n",
      "\n",
      "          0       0.93      0.91      0.92       232\n",
      "          1       0.94      0.95      0.95       326\n",
      "\n",
      "avg / total       0.94      0.94      0.94       558\n",
      "\n"
     ]
    }
   ],
   "source": [
    "from sklearn import metrics\n",
    "\n",
    "lr_gs_predicted = logreg_gs.predict(X_test)\n",
    "print metrics.confusion_matrix(y_test, lr_gs_predicted)\n",
    "print metrics.classification_report(y_test, lr_gs_predicted)"
   ]
  },
  {
   "cell_type": "code",
   "execution_count": 138,
   "metadata": {
    "collapsed": false
   },
   "outputs": [
    {
     "data": {
      "text/plain": [
       "array([[  1.00591236e-01,   8.99408764e-01],\n",
       "       [  2.15004208e-05,   9.99978500e-01],\n",
       "       [  7.91399296e-02,   9.20860070e-01],\n",
       "       ..., \n",
       "       [  2.32906091e-05,   9.99976709e-01],\n",
       "       [  1.97219338e-01,   8.02780662e-01],\n",
       "       [  9.99998901e-01,   1.09890150e-06]])"
      ]
     },
     "execution_count": 138,
     "metadata": {},
     "output_type": "execute_result"
    }
   ],
   "source": [
    "#logreg_gs.predict_proba(X_test)[:, 1]\n",
    "lr_prob"
   ]
  },
  {
   "cell_type": "markdown",
   "metadata": {},
   "source": [
    "### KNN\n",
    "   - I tested KNN next and the accuracy score did not turn out very well compared to Logistic Regression"
   ]
  },
  {
   "cell_type": "code",
   "execution_count": 97,
   "metadata": {
    "collapsed": true
   },
   "outputs": [],
   "source": [
    "from sklearn.neighbors import KNeighborsClassifier\n",
    "knn = KNeighborsClassifier()\n",
    "\n",
    "knn_params = {\n",
    "    'n_neighbors':range(1,50),\n",
    "    'weights':['uniform','distance']\n",
    "}"
   ]
  },
  {
   "cell_type": "code",
   "execution_count": 98,
   "metadata": {
    "collapsed": false
   },
   "outputs": [
    {
     "name": "stdout",
     "output_type": "stream",
     "text": [
      "Fitting 5 folds for each of 98 candidates, totalling 490 fits\n"
     ]
    },
    {
     "name": "stderr",
     "output_type": "stream",
     "text": [
      "[Parallel(n_jobs=1)]: Done  49 tasks       | elapsed:    2.4s\n",
      "[Parallel(n_jobs=1)]: Done 199 tasks       | elapsed:   11.6s\n",
      "[Parallel(n_jobs=1)]: Done 449 tasks       | elapsed:   28.8s\n",
      "[Parallel(n_jobs=1)]: Done 490 out of 490 | elapsed:   32.0s finished\n"
     ]
    },
    {
     "data": {
      "text/plain": [
       "GridSearchCV(cv=5, error_score='raise',\n",
       "       estimator=KNeighborsClassifier(algorithm='auto', leaf_size=30, metric='minkowski',\n",
       "           metric_params=None, n_jobs=1, n_neighbors=5, p=2,\n",
       "           weights='uniform'),\n",
       "       fit_params={}, iid=True, n_jobs=1,\n",
       "       param_grid={'n_neighbors': [1, 2, 3, 4, 5, 6, 7, 8, 9, 10, 11, 12, 13, 14, 15, 16, 17, 18, 19, 20, 21, 22, 23, 24, 25, 26, 27, 28, 29, 30, 31, 32, 33, 34, 35, 36, 37, 38, 39, 40, 41, 42, 43, 44, 45, 46, 47, 48, 49], 'weights': ['uniform', 'distance']},\n",
       "       pre_dispatch='2*n_jobs', refit=True, scoring=None, verbose=1)"
      ]
     },
     "execution_count": 98,
     "metadata": {},
     "output_type": "execute_result"
    }
   ],
   "source": [
    "knn_gs = GridSearchCV(KNeighborsClassifier(), knn_params, cv=5, verbose=1)\n",
    "knn_gs.fit(X_train, y_train)"
   ]
  },
  {
   "cell_type": "code",
   "execution_count": 99,
   "metadata": {
    "collapsed": false
   },
   "outputs": [
    {
     "name": "stdout",
     "output_type": "stream",
     "text": [
      "KNeighborsClassifier(algorithm='auto', leaf_size=30, metric='minkowski',\n",
      "           metric_params=None, n_jobs=1, n_neighbors=37, p=2,\n",
      "           weights='uniform')\n",
      "{'n_neighbors': 37, 'weights': 'uniform'}\n",
      "0.73886328725\n"
     ]
    }
   ],
   "source": [
    "knn_best = knn_gs.best_estimator_\n",
    "print knn_best\n",
    "print knn_gs.best_params_\n",
    "print knn_gs.best_score_"
   ]
  },
  {
   "cell_type": "code",
   "execution_count": 100,
   "metadata": {
    "collapsed": false
   },
   "outputs": [
    {
     "name": "stdout",
     "output_type": "stream",
     "text": [
      "[[137  95]\n",
      " [ 67 259]]\n",
      "             precision    recall  f1-score   support\n",
      "\n",
      "          0       0.67      0.59      0.63       232\n",
      "          1       0.73      0.79      0.76       326\n",
      "\n",
      "avg / total       0.71      0.71      0.71       558\n",
      "\n"
     ]
    }
   ],
   "source": [
    "knn_gs_predicted = knn_gs.predict(X_test)\n",
    "print metrics.confusion_matrix(y_test, knn_gs_predicted)\n",
    "print metrics.classification_report(y_test, knn_gs_predicted)"
   ]
  },
  {
   "cell_type": "markdown",
   "metadata": {},
   "source": [
    "### Decision Tree\n",
    "   - I then modeled the dataset with Decision Tree and the score was best with a depth of 4. Also added a few ensemble methods and best best score came out to be Extra Tree. "
   ]
  },
  {
   "cell_type": "code",
   "execution_count": 121,
   "metadata": {
    "collapsed": true
   },
   "outputs": [],
   "source": [
    "from sklearn.tree import DecisionTreeClassifier\n",
    "dtc = DecisionTreeClassifier()\n",
    "\n",
    "dtc_params = {\n",
    "    'max_depth':[None,1,2,3,4,5,10,20],\n",
    "    'max_features':[None,'log2','sqrt',2,3,4,5],\n",
    "    'min_samples_split':[2,3,4,5,10,15,20,25]\n",
    "}"
   ]
  },
  {
   "cell_type": "code",
   "execution_count": 122,
   "metadata": {
    "collapsed": false
   },
   "outputs": [
    {
     "name": "stdout",
     "output_type": "stream",
     "text": [
      "Fitting 5 folds for each of 448 candidates, totalling 2240 fits\n"
     ]
    },
    {
     "name": "stderr",
     "output_type": "stream",
     "text": [
      "[Parallel(n_jobs=1)]: Done  49 tasks       | elapsed:    1.1s\n",
      "[Parallel(n_jobs=1)]: Done 199 tasks       | elapsed:    2.2s\n",
      "[Parallel(n_jobs=1)]: Done 449 tasks       | elapsed:    3.7s\n",
      "[Parallel(n_jobs=1)]: Done 799 tasks       | elapsed:    5.9s\n",
      "[Parallel(n_jobs=1)]: Done 1249 tasks       | elapsed:    9.1s\n",
      "[Parallel(n_jobs=1)]: Done 1799 tasks       | elapsed:   13.5s\n",
      "[Parallel(n_jobs=1)]: Done 2240 out of 2240 | elapsed:   17.5s finished\n"
     ]
    },
    {
     "data": {
      "text/plain": [
       "GridSearchCV(cv=5, error_score='raise',\n",
       "       estimator=DecisionTreeClassifier(class_weight=None, criterion='gini', max_depth=None,\n",
       "            max_features=None, max_leaf_nodes=None, min_samples_leaf=1,\n",
       "            min_samples_split=2, min_weight_fraction_leaf=0.0,\n",
       "            presort=False, random_state=None, splitter='best'),\n",
       "       fit_params={}, iid=True, n_jobs=1,\n",
       "       param_grid={'max_features': [None, 'log2', 'sqrt', 2, 3, 4, 5], 'min_samples_split': [2, 3, 4, 5, 10, 15, 20, 25], 'max_depth': [None, 1, 2, 3, 4, 5, 10, 20]},\n",
       "       pre_dispatch='2*n_jobs', refit=True, scoring=None, verbose=1)"
      ]
     },
     "execution_count": 122,
     "metadata": {},
     "output_type": "execute_result"
    }
   ],
   "source": [
    "dtc_gs = GridSearchCV(DecisionTreeClassifier(), dtc_params, cv=5, verbose=1)\n",
    "dtc_gs.fit(X_train, y_train)"
   ]
  },
  {
   "cell_type": "code",
   "execution_count": 123,
   "metadata": {
    "collapsed": false
   },
   "outputs": [
    {
     "name": "stdout",
     "output_type": "stream",
     "text": [
      "DecisionTreeClassifier(class_weight=None, criterion='gini', max_depth=4,\n",
      "            max_features=None, max_leaf_nodes=None, min_samples_leaf=1,\n",
      "            min_samples_split=2, min_weight_fraction_leaf=0.0,\n",
      "            presort=False, random_state=None, splitter='best')\n",
      "{'max_features': None, 'min_samples_split': 2, 'max_depth': 4}\n",
      "0.837173579109\n"
     ]
    }
   ],
   "source": [
    "dtc_best = dtc_gs.best_estimator_\n",
    "print dtc_best\n",
    "print dtc_gs.best_params_\n",
    "print dtc_gs.best_score_"
   ]
  },
  {
   "cell_type": "code",
   "execution_count": 105,
   "metadata": {
    "collapsed": false
   },
   "outputs": [
    {
     "name": "stdout",
     "output_type": "stream",
     "text": [
      "[[176  56]\n",
      " [ 31 295]]\n",
      "             precision    recall  f1-score   support\n",
      "\n",
      "          0       0.85      0.76      0.80       232\n",
      "          1       0.84      0.90      0.87       326\n",
      "\n",
      "avg / total       0.84      0.84      0.84       558\n",
      "\n"
     ]
    }
   ],
   "source": [
    "dtc_gs_predicted = dtc_gs.predict(X_test)\n",
    "print metrics.confusion_matrix(y_test, dtc_gs_predicted)\n",
    "print metrics.classification_report(y_test, dtc_gs_predicted)"
   ]
  },
  {
   "cell_type": "markdown",
   "metadata": {},
   "source": [
    "### Bagging Decision Tree"
   ]
  },
  {
   "cell_type": "code",
   "execution_count": 106,
   "metadata": {
    "collapsed": true
   },
   "outputs": [],
   "source": [
    "from sklearn.ensemble import BaggingClassifier\n",
    "bdtc = BaggingClassifier(DecisionTreeClassifier())\n",
    "\n",
    "params = {'base_estimator__max_depth': [3,5,10,20],\n",
    "          'max_features': [0.5, 0.7, 1.0],\n",
    "          'max_samples': [0.5, 0.7, 1.0],\n",
    "          'n_estimators': [2, 5, 10, 20],\n",
    "         }"
   ]
  },
  {
   "cell_type": "code",
   "execution_count": 107,
   "metadata": {
    "collapsed": false
   },
   "outputs": [
    {
     "data": {
      "text/plain": [
       "GridSearchCV(cv=5, error_score='raise',\n",
       "       estimator=BaggingClassifier(base_estimator=DecisionTreeClassifier(class_weight=None, criterion='gini', max_depth=None,\n",
       "            max_features=None, max_leaf_nodes=None, min_samples_leaf=1,\n",
       "            min_samples_split=2, min_weight_fraction_leaf=0.0,\n",
       "            presort=False, random_state=None, ...n_estimators=10, n_jobs=1, oob_score=False,\n",
       "         random_state=None, verbose=0, warm_start=False),\n",
       "       fit_params={}, iid=True, n_jobs=-1,\n",
       "       param_grid={'max_features': [0.5, 0.7, 1.0], 'max_samples': [0.5, 0.7, 1.0], 'base_estimator__max_depth': [3, 5, 10, 20], 'n_estimators': [2, 5, 10, 20]},\n",
       "       pre_dispatch='2*n_jobs', refit=True, scoring=None, verbose=0)"
      ]
     },
     "execution_count": 107,
     "metadata": {},
     "output_type": "execute_result"
    }
   ],
   "source": [
    "bdt_gs = GridSearchCV(bdtc, params, n_jobs=-1, cv=5)\n",
    "bdt_gs.fit(X_train, y_train)"
   ]
  },
  {
   "cell_type": "code",
   "execution_count": 108,
   "metadata": {
    "collapsed": false
   },
   "outputs": [
    {
     "name": "stdout",
     "output_type": "stream",
     "text": [
      "BaggingClassifier(base_estimator=DecisionTreeClassifier(class_weight=None, criterion='gini', max_depth=10,\n",
      "            max_features=None, max_leaf_nodes=None, min_samples_leaf=1,\n",
      "            min_samples_split=2, min_weight_fraction_leaf=0.0,\n",
      "            presort=False, random_state=None, splitter='best'),\n",
      "         bootstrap=True, bootstrap_features=False, max_features=0.7,\n",
      "         max_samples=0.7, n_estimators=20, n_jobs=1, oob_score=False,\n",
      "         random_state=None, verbose=0, warm_start=False)\n",
      "{'max_features': 0.7, 'max_samples': 0.7, 'base_estimator__max_depth': 10, 'n_estimators': 20}\n",
      "0.89247311828\n"
     ]
    }
   ],
   "source": [
    "bdt_best = bdt_gs.best_estimator_\n",
    "print bdt_best\n",
    "print bdt_gs.best_params_\n",
    "print bdt_gs.best_score_"
   ]
  },
  {
   "cell_type": "code",
   "execution_count": 109,
   "metadata": {
    "collapsed": false
   },
   "outputs": [
    {
     "name": "stdout",
     "output_type": "stream",
     "text": [
      "[[193  39]\n",
      " [ 22 304]]\n",
      "             precision    recall  f1-score   support\n",
      "\n",
      "          0       0.90      0.83      0.86       232\n",
      "          1       0.89      0.93      0.91       326\n",
      "\n",
      "avg / total       0.89      0.89      0.89       558\n",
      "\n"
     ]
    }
   ],
   "source": [
    "bdt_gs_predicted = bdt_gs.predict(X_test)\n",
    "print metrics.confusion_matrix(y_test, bdt_gs_predicted)\n",
    "print metrics.classification_report(y_test, bdt_gs_predicted)"
   ]
  },
  {
   "cell_type": "markdown",
   "metadata": {},
   "source": [
    "### Extra Tree Classifier"
   ]
  },
  {
   "cell_type": "code",
   "execution_count": 111,
   "metadata": {
    "collapsed": true
   },
   "outputs": [],
   "source": [
    "from sklearn.ensemble import ExtraTreesClassifier\n",
    "etc = ExtraTreesClassifier()"
   ]
  },
  {
   "cell_type": "code",
   "execution_count": 112,
   "metadata": {
    "collapsed": false
   },
   "outputs": [
    {
     "name": "stdout",
     "output_type": "stream",
     "text": [
      "Fitting 5 folds for each of 280 candidates, totalling 1400 fits\n"
     ]
    },
    {
     "name": "stderr",
     "output_type": "stream",
     "text": [
      "[Parallel(n_jobs=1)]: Done  49 tasks       | elapsed:    4.8s\n",
      "[Parallel(n_jobs=1)]: Done 199 tasks       | elapsed:   11.7s\n",
      "[Parallel(n_jobs=1)]: Done 449 tasks       | elapsed:   21.8s\n",
      "[Parallel(n_jobs=1)]: Done 799 tasks       | elapsed:   33.9s\n",
      "[Parallel(n_jobs=1)]: Done 1249 tasks       | elapsed:   52.2s\n",
      "[Parallel(n_jobs=1)]: Done 1400 out of 1400 | elapsed:   58.6s finished\n"
     ]
    },
    {
     "data": {
      "text/plain": [
       "GridSearchCV(cv=5, error_score='raise',\n",
       "       estimator=ExtraTreesClassifier(bootstrap=False, class_weight=None, criterion='gini',\n",
       "           max_depth=None, max_features='auto', max_leaf_nodes=None,\n",
       "           min_samples_leaf=1, min_samples_split=2,\n",
       "           min_weight_fraction_leaf=0.0, n_estimators=10, n_jobs=1,\n",
       "           oob_score=False, random_state=None, verbose=0, warm_start=False),\n",
       "       fit_params={}, iid=True, n_jobs=1,\n",
       "       param_grid={'max_features': [None, 'log2', 'sqrt', 2, 3, 4, 5], 'min_samples_split': [2, 3, 4, 5, 10, 15, 20, 25], 'max_depth': [None, 1, 2, 3, 4]},\n",
       "       pre_dispatch='2*n_jobs', refit=True, scoring=None, verbose=1)"
      ]
     },
     "execution_count": 112,
     "metadata": {},
     "output_type": "execute_result"
    }
   ],
   "source": [
    "etc_gs = GridSearchCV(etc, dtc_params, cv=5, verbose=1)\n",
    "etc_gs.fit(X_train, y_train)"
   ]
  },
  {
   "cell_type": "code",
   "execution_count": 114,
   "metadata": {
    "collapsed": false
   },
   "outputs": [
    {
     "name": "stdout",
     "output_type": "stream",
     "text": [
      "ExtraTreesClassifier(bootstrap=False, class_weight=None, criterion='gini',\n",
      "           max_depth=None, max_features='sqrt', max_leaf_nodes=None,\n",
      "           min_samples_leaf=1, min_samples_split=10,\n",
      "           min_weight_fraction_leaf=0.0, n_estimators=10, n_jobs=1,\n",
      "           oob_score=False, random_state=None, verbose=0, warm_start=False)\n",
      "{'max_features': 'sqrt', 'min_samples_split': 10, 'max_depth': None}\n",
      "0.890937019969\n"
     ]
    }
   ],
   "source": [
    "etc_best = etc_gs.best_estimator_\n",
    "print etc_best\n",
    "print etc_gs.best_params_\n",
    "print etc_gs.best_score_"
   ]
  },
  {
   "cell_type": "code",
   "execution_count": 113,
   "metadata": {
    "collapsed": false
   },
   "outputs": [
    {
     "name": "stdout",
     "output_type": "stream",
     "text": [
      "[[199  33]\n",
      " [ 24 302]]\n",
      "             precision    recall  f1-score   support\n",
      "\n",
      "          0       0.89      0.86      0.87       232\n",
      "          1       0.90      0.93      0.91       326\n",
      "\n",
      "avg / total       0.90      0.90      0.90       558\n",
      "\n"
     ]
    }
   ],
   "source": [
    "etc_gs_predicted = etc_gs.predict(X_test)\n",
    "print metrics.confusion_matrix(y_test, etc_gs_predicted)\n",
    "print metrics.classification_report(y_test, etc_gs_predicted)"
   ]
  },
  {
   "cell_type": "markdown",
   "metadata": {},
   "source": [
    "### Random Forest"
   ]
  },
  {
   "cell_type": "code",
   "execution_count": 116,
   "metadata": {
    "collapsed": true
   },
   "outputs": [],
   "source": [
    "from sklearn.ensemble import RandomForestClassifier\n",
    "rfc = RandomForestClassifier()"
   ]
  },
  {
   "cell_type": "code",
   "execution_count": 117,
   "metadata": {
    "collapsed": false
   },
   "outputs": [
    {
     "name": "stdout",
     "output_type": "stream",
     "text": [
      "Fitting 5 folds for each of 280 candidates, totalling 1400 fits\n"
     ]
    },
    {
     "name": "stderr",
     "output_type": "stream",
     "text": [
      "[Parallel(n_jobs=1)]: Done  49 tasks       | elapsed:    7.5s\n",
      "[Parallel(n_jobs=1)]: Done 199 tasks       | elapsed:   14.9s\n",
      "[Parallel(n_jobs=1)]: Done 449 tasks       | elapsed:   25.5s\n",
      "[Parallel(n_jobs=1)]: Done 799 tasks       | elapsed:   39.8s\n",
      "[Parallel(n_jobs=1)]: Done 1249 tasks       | elapsed:  1.0min\n",
      "[Parallel(n_jobs=1)]: Done 1400 out of 1400 | elapsed:  1.1min finished\n"
     ]
    },
    {
     "data": {
      "text/plain": [
       "GridSearchCV(cv=5, error_score='raise',\n",
       "       estimator=RandomForestClassifier(bootstrap=True, class_weight=None, criterion='gini',\n",
       "            max_depth=None, max_features='auto', max_leaf_nodes=None,\n",
       "            min_samples_leaf=1, min_samples_split=2,\n",
       "            min_weight_fraction_leaf=0.0, n_estimators=10, n_jobs=1,\n",
       "            oob_score=False, random_state=None, verbose=0,\n",
       "            warm_start=False),\n",
       "       fit_params={}, iid=True, n_jobs=1,\n",
       "       param_grid={'max_features': [None, 'log2', 'sqrt', 2, 3, 4, 5], 'min_samples_split': [2, 3, 4, 5, 10, 15, 20, 25], 'max_depth': [None, 1, 2, 3, 4]},\n",
       "       pre_dispatch='2*n_jobs', refit=True, scoring=None, verbose=1)"
      ]
     },
     "execution_count": 117,
     "metadata": {},
     "output_type": "execute_result"
    }
   ],
   "source": [
    "rfc_gs = GridSearchCV(RandomForestClassifier(), dtc_params, cv=5, verbose=1)\n",
    "rfc_gs.fit(X_train, y_train)"
   ]
  },
  {
   "cell_type": "code",
   "execution_count": 118,
   "metadata": {
    "collapsed": false
   },
   "outputs": [
    {
     "name": "stdout",
     "output_type": "stream",
     "text": [
      "RandomForestClassifier(bootstrap=True, class_weight=None, criterion='gini',\n",
      "            max_depth=None, max_features=None, max_leaf_nodes=None,\n",
      "            min_samples_leaf=1, min_samples_split=15,\n",
      "            min_weight_fraction_leaf=0.0, n_estimators=10, n_jobs=1,\n",
      "            oob_score=False, random_state=None, verbose=0,\n",
      "            warm_start=False)\n",
      "{'max_features': None, 'min_samples_split': 15, 'max_depth': None}\n",
      "0.885560675883\n"
     ]
    }
   ],
   "source": [
    "rfc_best = rfc_gs.best_estimator_\n",
    "print rfc_best\n",
    "print rfc_gs.best_params_\n",
    "print rfc_gs.best_score_"
   ]
  },
  {
   "cell_type": "code",
   "execution_count": 126,
   "metadata": {
    "collapsed": false
   },
   "outputs": [
    {
     "name": "stdout",
     "output_type": "stream",
     "text": [
      "[[193  39]\n",
      " [ 30 296]]\n",
      "             precision    recall  f1-score   support\n",
      "\n",
      "          0       0.87      0.83      0.85       232\n",
      "          1       0.88      0.91      0.90       326\n",
      "\n",
      "avg / total       0.88      0.88      0.88       558\n",
      "\n"
     ]
    }
   ],
   "source": [
    "rfc_gs_predicted = rfc_gs.predict(X_test)\n",
    "print metrics.confusion_matrix(y_test, rfc_gs_predicted)\n",
    "print metrics.classification_report(y_test, rfc_gs_predicted)"
   ]
  },
  {
   "cell_type": "code",
   "execution_count": 129,
   "metadata": {
    "collapsed": true
   },
   "outputs": [],
   "source": [
    "lr_prob = logreg_gs.predict_proba(X_test)\n",
    "bt_prob = bdt_gs.predict_proba(X_test)\n",
    "et_prob = etc_gs.predict_proba(X_test)\n",
    "rf_prob = rfc_gs.predict_proba(X_test)\n",
    "dt_prob = dtc_gs.predict_proba(X_test)\n",
    "knn_prob = knn_gs.predict_proba(X_test)\n"
   ]
  },
  {
   "cell_type": "code",
   "execution_count": 132,
   "metadata": {
    "collapsed": false
   },
   "outputs": [
    {
     "data": {
      "image/png": "[encoded data removed]",
      "text/plain": [
       "<matplotlib.figure.Figure at 0x132907c10>"
      ]
     },
     "metadata": {},
     "output_type": "display_data"
    }
   ],
   "source": [
    "from sklearn.metrics import roc_curve, auc\n",
    "plt.figure(figsize=(11,9),dpi=640)\n",
    "\n",
    "fpr, tpr, thresholds = roc_curve(y_test, lr_prob[:,1])\n",
    "auc1 = auc(fpr,tpr)\n",
    "plt.plot(fpr, tpr, label=\"Logistic Reg:       {0}\".format(round(auc1,3)),color='blue', linewidth=4)\n",
    "\n",
    "fpr, tpr, thresholds = roc_curve(y_test, bt_prob[:,1])\n",
    "auc2 = auc(fpr,tpr)\n",
    "plt.plot(fpr, tpr,label=\"Bagging Tree:     {0}\".format(round(auc2,3)),color='orange', linewidth=4)\n",
    "\n",
    "fpr, tpr, thresholds = roc_curve(y_test, et_prob[:, 1])\n",
    "auc3 = auc(fpr,tpr)\n",
    "plt.plot(fpr, tpr,label=\"Extra Tree:          {0}\".format(round(auc3,3)),color='red', linewidth=4)\n",
    "\n",
    "fpr, tpr, thresholds = roc_curve(y_test, rf_prob[:,1])\n",
    "auc4 = auc(fpr,tpr)\n",
    "plt.plot(fpr, tpr,label=\"Random Forest:  {0}\".format(round(auc4,3)),color='black', linewidth=4)\n",
    "\n",
    "fpr, tpr, thresholds = roc_curve(y_test, dt_prob[:,1])\n",
    "auc5 = auc(fpr,tpr)\n",
    "plt.plot(fpr, tpr,label=\"Decision Tree:     {0}\".format(round(auc5,3)),color='green', linewidth=4)\n",
    "\n",
    "fpr, tpr, thresholds = roc_curve(y_test, knn_prob[:,1])\n",
    "auc6 = auc(fpr,tpr)\n",
    "plt.plot(fpr, tpr, label=\"KNN Reg:            {0}\".format(round(auc6,3)),color='purple', linewidth=4)\n",
    "\n",
    "\n",
    "plt.plot([0, 1], [0, 1], 'k--', lw=2) \n",
    "plt.xlim([0.0, 1.0]) \n",
    "plt.ylim([0.0, 1.05])\n",
    "\n",
    "plt.xlabel('False Positive Rate')  \n",
    "plt.ylabel('True Positive Rate') \n",
    "plt.title('ROC for NFL Winners') \n",
    "plt.grid(True)\n",
    "plt.legend(loc=\"lower right\")\n",
    "plt.show()"
   ]
  },
  {
   "cell_type": "markdown",
   "metadata": {
    "collapsed": true
   },
   "source": [
    "![emsemble](https://snag.gy/Hz3wTf.jpg)"
   ]
  },
  {
   "cell_type": "code",
   "execution_count": null,
   "metadata": {
    "collapsed": false
   },
   "outputs": [],
   "source": []
  }
 ],
 "metadata": {
  "anaconda-cloud": {},
  "kernelspec": {
   "display_name": "Python [Root]",
   "language": "python",
   "name": "Python [Root]"
  },
  "language_info": {
   "codemirror_mode": {
    "name": "ipython",
    "version": 2
   },
   "file_extension": ".py",
   "mimetype": "text/x-python",
   "name": "python",
   "nbconvert_exporter": "python",
   "pygments_lexer": "ipython2",
   "version": "2.7.12"
  }
 },
 "nbformat": 4,
 "nbformat_minor": 0
}
