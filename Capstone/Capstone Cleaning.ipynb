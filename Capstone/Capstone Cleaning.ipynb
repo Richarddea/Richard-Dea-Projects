{
 "cells": [
  {
   "cell_type": "code",
   "execution_count": 1,
   "metadata": {
    "collapsed": false
   },
   "outputs": [],
   "source": [
    "import psycopg2\n",
    "import pandas as pd\n",
    "import numpy as np \n",
    "from pandas import DataFrame\n",
    "import seaborn as sns\n",
    "%matplotlib inline"
   ]
  },
  {
   "cell_type": "code",
   "execution_count": 2,
   "metadata": {
    "collapsed": false
   },
   "outputs": [],
   "source": [
    "try:\n",
    "    conn = psycopg2.connect('dbname=nfl user=nfldb')\n",
    "except: \n",
    "    print 'cannot connect'\n",
    "\n",
    "cur = conn.cursor()"
   ]
  },
  {
   "cell_type": "code",
   "execution_count": 3,
   "metadata": {
    "collapsed": false
   },
   "outputs": [],
   "source": [
    "cur.execute(\"select * from player\")\n",
    "player = cur.fetchall()\n",
    "\n",
    "players = []\n",
    "for row in player:\n",
    "    players.append(row)\n",
    "\n",
    "players = pd.DataFrame(players)"
   ]
  },
  {
   "cell_type": "code",
   "execution_count": 4,
   "metadata": {
    "collapsed": false
   },
   "outputs": [],
   "source": [
    "cur.execute(\"select * from drive\")\n",
    "drive = cur.fetchall()\n",
    "\n",
    "drives = []\n",
    "for rows in drive:\n",
    "    drives.append(rows)\n",
    "    \n",
    "drives = pd.DataFrame(drives)"
   ]
  },
  {
   "cell_type": "code",
   "execution_count": 5,
   "metadata": {
    "collapsed": false
   },
   "outputs": [],
   "source": [
    "cur.execute(\"select * from game\")\n",
    "game = cur.fetchall()\n",
    "\n",
    "games = []\n",
    "for rows in game:\n",
    "    games.append(rows)\n",
    "    \n",
    "games = pd.DataFrame(games)"
   ]
  },
  {
   "cell_type": "code",
   "execution_count": 6,
   "metadata": {
    "collapsed": false
   },
   "outputs": [],
   "source": [
    "cur.execute(\"select * from team\")\n",
    "team = cur.fetchall()\n",
    "\n",
    "teams = []\n",
    "for rows in team:\n",
    "    teams.append(rows)\n",
    "    \n",
    "teams = pd.DataFrame(teams)"
   ]
  },
  {
   "cell_type": "code",
   "execution_count": 7,
   "metadata": {
    "collapsed": false
   },
   "outputs": [],
   "source": [
    "cur.execute(\"select * from play_player\")\n",
    "play_player = cur.fetchall()\n",
    "\n",
    "play_players = []\n",
    "for rows in play_player:\n",
    "    play_players.append(rows)\n",
    "    \n",
    "play_players = pd.DataFrame(play_players)"
   ]
  },
  {
   "cell_type": "code",
   "execution_count": 8,
   "metadata": {
    "collapsed": false
   },
   "outputs": [
    {
     "data": {
      "text/html": [
       "<div>\n",
       "<table border=\"1\" class=\"dataframe\">\n",
       "  <thead>\n",
       "    <tr style=\"text-align: right;\">\n",
       "      <th></th>\n",
       "      <th>team_id</th>\n",
       "      <th>city</th>\n",
       "      <th>name</th>\n",
       "    </tr>\n",
       "  </thead>\n",
       "  <tbody>\n",
       "    <tr>\n",
       "      <th>0</th>\n",
       "      <td>ARI</td>\n",
       "      <td>Arizona</td>\n",
       "      <td>Cardinals</td>\n",
       "    </tr>\n",
       "    <tr>\n",
       "      <th>1</th>\n",
       "      <td>ATL</td>\n",
       "      <td>Atlanta</td>\n",
       "      <td>Falcons</td>\n",
       "    </tr>\n",
       "    <tr>\n",
       "      <th>2</th>\n",
       "      <td>BAL</td>\n",
       "      <td>Baltimore</td>\n",
       "      <td>Ravens</td>\n",
       "    </tr>\n",
       "  </tbody>\n",
       "</table>\n",
       "</div>"
      ],
      "text/plain": [
       "  team_id       city       name\n",
       "0     ARI    Arizona  Cardinals\n",
       "1     ATL    Atlanta    Falcons\n",
       "2     BAL  Baltimore     Ravens"
      ]
     },
     "execution_count": 8,
     "metadata": {},
     "output_type": "execute_result"
    }
   ],
   "source": [
    "teams.columns = ['team_id','city','name']\n",
    "teams.head(3)"
   ]
  },
  {
   "cell_type": "code",
   "execution_count": 9,
   "metadata": {
    "collapsed": false
   },
   "outputs": [
    {
     "data": {
      "text/html": [
       "<div>\n",
       "<table border=\"1\" class=\"dataframe\">\n",
       "  <thead>\n",
       "    <tr style=\"text-align: right;\">\n",
       "      <th></th>\n",
       "      <th>gsis_id</th>\n",
       "      <th>drive_id</th>\n",
       "      <th>play_id</th>\n",
       "      <th>player_id</th>\n",
       "      <th>team</th>\n",
       "      <th>defense_ast</th>\n",
       "      <th>defense_ffum</th>\n",
       "      <th>defense_fgblk</th>\n",
       "      <th>defense_frec</th>\n",
       "      <th>defense_frec_tds</th>\n",
       "      <th>...</th>\n",
       "      <th>receiving_yac_yds</th>\n",
       "      <th>receiving_yds</th>\n",
       "      <th>rushing_att</th>\n",
       "      <th>rushing_loss</th>\n",
       "      <th>rushing_loss_yds</th>\n",
       "      <th>rushing_tds</th>\n",
       "      <th>rushing_twopta</th>\n",
       "      <th>rushing_twoptm</th>\n",
       "      <th>rushing_twoptmissed</th>\n",
       "      <th>rushing_yds</th>\n",
       "    </tr>\n",
       "  </thead>\n",
       "  <tbody>\n",
       "    <tr>\n",
       "      <th>0</th>\n",
       "      <td>2009081350</td>\n",
       "      <td>1</td>\n",
       "      <td>36</td>\n",
       "      <td>00-0019676</td>\n",
       "      <td>ARI</td>\n",
       "      <td>0</td>\n",
       "      <td>0</td>\n",
       "      <td>0</td>\n",
       "      <td>0</td>\n",
       "      <td>0</td>\n",
       "      <td>...</td>\n",
       "      <td>0</td>\n",
       "      <td>0</td>\n",
       "      <td>0</td>\n",
       "      <td>0</td>\n",
       "      <td>0</td>\n",
       "      <td>0</td>\n",
       "      <td>0</td>\n",
       "      <td>0</td>\n",
       "      <td>0</td>\n",
       "      <td>0</td>\n",
       "    </tr>\n",
       "    <tr>\n",
       "      <th>1</th>\n",
       "      <td>2009081350</td>\n",
       "      <td>1</td>\n",
       "      <td>59</td>\n",
       "      <td>00-0026163</td>\n",
       "      <td>PIT</td>\n",
       "      <td>0</td>\n",
       "      <td>0</td>\n",
       "      <td>0</td>\n",
       "      <td>0</td>\n",
       "      <td>0</td>\n",
       "      <td>...</td>\n",
       "      <td>0</td>\n",
       "      <td>0</td>\n",
       "      <td>1</td>\n",
       "      <td>0</td>\n",
       "      <td>0</td>\n",
       "      <td>0</td>\n",
       "      <td>0</td>\n",
       "      <td>0</td>\n",
       "      <td>0</td>\n",
       "      <td>-1</td>\n",
       "    </tr>\n",
       "    <tr>\n",
       "      <th>2</th>\n",
       "      <td>2009081350</td>\n",
       "      <td>1</td>\n",
       "      <td>59</td>\n",
       "      <td>00-0026190</td>\n",
       "      <td>ARI</td>\n",
       "      <td>0</td>\n",
       "      <td>0</td>\n",
       "      <td>0</td>\n",
       "      <td>0</td>\n",
       "      <td>0</td>\n",
       "      <td>...</td>\n",
       "      <td>0</td>\n",
       "      <td>0</td>\n",
       "      <td>0</td>\n",
       "      <td>0</td>\n",
       "      <td>0</td>\n",
       "      <td>0</td>\n",
       "      <td>0</td>\n",
       "      <td>0</td>\n",
       "      <td>0</td>\n",
       "      <td>0</td>\n",
       "    </tr>\n",
       "  </tbody>\n",
       "</table>\n",
       "<p>3 rows × 100 columns</p>\n",
       "</div>"
      ],
      "text/plain": [
       "      gsis_id  drive_id  play_id   player_id team  defense_ast  defense_ffum  \\\n",
       "0  2009081350         1       36  00-0019676  ARI            0             0   \n",
       "1  2009081350         1       59  00-0026163  PIT            0             0   \n",
       "2  2009081350         1       59  00-0026190  ARI            0             0   \n",
       "\n",
       "   defense_fgblk  defense_frec  defense_frec_tds     ...       \\\n",
       "0              0             0                 0     ...        \n",
       "1              0             0                 0     ...        \n",
       "2              0             0                 0     ...        \n",
       "\n",
       "   receiving_yac_yds  receiving_yds  rushing_att  rushing_loss  \\\n",
       "0                  0              0            0             0   \n",
       "1                  0              0            1             0   \n",
       "2                  0              0            0             0   \n",
       "\n",
       "   rushing_loss_yds  rushing_tds  rushing_twopta  rushing_twoptm  \\\n",
       "0                 0            0               0               0   \n",
       "1                 0            0               0               0   \n",
       "2                 0            0               0               0   \n",
       "\n",
       "   rushing_twoptmissed  rushing_yds  \n",
       "0                    0            0  \n",
       "1                    0           -1  \n",
       "2                    0            0  \n",
       "\n",
       "[3 rows x 100 columns]"
      ]
     },
     "execution_count": 9,
     "metadata": {},
     "output_type": "execute_result"
    }
   ],
   "source": [
    "play_players.columns = ['gsis_id','drive_id','play_id','player_id','team','defense_ast','defense_ffum',\n",
    "                       'defense_fgblk','defense_frec','defense_frec_tds','defense_frec_yds',\n",
    "                       'defense_int','defense_int_tds','defense_int_yds','defense_misc_tds',\n",
    "                       'defense_misc_yds','defense_pass_def','defense_puntblk','defense_qbhit','defense_safe',\n",
    "                       'defense_sk','defense_sk_yds','defense_tkl','defense_tkl_loss','defense_tkl_loss_yds',\n",
    "                       'defense_tkl_primary','defense_xpblk','fumbles_forced','fumbles_lost','fumbles_notforced',\n",
    "                       'fumbles_oob','fumbles_rec','fumbles_rec_tds','fumbles_rec_yds','fumbles_tot',\n",
    "                       'kicking_all_yds','kicking_downed','kicking_fga','kicking_fgb','kicking_fgm','kicking_fgm_yds',\n",
    "                       'kicking_fgmissed','kicking_fgmissed_yds','kicking_i20','kicking_rec',\n",
    "                       'kicking_rec_tds','kicking_tot','kicking_touchback','kicking_xpa','kicking_xpb','kicking_xpmade',\n",
    "                       'kicking_xpmissed','kicking_yds','kickret_fair','kickret_oob','kickret_ret','kickret_tds',\n",
    "                       'kickret_touchback','kickret_yds','passing_att','passing_cmp','passing_cmp_air_yds',\n",
    "                       'passing_incmp','passing_incmp_air_yds','passing_int','passing_sk','passing_sk_yds',\n",
    "                       'passing_tds','passing_twopta','passing_twoptm','passing_twoptmissed','passing_yds',\n",
    "                       'punting_blk','punting_i20','punting_tot','punting_touchback','punting_yds','puntret_downed',\n",
    "                       'puntret_fair','puntret_oob','puntret_tds','puntret_tot','puntret_touchback','puntret_yds',\n",
    "                       'receiving_rec','receiving_tar','receiving_tds','receiving_twopta','receiving_twoptm',\n",
    "                       'receiving_twoptmissed','receiving_yac_yds','receiving_yds','rushing_att','rushing_loss',\n",
    "                       'rushing_loss_yds','rushing_tds','rushing_twopta','rushing_twoptm','rushing_twoptmissed','rushing_yds']\n",
    "play_players.head(3)"
   ]
  },
  {
   "cell_type": "code",
   "execution_count": 10,
   "metadata": {
    "collapsed": false
   },
   "outputs": [
    {
     "data": {
      "text/html": [
       "<div>\n",
       "<table border=\"1\" class=\"dataframe\">\n",
       "  <thead>\n",
       "    <tr style=\"text-align: right;\">\n",
       "      <th></th>\n",
       "      <th>player_id</th>\n",
       "      <th>gsis_name</th>\n",
       "      <th>full_name</th>\n",
       "      <th>first_name</th>\n",
       "      <th>last_name</th>\n",
       "      <th>team</th>\n",
       "      <th>position</th>\n",
       "      <th>profile_id</th>\n",
       "      <th>profile_url</th>\n",
       "      <th>uniform_number</th>\n",
       "      <th>birthdate</th>\n",
       "      <th>college</th>\n",
       "      <th>height</th>\n",
       "      <th>weight</th>\n",
       "      <th>years_pro</th>\n",
       "      <th>status</th>\n",
       "    </tr>\n",
       "  </thead>\n",
       "  <tbody>\n",
       "    <tr>\n",
       "      <th>0</th>\n",
       "      <td>00-0030191</td>\n",
       "      <td>S.Benton</td>\n",
       "      <td>None</td>\n",
       "      <td>None</td>\n",
       "      <td>None</td>\n",
       "      <td>UNK</td>\n",
       "      <td>UNK</td>\n",
       "      <td>NaN</td>\n",
       "      <td>None</td>\n",
       "      <td>NaN</td>\n",
       "      <td>None</td>\n",
       "      <td>None</td>\n",
       "      <td>NaN</td>\n",
       "      <td>NaN</td>\n",
       "      <td>NaN</td>\n",
       "      <td>Unknown</td>\n",
       "    </tr>\n",
       "  </tbody>\n",
       "</table>\n",
       "</div>"
      ],
      "text/plain": [
       "    player_id gsis_name full_name first_name last_name team position  \\\n",
       "0  00-0030191  S.Benton      None       None      None  UNK      UNK   \n",
       "\n",
       "   profile_id profile_url  uniform_number birthdate college  height  weight  \\\n",
       "0         NaN        None             NaN      None    None     NaN     NaN   \n",
       "\n",
       "   years_pro   status  \n",
       "0        NaN  Unknown  "
      ]
     },
     "execution_count": 10,
     "metadata": {},
     "output_type": "execute_result"
    }
   ],
   "source": [
    "players.columns = ['player_id','gsis_name','full_name','first_name','last_name',\n",
    "                   'team','position','profile_id','profile_url','uniform_number',\n",
    "                   'birthdate','college','height','weight','years_pro','status']\n",
    "players.head(1)"
   ]
  },
  {
   "cell_type": "code",
   "execution_count": 11,
   "metadata": {
    "collapsed": false
   },
   "outputs": [
    {
     "data": {
      "text/html": [
       "<div>\n",
       "<table border=\"1\" class=\"dataframe\">\n",
       "  <thead>\n",
       "    <tr style=\"text-align: right;\">\n",
       "      <th></th>\n",
       "      <th>gsis_id</th>\n",
       "      <th>drive_id</th>\n",
       "      <th>start_field</th>\n",
       "      <th>start_time</th>\n",
       "      <th>end_field</th>\n",
       "      <th>end_time</th>\n",
       "      <th>pos_team</th>\n",
       "      <th>pos_time</th>\n",
       "      <th>first_downs</th>\n",
       "      <th>result</th>\n",
       "      <th>penalty_yards</th>\n",
       "      <th>yards_gained</th>\n",
       "      <th>play_count</th>\n",
       "      <th>time_inserted</th>\n",
       "      <th>time_updated</th>\n",
       "    </tr>\n",
       "  </thead>\n",
       "  <tbody>\n",
       "    <tr>\n",
       "      <th>0</th>\n",
       "      <td>2009081350</td>\n",
       "      <td>1</td>\n",
       "      <td>(-30)</td>\n",
       "      <td>(Q1,0)</td>\n",
       "      <td>(-11)</td>\n",
       "      <td>(Q1,239)</td>\n",
       "      <td>PIT</td>\n",
       "      <td>(239)</td>\n",
       "      <td>1</td>\n",
       "      <td>Punt</td>\n",
       "      <td>4</td>\n",
       "      <td>15</td>\n",
       "      <td>6</td>\n",
       "      <td>2013-09-03 22:36:23.420121-07:00</td>\n",
       "      <td>2013-09-03 22:36:23.420121-07:00</td>\n",
       "    </tr>\n",
       "    <tr>\n",
       "      <th>1</th>\n",
       "      <td>2009081350</td>\n",
       "      <td>2</td>\n",
       "      <td>(-35)</td>\n",
       "      <td>(Q1,239)</td>\n",
       "      <td>(7)</td>\n",
       "      <td>(Q1,526)</td>\n",
       "      <td>ARI</td>\n",
       "      <td>(287)</td>\n",
       "      <td>3</td>\n",
       "      <td>Punt</td>\n",
       "      <td>0</td>\n",
       "      <td>42</td>\n",
       "      <td>10</td>\n",
       "      <td>2013-09-03 22:36:23.420121-07:00</td>\n",
       "      <td>2013-09-03 22:36:23.420121-07:00</td>\n",
       "    </tr>\n",
       "    <tr>\n",
       "      <th>2</th>\n",
       "      <td>2009081350</td>\n",
       "      <td>3</td>\n",
       "      <td>(-42)</td>\n",
       "      <td>(Q1,526)</td>\n",
       "      <td>(-14)</td>\n",
       "      <td>(Q1,870)</td>\n",
       "      <td>PIT</td>\n",
       "      <td>(344)</td>\n",
       "      <td>2</td>\n",
       "      <td>Punt</td>\n",
       "      <td>-5</td>\n",
       "      <td>33</td>\n",
       "      <td>8</td>\n",
       "      <td>2013-09-03 22:36:23.420121-07:00</td>\n",
       "      <td>2013-09-03 22:36:23.420121-07:00</td>\n",
       "    </tr>\n",
       "  </tbody>\n",
       "</table>\n",
       "</div>"
      ],
      "text/plain": [
       "      gsis_id  drive_id start_field start_time end_field  end_time pos_team  \\\n",
       "0  2009081350         1       (-30)     (Q1,0)     (-11)  (Q1,239)      PIT   \n",
       "1  2009081350         2       (-35)   (Q1,239)       (7)  (Q1,526)      ARI   \n",
       "2  2009081350         3       (-42)   (Q1,526)     (-14)  (Q1,870)      PIT   \n",
       "\n",
       "  pos_time  first_downs result  penalty_yards  yards_gained  play_count  \\\n",
       "0    (239)            1   Punt              4            15           6   \n",
       "1    (287)            3   Punt              0            42          10   \n",
       "2    (344)            2   Punt             -5            33           8   \n",
       "\n",
       "                      time_inserted                      time_updated  \n",
       "0  2013-09-03 22:36:23.420121-07:00  2013-09-03 22:36:23.420121-07:00  \n",
       "1  2013-09-03 22:36:23.420121-07:00  2013-09-03 22:36:23.420121-07:00  \n",
       "2  2013-09-03 22:36:23.420121-07:00  2013-09-03 22:36:23.420121-07:00  "
      ]
     },
     "execution_count": 11,
     "metadata": {},
     "output_type": "execute_result"
    }
   ],
   "source": [
    "drives.columns = ['gsis_id','drive_id','start_field','start_time','end_field',\n",
    "                  'end_time','pos_team','pos_time','first_downs','result','penalty_yards',\n",
    "                  'yards_gained','play_count','time_inserted','time_updated']\n",
    "drives.head(3)"
   ]
  },
  {
   "cell_type": "code",
   "execution_count": 12,
   "metadata": {
    "collapsed": false,
    "scrolled": true
   },
   "outputs": [],
   "source": [
    "games.columns = ['gsis_id','gamekey','start_time','week','day_of_week','season_year',\n",
    "                 'season_type','finished','home_team','home_score','home_score_q1',\n",
    "                 'home_score_q2','home_score_q3','home_score_q4','home_score_q5',\n",
    "                 'home_turnovers','away_team','away_score','away_score_q1','away_score_q2',\n",
    "                 'away_score_q3','away_score_q4','away_score_q5','away_turnovers',\n",
    "                 'time_inserted','time_updated']\n",
    "games = games.drop(['time_inserted','time_updated','start_time','finished'], axis=1)"
   ]
  },
  {
   "cell_type": "code",
   "execution_count": 13,
   "metadata": {
    "collapsed": false
   },
   "outputs": [],
   "source": [
    "games['home_outcome'] = games['home_score'] - games['away_score']\n",
    "games['home_outcome'] = games['home_outcome'].apply(lambda x: 'tie' if x == 0 else 'win' if x > 0 else 'loss')\n",
    "games['away_outcome'] = games['home_outcome'].apply(lambda x: 'loss' if x == 'win' else 'win')\n",
    "games = games[games[\"home_outcome\"] != 'tie']\n",
    "#create an outcome column and changed to either win or loss based on home and away score with home and away team"
   ]
  },
  {
   "cell_type": "code",
   "execution_count": 14,
   "metadata": {
    "collapsed": true
   },
   "outputs": [],
   "source": [
    "home_score = zip(games['home_team'], games['home_score'])\n",
    "away_score = zip(games['away_team'], games['away_score'])\n",
    "\n",
    "winner = []\n",
    "for k, v in zip(home_score, away_score):\n",
    "    if k[1] > v[1]:\n",
    "        winner.append(k[0])\n",
    "    elif k[1] < v[1]:\n",
    "        winner.append(v[0])\n",
    "    else:\n",
    "        winner.append('tie')\n",
    "        \n",
    "games['winner'] = winner"
   ]
  },
  {
   "cell_type": "code",
   "execution_count": 15,
   "metadata": {
    "collapsed": false
   },
   "outputs": [],
   "source": [
    "def games_subsetter(df, suffix):\n",
    "    column_select = [x for x in games.columns if suffix in x]\n",
    "    games_subset = games[['gsis_id','season_type'] + column_select]\n",
    "    games_subset.columns = [x for x in games_subset.columns]\n",
    "    return games_subset\n",
    "\n",
    "home = games_subsetter(games, 'home')\n",
    "away = games_subsetter(games, 'away')\n",
    "#subset teams so that "
   ]
  },
  {
   "cell_type": "code",
   "execution_count": 16,
   "metadata": {
    "collapsed": false
   },
   "outputs": [],
   "source": [
    "column = ['gsis_id', 'type', 'team', 'score', 'score_q1',\n",
    "       'score_q2', 'score_q3', 'score_q4', 'score_q5',\n",
    "       'turnovers', 'outcome']\n",
    "home.columns = [column]\n",
    "away.columns = [column]"
   ]
  },
  {
   "cell_type": "code",
   "execution_count": 17,
   "metadata": {
    "collapsed": false
   },
   "outputs": [
    {
     "name": "stderr",
     "output_type": "stream",
     "text": [
      "/anaconda/lib/python2.7/site-packages/ipykernel/__main__.py:1: SettingWithCopyWarning: \n",
      "A value is trying to be set on a copy of a slice from a DataFrame.\n",
      "Try using .loc[row_indexer,col_indexer] = value instead\n",
      "\n",
      "See the caveats in the documentation: http://pandas.pydata.org/pandas-docs/stable/indexing.html#indexing-view-versus-copy\n",
      "  if __name__ == '__main__':\n",
      "/anaconda/lib/python2.7/site-packages/ipykernel/__main__.py:2: SettingWithCopyWarning: \n",
      "A value is trying to be set on a copy of a slice from a DataFrame.\n",
      "Try using .loc[row_indexer,col_indexer] = value instead\n",
      "\n",
      "See the caveats in the documentation: http://pandas.pydata.org/pandas-docs/stable/indexing.html#indexing-view-versus-copy\n",
      "  from ipykernel import kernelapp as app\n"
     ]
    }
   ],
   "source": [
    "away['location'] = 'away'\n",
    "home['location'] = 'home'"
   ]
  },
  {
   "cell_type": "code",
   "execution_count": 18,
   "metadata": {
    "collapsed": false
   },
   "outputs": [],
   "source": [
    "sep_games = (home, away)\n",
    "game_scores = pd.concat(sep_games)\n",
    "outcome_type = game_scores[['gsis_id','team','outcome','location','type']]\n"
   ]
  },
  {
   "cell_type": "code",
   "execution_count": 19,
   "metadata": {
    "collapsed": false
   },
   "outputs": [
    {
     "data": {
      "text/plain": [
       "win     2378\n",
       "loss    2378\n",
       "Name: outcome, dtype: int64"
      ]
     },
     "execution_count": 19,
     "metadata": {},
     "output_type": "execute_result"
    }
   ],
   "source": [
    "outcome_type.outcome.value_counts()"
   ]
  },
  {
   "cell_type": "code",
   "execution_count": 20,
   "metadata": {
    "collapsed": false
   },
   "outputs": [
    {
     "data": {
      "text/html": [
       "<div>\n",
       "<table border=\"1\" class=\"dataframe\">\n",
       "  <thead>\n",
       "    <tr style=\"text-align: right;\">\n",
       "      <th></th>\n",
       "      <th>gsis_id</th>\n",
       "      <th>drive_id</th>\n",
       "      <th>play_id</th>\n",
       "      <th>player_id</th>\n",
       "      <th>team</th>\n",
       "      <th>defense_ast</th>\n",
       "      <th>defense_ffum</th>\n",
       "      <th>defense_fgblk</th>\n",
       "      <th>defense_frec</th>\n",
       "      <th>defense_frec_tds</th>\n",
       "      <th>...</th>\n",
       "      <th>receiving_yac_yds</th>\n",
       "      <th>receiving_yds</th>\n",
       "      <th>rushing_att</th>\n",
       "      <th>rushing_loss</th>\n",
       "      <th>rushing_loss_yds</th>\n",
       "      <th>rushing_tds</th>\n",
       "      <th>rushing_twopta</th>\n",
       "      <th>rushing_twoptm</th>\n",
       "      <th>rushing_twoptmissed</th>\n",
       "      <th>rushing_yds</th>\n",
       "    </tr>\n",
       "  </thead>\n",
       "  <tbody>\n",
       "    <tr>\n",
       "      <th>0</th>\n",
       "      <td>2009081350</td>\n",
       "      <td>1</td>\n",
       "      <td>36</td>\n",
       "      <td>00-0019676</td>\n",
       "      <td>ARI</td>\n",
       "      <td>0</td>\n",
       "      <td>0</td>\n",
       "      <td>0</td>\n",
       "      <td>0</td>\n",
       "      <td>0</td>\n",
       "      <td>...</td>\n",
       "      <td>0</td>\n",
       "      <td>0</td>\n",
       "      <td>0</td>\n",
       "      <td>0</td>\n",
       "      <td>0</td>\n",
       "      <td>0</td>\n",
       "      <td>0</td>\n",
       "      <td>0</td>\n",
       "      <td>0</td>\n",
       "      <td>0</td>\n",
       "    </tr>\n",
       "    <tr>\n",
       "      <th>1</th>\n",
       "      <td>2009081350</td>\n",
       "      <td>1</td>\n",
       "      <td>59</td>\n",
       "      <td>00-0026163</td>\n",
       "      <td>PIT</td>\n",
       "      <td>0</td>\n",
       "      <td>0</td>\n",
       "      <td>0</td>\n",
       "      <td>0</td>\n",
       "      <td>0</td>\n",
       "      <td>...</td>\n",
       "      <td>0</td>\n",
       "      <td>0</td>\n",
       "      <td>1</td>\n",
       "      <td>0</td>\n",
       "      <td>0</td>\n",
       "      <td>0</td>\n",
       "      <td>0</td>\n",
       "      <td>0</td>\n",
       "      <td>0</td>\n",
       "      <td>-1</td>\n",
       "    </tr>\n",
       "    <tr>\n",
       "      <th>2</th>\n",
       "      <td>2009081350</td>\n",
       "      <td>1</td>\n",
       "      <td>59</td>\n",
       "      <td>00-0026190</td>\n",
       "      <td>ARI</td>\n",
       "      <td>0</td>\n",
       "      <td>0</td>\n",
       "      <td>0</td>\n",
       "      <td>0</td>\n",
       "      <td>0</td>\n",
       "      <td>...</td>\n",
       "      <td>0</td>\n",
       "      <td>0</td>\n",
       "      <td>0</td>\n",
       "      <td>0</td>\n",
       "      <td>0</td>\n",
       "      <td>0</td>\n",
       "      <td>0</td>\n",
       "      <td>0</td>\n",
       "      <td>0</td>\n",
       "      <td>0</td>\n",
       "    </tr>\n",
       "    <tr>\n",
       "      <th>3</th>\n",
       "      <td>2009081350</td>\n",
       "      <td>1</td>\n",
       "      <td>80</td>\n",
       "      <td>00-0017162</td>\n",
       "      <td>PIT</td>\n",
       "      <td>0</td>\n",
       "      <td>0</td>\n",
       "      <td>0</td>\n",
       "      <td>0</td>\n",
       "      <td>0</td>\n",
       "      <td>...</td>\n",
       "      <td>0</td>\n",
       "      <td>6</td>\n",
       "      <td>0</td>\n",
       "      <td>0</td>\n",
       "      <td>0</td>\n",
       "      <td>0</td>\n",
       "      <td>0</td>\n",
       "      <td>0</td>\n",
       "      <td>0</td>\n",
       "      <td>0</td>\n",
       "    </tr>\n",
       "    <tr>\n",
       "      <th>4</th>\n",
       "      <td>2009081350</td>\n",
       "      <td>1</td>\n",
       "      <td>80</td>\n",
       "      <td>00-0023443</td>\n",
       "      <td>ARI</td>\n",
       "      <td>0</td>\n",
       "      <td>0</td>\n",
       "      <td>0</td>\n",
       "      <td>0</td>\n",
       "      <td>0</td>\n",
       "      <td>...</td>\n",
       "      <td>0</td>\n",
       "      <td>0</td>\n",
       "      <td>0</td>\n",
       "      <td>0</td>\n",
       "      <td>0</td>\n",
       "      <td>0</td>\n",
       "      <td>0</td>\n",
       "      <td>0</td>\n",
       "      <td>0</td>\n",
       "      <td>0</td>\n",
       "    </tr>\n",
       "  </tbody>\n",
       "</table>\n",
       "<p>5 rows × 100 columns</p>\n",
       "</div>"
      ],
      "text/plain": [
       "      gsis_id  drive_id  play_id   player_id team  defense_ast  defense_ffum  \\\n",
       "0  2009081350         1       36  00-0019676  ARI            0             0   \n",
       "1  2009081350         1       59  00-0026163  PIT            0             0   \n",
       "2  2009081350         1       59  00-0026190  ARI            0             0   \n",
       "3  2009081350         1       80  00-0017162  PIT            0             0   \n",
       "4  2009081350         1       80  00-0023443  ARI            0             0   \n",
       "\n",
       "   defense_fgblk  defense_frec  defense_frec_tds     ...       \\\n",
       "0              0             0                 0     ...        \n",
       "1              0             0                 0     ...        \n",
       "2              0             0                 0     ...        \n",
       "3              0             0                 0     ...        \n",
       "4              0             0                 0     ...        \n",
       "\n",
       "   receiving_yac_yds  receiving_yds  rushing_att  rushing_loss  \\\n",
       "0                  0              0            0             0   \n",
       "1                  0              0            1             0   \n",
       "2                  0              0            0             0   \n",
       "3                  0              6            0             0   \n",
       "4                  0              0            0             0   \n",
       "\n",
       "   rushing_loss_yds  rushing_tds  rushing_twopta  rushing_twoptm  \\\n",
       "0                 0            0               0               0   \n",
       "1                 0            0               0               0   \n",
       "2                 0            0               0               0   \n",
       "3                 0            0               0               0   \n",
       "4                 0            0               0               0   \n",
       "\n",
       "   rushing_twoptmissed  rushing_yds  \n",
       "0                    0            0  \n",
       "1                    0           -1  \n",
       "2                    0            0  \n",
       "3                    0            0  \n",
       "4                    0            0  \n",
       "\n",
       "[5 rows x 100 columns]"
      ]
     },
     "execution_count": 20,
     "metadata": {},
     "output_type": "execute_result"
    }
   ],
   "source": [
    "play_players.head()"
   ]
  },
  {
   "cell_type": "code",
   "execution_count": 21,
   "metadata": {
    "collapsed": false
   },
   "outputs": [],
   "source": [
    "team_stats = pd.merge(play_players, outcome_type, how='left', on=['gsis_id','team'])"
   ]
  },
  {
   "cell_type": "code",
   "execution_count": 22,
   "metadata": {
    "collapsed": false
   },
   "outputs": [
    {
     "data": {
      "text/html": [
       "<div>\n",
       "<table border=\"1\" class=\"dataframe\">\n",
       "  <thead>\n",
       "    <tr style=\"text-align: right;\">\n",
       "      <th></th>\n",
       "      <th></th>\n",
       "      <th></th>\n",
       "      <th>drive_id</th>\n",
       "      <th>play_id</th>\n",
       "      <th>defense_ast</th>\n",
       "      <th>defense_ffum</th>\n",
       "      <th>defense_fgblk</th>\n",
       "      <th>defense_frec</th>\n",
       "      <th>defense_frec_tds</th>\n",
       "      <th>defense_frec_yds</th>\n",
       "      <th>defense_int</th>\n",
       "      <th>defense_int_tds</th>\n",
       "      <th>...</th>\n",
       "      <th>receiving_yac_yds</th>\n",
       "      <th>receiving_yds</th>\n",
       "      <th>rushing_att</th>\n",
       "      <th>rushing_loss</th>\n",
       "      <th>rushing_loss_yds</th>\n",
       "      <th>rushing_tds</th>\n",
       "      <th>rushing_twopta</th>\n",
       "      <th>rushing_twoptm</th>\n",
       "      <th>rushing_twoptmissed</th>\n",
       "      <th>rushing_yds</th>\n",
       "    </tr>\n",
       "    <tr>\n",
       "      <th>team</th>\n",
       "      <th>outcome</th>\n",
       "      <th>location</th>\n",
       "      <th></th>\n",
       "      <th></th>\n",
       "      <th></th>\n",
       "      <th></th>\n",
       "      <th></th>\n",
       "      <th></th>\n",
       "      <th></th>\n",
       "      <th></th>\n",
       "      <th></th>\n",
       "      <th></th>\n",
       "      <th></th>\n",
       "      <th></th>\n",
       "      <th></th>\n",
       "      <th></th>\n",
       "      <th></th>\n",
       "      <th></th>\n",
       "      <th></th>\n",
       "      <th></th>\n",
       "      <th></th>\n",
       "      <th></th>\n",
       "      <th></th>\n",
       "    </tr>\n",
       "  </thead>\n",
       "  <tbody>\n",
       "    <tr>\n",
       "      <th rowspan=\"4\" valign=\"top\">ARI</th>\n",
       "      <th rowspan=\"2\" valign=\"top\">loss</th>\n",
       "      <th>away</th>\n",
       "      <td>13.010155</td>\n",
       "      <td>2094.040154</td>\n",
       "      <td>0.078324</td>\n",
       "      <td>0.003035</td>\n",
       "      <td>0.000584</td>\n",
       "      <td>0.002335</td>\n",
       "      <td>0.000233</td>\n",
       "      <td>0.013073</td>\n",
       "      <td>0.003969</td>\n",
       "      <td>0.000233</td>\n",
       "      <td>...</td>\n",
       "      <td>0.426987</td>\n",
       "      <td>1.144741</td>\n",
       "      <td>0.106222</td>\n",
       "      <td>0.0</td>\n",
       "      <td>0.0</td>\n",
       "      <td>0.002801</td>\n",
       "      <td>0.000350</td>\n",
       "      <td>0.000117</td>\n",
       "      <td>0.000233</td>\n",
       "      <td>0.423369</td>\n",
       "    </tr>\n",
       "    <tr>\n",
       "      <th>home</th>\n",
       "      <td>12.620080</td>\n",
       "      <td>2211.247813</td>\n",
       "      <td>0.048105</td>\n",
       "      <td>0.003098</td>\n",
       "      <td>0.000547</td>\n",
       "      <td>0.002004</td>\n",
       "      <td>0.000182</td>\n",
       "      <td>0.003462</td>\n",
       "      <td>0.002187</td>\n",
       "      <td>0.000182</td>\n",
       "      <td>...</td>\n",
       "      <td>0.525692</td>\n",
       "      <td>1.339832</td>\n",
       "      <td>0.103499</td>\n",
       "      <td>0.0</td>\n",
       "      <td>0.0</td>\n",
       "      <td>0.003098</td>\n",
       "      <td>0.000000</td>\n",
       "      <td>0.000000</td>\n",
       "      <td>0.000000</td>\n",
       "      <td>0.403608</td>\n",
       "    </tr>\n",
       "    <tr>\n",
       "      <th rowspan=\"2\" valign=\"top\">win</th>\n",
       "      <th>away</th>\n",
       "      <td>12.145372</td>\n",
       "      <td>2063.123910</td>\n",
       "      <td>0.048290</td>\n",
       "      <td>0.005030</td>\n",
       "      <td>0.000838</td>\n",
       "      <td>0.003856</td>\n",
       "      <td>0.000000</td>\n",
       "      <td>0.004192</td>\n",
       "      <td>0.007378</td>\n",
       "      <td>0.000671</td>\n",
       "      <td>...</td>\n",
       "      <td>0.522636</td>\n",
       "      <td>1.313883</td>\n",
       "      <td>0.155936</td>\n",
       "      <td>0.0</td>\n",
       "      <td>0.0</td>\n",
       "      <td>0.005198</td>\n",
       "      <td>0.000168</td>\n",
       "      <td>0.000168</td>\n",
       "      <td>0.000000</td>\n",
       "      <td>0.626928</td>\n",
       "    </tr>\n",
       "    <tr>\n",
       "      <th>home</th>\n",
       "      <td>12.139804</td>\n",
       "      <td>2177.685821</td>\n",
       "      <td>0.046017</td>\n",
       "      <td>0.005256</td>\n",
       "      <td>0.000818</td>\n",
       "      <td>0.004555</td>\n",
       "      <td>0.000818</td>\n",
       "      <td>0.037024</td>\n",
       "      <td>0.007358</td>\n",
       "      <td>0.001635</td>\n",
       "      <td>...</td>\n",
       "      <td>0.570194</td>\n",
       "      <td>1.370941</td>\n",
       "      <td>0.143658</td>\n",
       "      <td>0.0</td>\n",
       "      <td>0.0</td>\n",
       "      <td>0.004205</td>\n",
       "      <td>0.000234</td>\n",
       "      <td>0.000117</td>\n",
       "      <td>0.000117</td>\n",
       "      <td>0.522658</td>\n",
       "    </tr>\n",
       "    <tr>\n",
       "      <th>ATL</th>\n",
       "      <th>loss</th>\n",
       "      <th>away</th>\n",
       "      <td>11.741951</td>\n",
       "      <td>2089.110922</td>\n",
       "      <td>0.095979</td>\n",
       "      <td>0.002794</td>\n",
       "      <td>0.000121</td>\n",
       "      <td>0.001822</td>\n",
       "      <td>0.000121</td>\n",
       "      <td>0.003523</td>\n",
       "      <td>0.003645</td>\n",
       "      <td>0.000364</td>\n",
       "      <td>...</td>\n",
       "      <td>0.557891</td>\n",
       "      <td>1.318673</td>\n",
       "      <td>0.104119</td>\n",
       "      <td>0.0</td>\n",
       "      <td>0.0</td>\n",
       "      <td>0.002308</td>\n",
       "      <td>0.000121</td>\n",
       "      <td>0.000000</td>\n",
       "      <td>0.000121</td>\n",
       "      <td>0.421334</td>\n",
       "    </tr>\n",
       "  </tbody>\n",
       "</table>\n",
       "<p>5 rows × 97 columns</p>\n",
       "</div>"
      ],
      "text/plain": [
       "                        drive_id      play_id  defense_ast  defense_ffum  \\\n",
       "team outcome location                                                      \n",
       "ARI  loss    away      13.010155  2094.040154     0.078324      0.003035   \n",
       "             home      12.620080  2211.247813     0.048105      0.003098   \n",
       "     win     away      12.145372  2063.123910     0.048290      0.005030   \n",
       "             home      12.139804  2177.685821     0.046017      0.005256   \n",
       "ATL  loss    away      11.741951  2089.110922     0.095979      0.002794   \n",
       "\n",
       "                       defense_fgblk  defense_frec  defense_frec_tds  \\\n",
       "team outcome location                                                  \n",
       "ARI  loss    away           0.000584      0.002335          0.000233   \n",
       "             home           0.000547      0.002004          0.000182   \n",
       "     win     away           0.000838      0.003856          0.000000   \n",
       "             home           0.000818      0.004555          0.000818   \n",
       "ATL  loss    away           0.000121      0.001822          0.000121   \n",
       "\n",
       "                       defense_frec_yds  defense_int  defense_int_tds  \\\n",
       "team outcome location                                                   \n",
       "ARI  loss    away              0.013073     0.003969         0.000233   \n",
       "             home              0.003462     0.002187         0.000182   \n",
       "     win     away              0.004192     0.007378         0.000671   \n",
       "             home              0.037024     0.007358         0.001635   \n",
       "ATL  loss    away              0.003523     0.003645         0.000364   \n",
       "\n",
       "                          ...       receiving_yac_yds  receiving_yds  \\\n",
       "team outcome location     ...                                          \n",
       "ARI  loss    away         ...                0.426987       1.144741   \n",
       "             home         ...                0.525692       1.339832   \n",
       "     win     away         ...                0.522636       1.313883   \n",
       "             home         ...                0.570194       1.370941   \n",
       "ATL  loss    away         ...                0.557891       1.318673   \n",
       "\n",
       "                       rushing_att  rushing_loss  rushing_loss_yds  \\\n",
       "team outcome location                                                \n",
       "ARI  loss    away         0.106222           0.0               0.0   \n",
       "             home         0.103499           0.0               0.0   \n",
       "     win     away         0.155936           0.0               0.0   \n",
       "             home         0.143658           0.0               0.0   \n",
       "ATL  loss    away         0.104119           0.0               0.0   \n",
       "\n",
       "                       rushing_tds  rushing_twopta  rushing_twoptm  \\\n",
       "team outcome location                                                \n",
       "ARI  loss    away         0.002801        0.000350        0.000117   \n",
       "             home         0.003098        0.000000        0.000000   \n",
       "     win     away         0.005198        0.000168        0.000168   \n",
       "             home         0.004205        0.000234        0.000117   \n",
       "ATL  loss    away         0.002308        0.000121        0.000000   \n",
       "\n",
       "                       rushing_twoptmissed  rushing_yds  \n",
       "team outcome location                                    \n",
       "ARI  loss    away                 0.000233     0.423369  \n",
       "             home                 0.000000     0.403608  \n",
       "     win     away                 0.000000     0.626928  \n",
       "             home                 0.000117     0.522658  \n",
       "ATL  loss    away                 0.000121     0.421334  \n",
       "\n",
       "[5 rows x 97 columns]"
      ]
     },
     "execution_count": 22,
     "metadata": {},
     "output_type": "execute_result"
    }
   ],
   "source": [
    "team_stats.groupby(['team','outcome','location']).mean().head()"
   ]
  },
  {
   "cell_type": "code",
   "execution_count": 23,
   "metadata": {
    "collapsed": false
   },
   "outputs": [],
   "source": [
    "def team_stats_subsetter(df, suffix):\n",
    "    column_select = [x for x in team_stats.columns if suffix in x]\n",
    "    team_stats_subset = team_stats[['gsis_id','drive_id','play_id','player_id','team','outcome','location','type'] + column_select]\n",
    "    team_stats_subset.columns = [x for x in team_stats_subset.columns]\n",
    "    return team_stats_subset\n",
    "\n",
    "rushing = team_stats_subsetter(team_stats, 'rushing')\n",
    "passing = team_stats_subsetter(team_stats, 'passing')\n",
    "receiving = team_stats_subsetter(team_stats, 'receiving')\n",
    "kicking = team_stats_subsetter(team_stats, 'kick')\n",
    "punting = team_stats_subsetter(team_stats, 'punt')\n",
    "fumble = team_stats_subsetter(team_stats, 'fumble')\n",
    "defense = team_stats_subsetter(team_stats, 'defense')"
   ]
  },
  {
   "cell_type": "code",
   "execution_count": 24,
   "metadata": {
    "collapsed": false
   },
   "outputs": [],
   "source": [
    "offense = pd.merge(passing, rushing, left_index=True, right_index=True, how='outer')\n",
    "offense = pd.merge(offense, receiving, left_index=True, right_index=True, how='outer')\n",
    "offense = offense.drop(['gsis_id_y','drive_id_y','play_id_y','player_id_y','team_y','outcome_y','location_y', 'gsis_id','drive_id','play_id','player_id','team','location','outcome'], axis=1)"
   ]
  },
  {
   "cell_type": "code",
   "execution_count": 25,
   "metadata": {
    "collapsed": false
   },
   "outputs": [],
   "source": [
    "special = pd.merge(kicking, punting, left_index=True, right_index=True, how='outer')\n",
    "special = special.drop(['gsis_id_y','drive_id_y','play_id_y','player_id_y','team_y','outcome_y','location_y'], axis=1)"
   ]
  },
  {
   "cell_type": "code",
   "execution_count": 26,
   "metadata": {
    "collapsed": false
   },
   "outputs": [],
   "source": [
    "defense = pd.merge(defense, fumble, left_index=True, right_index=True, how='outer')\n",
    "defense = defense.drop(['gsis_id_y','drive_id_y','play_id_y','player_id_y','team_y','outcome_y','location_y','drive_id_x','play_id_x'], axis=1)"
   ]
  },
  {
   "cell_type": "code",
   "execution_count": 27,
   "metadata": {
    "collapsed": false,
    "scrolled": false
   },
   "outputs": [
    {
     "data": {
      "text/html": [
       "<div>\n",
       "<table border=\"1\" class=\"dataframe\">\n",
       "  <thead>\n",
       "    <tr style=\"text-align: right;\">\n",
       "      <th></th>\n",
       "      <th>gsis_id_x</th>\n",
       "      <th>player_id_x</th>\n",
       "      <th>team_x</th>\n",
       "      <th>outcome_x</th>\n",
       "      <th>location_x</th>\n",
       "      <th>type_x</th>\n",
       "      <th>defense_ast</th>\n",
       "      <th>defense_ffum</th>\n",
       "      <th>defense_fgblk</th>\n",
       "      <th>defense_frec</th>\n",
       "      <th>...</th>\n",
       "      <th>defense_xpblk</th>\n",
       "      <th>type_y</th>\n",
       "      <th>fumbles_forced</th>\n",
       "      <th>fumbles_lost</th>\n",
       "      <th>fumbles_notforced</th>\n",
       "      <th>fumbles_oob</th>\n",
       "      <th>fumbles_rec</th>\n",
       "      <th>fumbles_rec_tds</th>\n",
       "      <th>fumbles_rec_yds</th>\n",
       "      <th>fumbles_tot</th>\n",
       "    </tr>\n",
       "  </thead>\n",
       "  <tbody>\n",
       "    <tr>\n",
       "      <th>0</th>\n",
       "      <td>2009081350</td>\n",
       "      <td>00-0019676</td>\n",
       "      <td>ARI</td>\n",
       "      <td>loss</td>\n",
       "      <td>away</td>\n",
       "      <td>Preseason</td>\n",
       "      <td>0</td>\n",
       "      <td>0</td>\n",
       "      <td>0</td>\n",
       "      <td>0</td>\n",
       "      <td>...</td>\n",
       "      <td>0</td>\n",
       "      <td>Preseason</td>\n",
       "      <td>0</td>\n",
       "      <td>0</td>\n",
       "      <td>0</td>\n",
       "      <td>0</td>\n",
       "      <td>0</td>\n",
       "      <td>0</td>\n",
       "      <td>0</td>\n",
       "      <td>0</td>\n",
       "    </tr>\n",
       "    <tr>\n",
       "      <th>1</th>\n",
       "      <td>2009081350</td>\n",
       "      <td>00-0026163</td>\n",
       "      <td>PIT</td>\n",
       "      <td>win</td>\n",
       "      <td>home</td>\n",
       "      <td>Preseason</td>\n",
       "      <td>0</td>\n",
       "      <td>0</td>\n",
       "      <td>0</td>\n",
       "      <td>0</td>\n",
       "      <td>...</td>\n",
       "      <td>0</td>\n",
       "      <td>Preseason</td>\n",
       "      <td>0</td>\n",
       "      <td>0</td>\n",
       "      <td>0</td>\n",
       "      <td>0</td>\n",
       "      <td>0</td>\n",
       "      <td>0</td>\n",
       "      <td>0</td>\n",
       "      <td>0</td>\n",
       "    </tr>\n",
       "    <tr>\n",
       "      <th>2</th>\n",
       "      <td>2009081350</td>\n",
       "      <td>00-0026190</td>\n",
       "      <td>ARI</td>\n",
       "      <td>loss</td>\n",
       "      <td>away</td>\n",
       "      <td>Preseason</td>\n",
       "      <td>0</td>\n",
       "      <td>0</td>\n",
       "      <td>0</td>\n",
       "      <td>0</td>\n",
       "      <td>...</td>\n",
       "      <td>0</td>\n",
       "      <td>Preseason</td>\n",
       "      <td>0</td>\n",
       "      <td>0</td>\n",
       "      <td>0</td>\n",
       "      <td>0</td>\n",
       "      <td>0</td>\n",
       "      <td>0</td>\n",
       "      <td>0</td>\n",
       "      <td>0</td>\n",
       "    </tr>\n",
       "    <tr>\n",
       "      <th>3</th>\n",
       "      <td>2009081350</td>\n",
       "      <td>00-0017162</td>\n",
       "      <td>PIT</td>\n",
       "      <td>win</td>\n",
       "      <td>home</td>\n",
       "      <td>Preseason</td>\n",
       "      <td>0</td>\n",
       "      <td>0</td>\n",
       "      <td>0</td>\n",
       "      <td>0</td>\n",
       "      <td>...</td>\n",
       "      <td>0</td>\n",
       "      <td>Preseason</td>\n",
       "      <td>0</td>\n",
       "      <td>0</td>\n",
       "      <td>0</td>\n",
       "      <td>0</td>\n",
       "      <td>0</td>\n",
       "      <td>0</td>\n",
       "      <td>0</td>\n",
       "      <td>0</td>\n",
       "    </tr>\n",
       "    <tr>\n",
       "      <th>4</th>\n",
       "      <td>2009081350</td>\n",
       "      <td>00-0023443</td>\n",
       "      <td>ARI</td>\n",
       "      <td>loss</td>\n",
       "      <td>away</td>\n",
       "      <td>Preseason</td>\n",
       "      <td>0</td>\n",
       "      <td>0</td>\n",
       "      <td>0</td>\n",
       "      <td>0</td>\n",
       "      <td>...</td>\n",
       "      <td>0</td>\n",
       "      <td>Preseason</td>\n",
       "      <td>0</td>\n",
       "      <td>0</td>\n",
       "      <td>0</td>\n",
       "      <td>0</td>\n",
       "      <td>0</td>\n",
       "      <td>0</td>\n",
       "      <td>0</td>\n",
       "      <td>0</td>\n",
       "    </tr>\n",
       "  </tbody>\n",
       "</table>\n",
       "<p>5 rows × 37 columns</p>\n",
       "</div>"
      ],
      "text/plain": [
       "    gsis_id_x player_id_x team_x outcome_x location_x     type_x  defense_ast  \\\n",
       "0  2009081350  00-0019676    ARI      loss       away  Preseason            0   \n",
       "1  2009081350  00-0026163    PIT       win       home  Preseason            0   \n",
       "2  2009081350  00-0026190    ARI      loss       away  Preseason            0   \n",
       "3  2009081350  00-0017162    PIT       win       home  Preseason            0   \n",
       "4  2009081350  00-0023443    ARI      loss       away  Preseason            0   \n",
       "\n",
       "   defense_ffum  defense_fgblk  defense_frec     ...       defense_xpblk  \\\n",
       "0             0              0             0     ...                   0   \n",
       "1             0              0             0     ...                   0   \n",
       "2             0              0             0     ...                   0   \n",
       "3             0              0             0     ...                   0   \n",
       "4             0              0             0     ...                   0   \n",
       "\n",
       "      type_y  fumbles_forced  fumbles_lost  fumbles_notforced  fumbles_oob  \\\n",
       "0  Preseason               0             0                  0            0   \n",
       "1  Preseason               0             0                  0            0   \n",
       "2  Preseason               0             0                  0            0   \n",
       "3  Preseason               0             0                  0            0   \n",
       "4  Preseason               0             0                  0            0   \n",
       "\n",
       "   fumbles_rec  fumbles_rec_tds  fumbles_rec_yds  fumbles_tot  \n",
       "0            0                0                0            0  \n",
       "1            0                0                0            0  \n",
       "2            0                0                0            0  \n",
       "3            0                0                0            0  \n",
       "4            0                0                0            0  \n",
       "\n",
       "[5 rows x 37 columns]"
      ]
     },
     "execution_count": 27,
     "metadata": {},
     "output_type": "execute_result"
    }
   ],
   "source": [
    "defense.head()"
   ]
  },
  {
   "cell_type": "code",
   "execution_count": 28,
   "metadata": {
    "collapsed": false,
    "scrolled": false
   },
   "outputs": [],
   "source": [
    "defense_group = defense.groupby(['gsis_id_x','team_x','outcome_x','location_x','type_x']).sum()"
   ]
  },
  {
   "cell_type": "code",
   "execution_count": 29,
   "metadata": {
    "collapsed": false
   },
   "outputs": [
    {
     "data": {
      "text/plain": [
       "<matplotlib.axes._subplots.AxesSubplot at 0x11b59c150>"
      ]
     },
     "execution_count": 29,
     "metadata": {},
     "output_type": "execute_result"
    },
    {
     "data": {
      "image/png": "[encoded data removed]",
      "text/plain": [
       "<matplotlib.figure.Figure at 0x117853d90>"
      ]
     },
     "metadata": {},
     "output_type": "display_data"
    }
   ],
   "source": [
    "sns.heatmap(defense_group.corr())"
   ]
  },
  {
   "cell_type": "code",
   "execution_count": 30,
   "metadata": {
    "collapsed": false
   },
   "outputs": [],
   "source": [
    "drives.rename(columns={'pos_team':'team'}, inplace=True)\n",
    "drives = pd.merge(drives, outcome_type, how='left', on=['gsis_id','team'])\n",
    "drives.pos_time = drives.pos_time.apply(lambda x: x.strip('()')).astype(int)"
   ]
  },
  {
   "cell_type": "code",
   "execution_count": 31,
   "metadata": {
    "collapsed": false
   },
   "outputs": [
    {
     "data": {
      "text/html": [
       "<div>\n",
       "<table border=\"1\" class=\"dataframe\">\n",
       "  <thead>\n",
       "    <tr style=\"text-align: right;\">\n",
       "      <th></th>\n",
       "      <th>gsis_id</th>\n",
       "      <th>drive_id</th>\n",
       "      <th>start_field</th>\n",
       "      <th>start_time</th>\n",
       "      <th>end_field</th>\n",
       "      <th>end_time</th>\n",
       "      <th>team</th>\n",
       "      <th>pos_time</th>\n",
       "      <th>first_downs</th>\n",
       "      <th>result</th>\n",
       "      <th>penalty_yards</th>\n",
       "      <th>yards_gained</th>\n",
       "      <th>play_count</th>\n",
       "      <th>time_inserted</th>\n",
       "      <th>time_updated</th>\n",
       "      <th>outcome</th>\n",
       "      <th>location</th>\n",
       "      <th>type</th>\n",
       "    </tr>\n",
       "  </thead>\n",
       "  <tbody>\n",
       "    <tr>\n",
       "      <th>0</th>\n",
       "      <td>2009081350</td>\n",
       "      <td>1</td>\n",
       "      <td>(-30)</td>\n",
       "      <td>(Q1,0)</td>\n",
       "      <td>(-11)</td>\n",
       "      <td>(Q1,239)</td>\n",
       "      <td>PIT</td>\n",
       "      <td>239</td>\n",
       "      <td>1</td>\n",
       "      <td>Punt</td>\n",
       "      <td>4</td>\n",
       "      <td>15</td>\n",
       "      <td>6</td>\n",
       "      <td>2013-09-03 22:36:23.420121-07:00</td>\n",
       "      <td>2013-09-03 22:36:23.420121-07:00</td>\n",
       "      <td>win</td>\n",
       "      <td>home</td>\n",
       "      <td>Preseason</td>\n",
       "    </tr>\n",
       "    <tr>\n",
       "      <th>1</th>\n",
       "      <td>2009081350</td>\n",
       "      <td>2</td>\n",
       "      <td>(-35)</td>\n",
       "      <td>(Q1,239)</td>\n",
       "      <td>(7)</td>\n",
       "      <td>(Q1,526)</td>\n",
       "      <td>ARI</td>\n",
       "      <td>287</td>\n",
       "      <td>3</td>\n",
       "      <td>Punt</td>\n",
       "      <td>0</td>\n",
       "      <td>42</td>\n",
       "      <td>10</td>\n",
       "      <td>2013-09-03 22:36:23.420121-07:00</td>\n",
       "      <td>2013-09-03 22:36:23.420121-07:00</td>\n",
       "      <td>loss</td>\n",
       "      <td>away</td>\n",
       "      <td>Preseason</td>\n",
       "    </tr>\n",
       "    <tr>\n",
       "      <th>2</th>\n",
       "      <td>2009081350</td>\n",
       "      <td>3</td>\n",
       "      <td>(-42)</td>\n",
       "      <td>(Q1,526)</td>\n",
       "      <td>(-14)</td>\n",
       "      <td>(Q1,870)</td>\n",
       "      <td>PIT</td>\n",
       "      <td>344</td>\n",
       "      <td>2</td>\n",
       "      <td>Punt</td>\n",
       "      <td>-5</td>\n",
       "      <td>33</td>\n",
       "      <td>8</td>\n",
       "      <td>2013-09-03 22:36:23.420121-07:00</td>\n",
       "      <td>2013-09-03 22:36:23.420121-07:00</td>\n",
       "      <td>win</td>\n",
       "      <td>home</td>\n",
       "      <td>Preseason</td>\n",
       "    </tr>\n",
       "    <tr>\n",
       "      <th>3</th>\n",
       "      <td>2009081350</td>\n",
       "      <td>4</td>\n",
       "      <td>(-29)</td>\n",
       "      <td>(Q1,870)</td>\n",
       "      <td>(11)</td>\n",
       "      <td>(Q2,244)</td>\n",
       "      <td>ARI</td>\n",
       "      <td>274</td>\n",
       "      <td>3</td>\n",
       "      <td>Punt</td>\n",
       "      <td>0</td>\n",
       "      <td>40</td>\n",
       "      <td>10</td>\n",
       "      <td>2013-09-03 22:36:23.420121-07:00</td>\n",
       "      <td>2013-09-03 22:36:23.420121-07:00</td>\n",
       "      <td>loss</td>\n",
       "      <td>away</td>\n",
       "      <td>Preseason</td>\n",
       "    </tr>\n",
       "    <tr>\n",
       "      <th>4</th>\n",
       "      <td>2009081350</td>\n",
       "      <td>5</td>\n",
       "      <td>(-39)</td>\n",
       "      <td>(Q2,244)</td>\n",
       "      <td>(18)</td>\n",
       "      <td>(Q2,437)</td>\n",
       "      <td>PIT</td>\n",
       "      <td>193</td>\n",
       "      <td>1</td>\n",
       "      <td>Field Goal</td>\n",
       "      <td>-5</td>\n",
       "      <td>62</td>\n",
       "      <td>6</td>\n",
       "      <td>2013-09-03 22:36:23.420121-07:00</td>\n",
       "      <td>2013-09-03 22:36:23.420121-07:00</td>\n",
       "      <td>win</td>\n",
       "      <td>home</td>\n",
       "      <td>Preseason</td>\n",
       "    </tr>\n",
       "  </tbody>\n",
       "</table>\n",
       "</div>"
      ],
      "text/plain": [
       "      gsis_id  drive_id start_field start_time end_field  end_time team  \\\n",
       "0  2009081350         1       (-30)     (Q1,0)     (-11)  (Q1,239)  PIT   \n",
       "1  2009081350         2       (-35)   (Q1,239)       (7)  (Q1,526)  ARI   \n",
       "2  2009081350         3       (-42)   (Q1,526)     (-14)  (Q1,870)  PIT   \n",
       "3  2009081350         4       (-29)   (Q1,870)      (11)  (Q2,244)  ARI   \n",
       "4  2009081350         5       (-39)   (Q2,244)      (18)  (Q2,437)  PIT   \n",
       "\n",
       "   pos_time  first_downs      result  penalty_yards  yards_gained  play_count  \\\n",
       "0       239            1        Punt              4            15           6   \n",
       "1       287            3        Punt              0            42          10   \n",
       "2       344            2        Punt             -5            33           8   \n",
       "3       274            3        Punt              0            40          10   \n",
       "4       193            1  Field Goal             -5            62           6   \n",
       "\n",
       "                      time_inserted                      time_updated outcome  \\\n",
       "0  2013-09-03 22:36:23.420121-07:00  2013-09-03 22:36:23.420121-07:00     win   \n",
       "1  2013-09-03 22:36:23.420121-07:00  2013-09-03 22:36:23.420121-07:00    loss   \n",
       "2  2013-09-03 22:36:23.420121-07:00  2013-09-03 22:36:23.420121-07:00     win   \n",
       "3  2013-09-03 22:36:23.420121-07:00  2013-09-03 22:36:23.420121-07:00    loss   \n",
       "4  2013-09-03 22:36:23.420121-07:00  2013-09-03 22:36:23.420121-07:00     win   \n",
       "\n",
       "  location       type  \n",
       "0     home  Preseason  \n",
       "1     away  Preseason  \n",
       "2     home  Preseason  \n",
       "3     away  Preseason  \n",
       "4     home  Preseason  "
      ]
     },
     "execution_count": 31,
     "metadata": {},
     "output_type": "execute_result"
    }
   ],
   "source": [
    "drives.head()"
   ]
  },
  {
   "cell_type": "code",
   "execution_count": 32,
   "metadata": {
    "collapsed": false
   },
   "outputs": [],
   "source": [
    "drive_group_unstack = drives.groupby(['gsis_id','team','result'])['drive_id'].count().unstack().reset_index()"
   ]
  },
  {
   "cell_type": "code",
   "execution_count": 33,
   "metadata": {
    "collapsed": false
   },
   "outputs": [],
   "source": [
    "final_df = team_stats.groupby(['gsis_id','team']).sum().reset_index()"
   ]
  },
  {
   "cell_type": "code",
   "execution_count": 34,
   "metadata": {
    "collapsed": false
   },
   "outputs": [],
   "source": [
    "final_df = pd.merge(final_df, drive_group_unstack, how='left', on=['gsis_id','team'])"
   ]
  },
  {
   "cell_type": "code",
   "execution_count": 35,
   "metadata": {
    "collapsed": false
   },
   "outputs": [],
   "source": [
    "final_df = final_df.rename(columns = {'': 'will_drop'})\n",
    "final_df = final_df.drop('will_drop', 1)\n",
    "final_df.fillna(0, inplace=True)\n",
    "final_df.drop('UNKNOWN', axis=1, inplace=True)"
   ]
  },
  {
   "cell_type": "code",
   "execution_count": 36,
   "metadata": {
    "collapsed": false
   },
   "outputs": [],
   "source": [
    "final_df = pd.merge(final_df, outcome_type, how='left', on=['gsis_id','team'])"
   ]
  },
  {
   "cell_type": "code",
   "execution_count": 37,
   "metadata": {
    "collapsed": false
   },
   "outputs": [],
   "source": [
    "final_df = final_df.dropna(subset=['outcome'])"
   ]
  },
  {
   "cell_type": "code",
   "execution_count": 38,
   "metadata": {
    "collapsed": false
   },
   "outputs": [],
   "source": [
    "final_df['outcome'] = final_df['outcome'].apply(lambda x: 1 if x == 'win' else 0)\n",
    "final_df['location'] = final_df['location'].apply(lambda x: 1 if x == 'home' else 0)"
   ]
  },
  {
   "cell_type": "code",
   "execution_count": 39,
   "metadata": {
    "collapsed": false
   },
   "outputs": [],
   "source": [
    "final_df['type'].fillna('Regular', inplace=True)\n",
    "final_df = final_df.loc[final_df['type'] != 'Preseason']\n",
    "final_df.reset_index(drop=True, inplace=True)"
   ]
  },
  {
   "cell_type": "code",
   "execution_count": 159,
   "metadata": {
    "collapsed": false,
    "scrolled": true
   },
   "outputs": [
    {
     "name": "stderr",
     "output_type": "stream",
     "text": [
      "/anaconda/lib/python2.7/site-packages/ipykernel/__main__.py:1: FutureWarning: order is deprecated, use sort_values(...)\n",
      "  if __name__ == '__main__':\n"
     ]
    },
    {
     "data": {
      "text/plain": [
       "fumbles_tot            fumbles_forced           0.822373\n",
       "fumbles_forced         fumbles_tot              0.822373\n",
       "receiving_yds          passing_cmp_air_yds      0.819223\n",
       "passing_cmp_air_yds    receiving_yds            0.819223\n",
       "receiving_rec          receiving_yds            0.777564\n",
       "receiving_yds          receiving_rec            0.777564\n",
       "rushing_att            rushing_yds              0.756230\n",
       "rushing_yds            rushing_att              0.756230\n",
       "passing_tds            Touchdown                0.755023\n",
       "Touchdown              receiving_tds            0.755023\n",
       "                       passing_tds              0.755023\n",
       "receiving_tds          Touchdown                0.755023\n",
       "rushing_twopta         rushing_twoptm           0.751192\n",
       "rushing_twoptm         rushing_twopta           0.751192\n",
       "receiving_yds          receiving_yac_yds        0.734696\n",
       "receiving_yac_yds      receiving_yds            0.734696\n",
       "receiving_twopta       receiving_twoptmissed    0.726548\n",
       "receiving_twoptmissed  receiving_twopta         0.726548\n",
       "receiving_twopta       receiving_twoptm         0.723048\n",
       "receiving_twoptm       receiving_twopta         0.723048\n",
       "passing_twoptm         receiving_twopta         0.723048\n",
       "receiving_twopta       passing_twoptm           0.723048\n",
       "receiving_tar          passing_incmp            0.717953\n",
       "passing_incmp          receiving_tar            0.717953\n",
       "receiving_tds          kicking_xpmade           0.713342\n",
       "kicking_xpmade         receiving_tds            0.713342\n",
       "                       passing_tds              0.713342\n",
       "passing_tds            kicking_xpmade           0.713342\n",
       "passing_twoptmissed    receiving_twopta         0.700664\n",
       "receiving_twopta       passing_twoptmissed      0.700664\n",
       "                                                  ...   \n",
       "rushing_att            defense_tkl             -0.359915\n",
       "defense_tkl            rushing_att             -0.359915\n",
       "outcome                Interception            -0.369974\n",
       "passing_int            outcome                 -0.369974\n",
       "outcome                passing_int             -0.369974\n",
       "Interception           outcome                 -0.369974\n",
       "fumbles_rec_yds        fumbles_notforced       -0.373250\n",
       "fumbles_notforced      fumbles_rec_yds         -0.373250\n",
       "rushing_att            passing_incmp           -0.387628\n",
       "passing_incmp          rushing_att             -0.387628\n",
       "kicking_tot            punting_yds             -0.400440\n",
       "punting_yds            kicking_tot             -0.400440\n",
       "rushing_yds            receiving_tar           -0.406524\n",
       "receiving_tar          rushing_yds             -0.406524\n",
       "kicking_tot            Punt                    -0.416320\n",
       "Punt                   kicking_tot             -0.416320\n",
       "defense_sk_yds         defense_tkl_loss_yds    -0.431110\n",
       "defense_tkl_loss_yds   defense_sk_yds          -0.431110\n",
       "receiving_tar          rushing_att             -0.431997\n",
       "rushing_att            receiving_tar           -0.431997\n",
       "passing_incmp          outcome                 -0.434158\n",
       "outcome                passing_incmp           -0.434158\n",
       "defense_sk_yds         defense_tkl_loss        -0.480481\n",
       "defense_tkl_loss       defense_sk_yds          -0.480481\n",
       "defense_qbhit          defense_sk_yds          -0.599518\n",
       "defense_sk_yds         defense_qbhit           -0.599518\n",
       "defense_sk             defense_sk_yds          -0.873463\n",
       "defense_sk_yds         defense_sk              -0.873463\n",
       "passing_sk_yds         passing_sk              -0.894258\n",
       "passing_sk             passing_sk_yds          -0.894258\n",
       "dtype: float64"
      ]
     },
     "execution_count": 159,
     "metadata": {},
     "output_type": "execute_result"
    }
   ],
   "source": [
    "final_df.corr().unstack().order(kind='quicksort', ascending=False)[137:]"
   ]
  },
  {
   "cell_type": "code",
   "execution_count": 41,
   "metadata": {
    "collapsed": false
   },
   "outputs": [],
   "source": [
    "final_df.drop(['type','drive_id','play_id','rushing_loss','rushing_loss_yds',\n",
    "               'kickret_oob','kickret_touchback','kicking_rec_tds','kicking_downed',\n",
    "               'puntret_downed','puntret_oob','puntret_touchback','kicking_yds',\n",
    "               'passing_incmp_air_yds', 'End of Game','End of Half','passing_yds',\n",
    "               'passing_cmp','kicking_fgm','punting_tot','passing_att','kicking_xpa',\n",
    "               'kicking_fgmissed_yds','passing_twopta','kicking_fgmissed','punting_tot',\n",
    "              'fumbles_lost','kicking_fga','kicking_fga','punting_blk'], 1, inplace=True)\n",
    "#dropped all columns with high correlation or 'zero' values"
   ]
  },
  {
   "cell_type": "code",
   "execution_count": 42,
   "metadata": {
    "collapsed": false
   },
   "outputs": [],
   "source": [
    "def change_column_order(df, col_name, index):\n",
    "    cols = df.columns.tolist()\n",
    "    cols.remove(col_name)\n",
    "    cols.insert(index, col_name)\n",
    "    return df[cols]\n",
    "\n",
    "final_df = change_column_order(final_df, 'outcome', 1)\n",
    "#move a column from the end to the front"
   ]
  },
  {
   "cell_type": "code",
   "execution_count": 43,
   "metadata": {
    "collapsed": false,
    "scrolled": true
   },
   "outputs": [
    {
     "data": {
      "text/plain": [
       "<matplotlib.axes._subplots.AxesSubplot at 0x11bc65050>"
      ]
     },
     "execution_count": 43,
     "metadata": {},
     "output_type": "execute_result"
    },
    {
     "data": {
      "image/png": "[encoded data removed]",
      "text/plain": [
       "<matplotlib.figure.Figure at 0x11bc526d0>"
      ]
     },
     "metadata": {},
     "output_type": "display_data"
    }
   ],
   "source": [
    "final_df.groupby('outcome').mean().T.plot(kind='barh', figsize=(15, 25), legend=True)"
   ]
  },
  {
   "cell_type": "code",
   "execution_count": 44,
   "metadata": {
    "collapsed": true
   },
   "outputs": [],
   "source": [
    "final_df_2 = final_df"
   ]
  },
  {
   "cell_type": "code",
   "execution_count": 45,
   "metadata": {
    "collapsed": false
   },
   "outputs": [],
   "source": [
    "final_df = pd.get_dummies(final_df, columns=['team'])"
   ]
  },
  {
   "cell_type": "code",
   "execution_count": 46,
   "metadata": {
    "collapsed": false
   },
   "outputs": [
    {
     "data": {
      "text/plain": [
       "1    1860\n",
       "0    1860\n",
       "Name: outcome, dtype: int64"
      ]
     },
     "execution_count": 46,
     "metadata": {},
     "output_type": "execute_result"
    }
   ],
   "source": [
    "final_df.outcome.value_counts()"
   ]
  },
  {
   "cell_type": "markdown",
   "metadata": {
    "collapsed": false
   },
   "source": [
    "###  DF #1 STOPPING POINT AND SAVE CLEANING"
   ]
  },
  {
   "cell_type": "code",
   "execution_count": 48,
   "metadata": {
    "collapsed": false
   },
   "outputs": [],
   "source": [
    "#final_df.to_csv('final_df.csv')"
   ]
  },
  {
   "cell_type": "markdown",
   "metadata": {},
   "source": [
    "###  DF #2  CLEANING"
   ]
  },
  {
   "cell_type": "code",
   "execution_count": 169,
   "metadata": {
    "collapsed": false
   },
   "outputs": [],
   "source": [
    "games_copy = pd.DataFrame(games)"
   ]
  },
  {
   "cell_type": "code",
   "execution_count": 170,
   "metadata": {
    "collapsed": false
   },
   "outputs": [],
   "source": [
    "games_copy.drop(['gamekey',\n",
    "                 'home_score_q5','home_score_q4','home_score_q3','home_score_q2','home_score_q1',\n",
    "                 'away_score_q5','away_score_q4','away_score_q3','away_score_q2','away_score_q1'], axis=1, inplace=True)"
   ]
  },
  {
   "cell_type": "code",
   "execution_count": 171,
   "metadata": {
    "collapsed": false
   },
   "outputs": [],
   "source": [
    "def games_copy_stats_subsetter(df, suffix):\n",
    "    column_select = [x for x in games_copy.columns if suffix in x]\n",
    "    games_copy_subset = games_copy[['gsis_id','week','day_of_week','season_year','season_type'] + column_select]\n",
    "    games_copy_subset.columns = [x for x in games_copy_subset.columns]\n",
    "    return games_copy_subset\n",
    "\n",
    "h = games_copy_stats_subsetter(games_copy, 'home')\n",
    "a = games_copy_stats_subsetter(games_copy, 'away')"
   ]
  },
  {
   "cell_type": "code",
   "execution_count": 172,
   "metadata": {
    "collapsed": false,
    "scrolled": false
   },
   "outputs": [],
   "source": [
    "a.columns = ['gsis_id', 'week', 'day_of_week', 'season_year', 'season_type',\n",
    "       'team', 'score', 'turnovers', 'outcome']"
   ]
  },
  {
   "cell_type": "code",
   "execution_count": 173,
   "metadata": {
    "collapsed": false
   },
   "outputs": [],
   "source": [
    "h.columns = ['gsis_id', 'week', 'day_of_week', 'season_year', 'season_type',\n",
    "       'team', 'score', 'turnovers', 'outcome']"
   ]
  },
  {
   "cell_type": "code",
   "execution_count": 174,
   "metadata": {
    "collapsed": false
   },
   "outputs": [
    {
     "name": "stderr",
     "output_type": "stream",
     "text": [
      "/anaconda/lib/python2.7/site-packages/ipykernel/__main__.py:1: SettingWithCopyWarning: \n",
      "A value is trying to be set on a copy of a slice from a DataFrame.\n",
      "Try using .loc[row_indexer,col_indexer] = value instead\n",
      "\n",
      "See the caveats in the documentation: http://pandas.pydata.org/pandas-docs/stable/indexing.html#indexing-view-versus-copy\n",
      "  if __name__ == '__main__':\n",
      "/anaconda/lib/python2.7/site-packages/ipykernel/__main__.py:2: SettingWithCopyWarning: \n",
      "A value is trying to be set on a copy of a slice from a DataFrame.\n",
      "Try using .loc[row_indexer,col_indexer] = value instead\n",
      "\n",
      "See the caveats in the documentation: http://pandas.pydata.org/pandas-docs/stable/indexing.html#indexing-view-versus-copy\n",
      "  from ipykernel import kernelapp as app\n"
     ]
    }
   ],
   "source": [
    "h['location'] = 'home'\n",
    "a['location'] = 'away'\n",
    "g = [h, a]"
   ]
  },
  {
   "cell_type": "code",
   "execution_count": 175,
   "metadata": {
    "collapsed": false
   },
   "outputs": [],
   "source": [
    "g = pd.concat(g, ignore_index=True)"
   ]
  },
  {
   "cell_type": "code",
   "execution_count": 176,
   "metadata": {
    "collapsed": false
   },
   "outputs": [],
   "source": [
    "ts = team_stats.groupby(['gsis_id','team']).sum().reset_index()"
   ]
  },
  {
   "cell_type": "code",
   "execution_count": 177,
   "metadata": {
    "collapsed": false
   },
   "outputs": [],
   "source": [
    "ts = ts[ts.gsis_id != '2012111110']"
   ]
  },
  {
   "cell_type": "code",
   "execution_count": 178,
   "metadata": {
    "collapsed": false
   },
   "outputs": [],
   "source": [
    "ts = ts[ts.gsis_id != '2013112403']"
   ]
  },
  {
   "cell_type": "code",
   "execution_count": 179,
   "metadata": {
    "collapsed": false
   },
   "outputs": [],
   "source": [
    "ts = ts[ts.gsis_id != '2014101202']"
   ]
  },
  {
   "cell_type": "code",
   "execution_count": 180,
   "metadata": {
    "collapsed": false
   },
   "outputs": [],
   "source": [
    "df = pd.merge(ts, g, how='left', on=['gsis_id','team'])\n",
    "df = df[df.season_type != 'Preseason']\n",
    "df.drop(['season_year','season_type','drive_id','play_id',\n",
    "         'drive_id','play_id','rushing_loss','rushing_loss_yds',\n",
    "        'kickret_oob','kickret_touchback','kicking_rec_tds','kicking_downed',\n",
    "        'puntret_downed','puntret_oob','puntret_touchback','kicking_yds',\n",
    "        'passing_incmp_air_yds','passing_yds','passing_cmp','kicking_fgm',\n",
    "        'punting_tot','passing_att','kicking_xpa','kicking_fgmissed_yds',\n",
    "         'passing_twopta','kicking_fgmissed','punting_tot','fumbles_lost',\n",
    "         'kicking_fga','kicking_fga','punting_blk'], axis=1, inplace=True)\n",
    "df['outcome'] = df['outcome'].apply(lambda x: 1 if x == 'win' else 0)"
   ]
  },
  {
   "cell_type": "code",
   "execution_count": 181,
   "metadata": {
    "collapsed": false
   },
   "outputs": [],
   "source": [
    "home_df = df[df.location == 'home']\n",
    "away_df = df[df.location == 'away']"
   ]
  },
  {
   "cell_type": "code",
   "execution_count": 199,
   "metadata": {
    "collapsed": false,
    "scrolled": true
   },
   "outputs": [],
   "source": [
    "final_df_2 = pd.merge(home_df, away_df, how='left', on=['gsis_id','day_of_week','week'])"
   ]
  },
  {
   "cell_type": "code",
   "execution_count": 200,
   "metadata": {
    "collapsed": false
   },
   "outputs": [],
   "source": [
    "final_df_2.location_x = 1\n",
    "final_df_2.location_y = 0"
   ]
  },
  {
   "cell_type": "code",
   "execution_count": 201,
   "metadata": {
    "collapsed": true
   },
   "outputs": [],
   "source": [
    "gw = games[['gsis_id','winner']]"
   ]
  },
  {
   "cell_type": "code",
   "execution_count": 202,
   "metadata": {
    "collapsed": false
   },
   "outputs": [],
   "source": [
    "final_df_2 = pd.merge(final_df_2, gw, how='left', on='gsis_id')\n",
    "final_df_2.drop(['outcome_x','outcome_y'], axis=1, inplace=True)"
   ]
  },
  {
   "cell_type": "code",
   "execution_count": 203,
   "metadata": {
    "collapsed": false,
    "scrolled": true
   },
   "outputs": [],
   "source": [
    "final_df_2 = change_column_order(final_df_2, 'winner', 1)\n",
    "final_df_2 = change_column_order(final_df_2, 'team_x', 2)\n",
    "final_df_2 = change_column_order(final_df_2, 'team_y', 3)\n",
    "final_df_2 = change_column_order(final_df_2, 'score_x', 4)\n",
    "final_df_2 = change_column_order(final_df_2, 'score_y', 5)\n",
    "final_df_2 = change_column_order(final_df_2, 'week', 6)\n",
    "final_df_2 = change_column_order(final_df_2, 'day_of_week', 7)"
   ]
  },
  {
   "cell_type": "code",
   "execution_count": 204,
   "metadata": {
    "collapsed": false
   },
   "outputs": [],
   "source": [
    "week_day = {\"Monday\": 1, \"Tuesday\": 2, \"Wednesday\": 3, \"Thursday\": 4, \"Friday\": 5, \"Saturday\": 6, \"Sunday\": 7}"
   ]
  },
  {
   "cell_type": "code",
   "execution_count": 205,
   "metadata": {
    "collapsed": false
   },
   "outputs": [],
   "source": [
    "final_df_2.day_of_week = final_df_2.day_of_week.replace(week_day)"
   ]
  },
  {
   "cell_type": "code",
   "execution_count": 206,
   "metadata": {
    "collapsed": false
   },
   "outputs": [],
   "source": [
    "final_df_2['winner'] = final_df_2.winner == final_df_2.team_x"
   ]
  },
  {
   "cell_type": "code",
   "execution_count": 207,
   "metadata": {
    "collapsed": true
   },
   "outputs": [],
   "source": [
    "final_df_2.winner = final_df_2.winner.apply(lambda x: 1 if x == True else 0)"
   ]
  },
  {
   "cell_type": "code",
   "execution_count": 220,
   "metadata": {
    "collapsed": false
   },
   "outputs": [
    {
     "data": {
      "text/html": [
       "<div>\n",
       "<table border=\"1\" class=\"dataframe\">\n",
       "  <thead>\n",
       "    <tr style=\"text-align: right;\">\n",
       "      <th></th>\n",
       "      <th>gsis_id</th>\n",
       "      <th>winner</th>\n",
       "      <th>team_x</th>\n",
       "      <th>team_y</th>\n",
       "      <th>score_x</th>\n",
       "      <th>score_y</th>\n",
       "      <th>week</th>\n",
       "      <th>day_of_week</th>\n",
       "      <th>defense_ast_x</th>\n",
       "      <th>defense_ffum_x</th>\n",
       "      <th>...</th>\n",
       "      <th>receiving_yac_yds_y</th>\n",
       "      <th>receiving_yds_y</th>\n",
       "      <th>rushing_att_y</th>\n",
       "      <th>rushing_tds_y</th>\n",
       "      <th>rushing_twopta_y</th>\n",
       "      <th>rushing_twoptm_y</th>\n",
       "      <th>rushing_twoptmissed_y</th>\n",
       "      <th>rushing_yds_y</th>\n",
       "      <th>turnovers_y</th>\n",
       "      <th>location_y</th>\n",
       "    </tr>\n",
       "  </thead>\n",
       "  <tbody>\n",
       "    <tr>\n",
       "      <th>0</th>\n",
       "      <td>2009091000</td>\n",
       "      <td>1</td>\n",
       "      <td>PIT</td>\n",
       "      <td>TEN</td>\n",
       "      <td>13</td>\n",
       "      <td>10</td>\n",
       "      <td>1</td>\n",
       "      <td>4</td>\n",
       "      <td>25</td>\n",
       "      <td>1</td>\n",
       "      <td>...</td>\n",
       "      <td>88</td>\n",
       "      <td>244</td>\n",
       "      <td>25</td>\n",
       "      <td>0</td>\n",
       "      <td>0</td>\n",
       "      <td>0</td>\n",
       "      <td>0</td>\n",
       "      <td>86</td>\n",
       "      <td>2</td>\n",
       "      <td>0</td>\n",
       "    </tr>\n",
       "    <tr>\n",
       "      <th>1</th>\n",
       "      <td>2009091300</td>\n",
       "      <td>1</td>\n",
       "      <td>ATL</td>\n",
       "      <td>MIA</td>\n",
       "      <td>19</td>\n",
       "      <td>7</td>\n",
       "      <td>1</td>\n",
       "      <td>7</td>\n",
       "      <td>5</td>\n",
       "      <td>3</td>\n",
       "      <td>...</td>\n",
       "      <td>88</td>\n",
       "      <td>176</td>\n",
       "      <td>22</td>\n",
       "      <td>0</td>\n",
       "      <td>0</td>\n",
       "      <td>0</td>\n",
       "      <td>0</td>\n",
       "      <td>96</td>\n",
       "      <td>0</td>\n",
       "      <td>0</td>\n",
       "    </tr>\n",
       "    <tr>\n",
       "      <th>2</th>\n",
       "      <td>2009091301</td>\n",
       "      <td>1</td>\n",
       "      <td>BAL</td>\n",
       "      <td>KC</td>\n",
       "      <td>38</td>\n",
       "      <td>24</td>\n",
       "      <td>1</td>\n",
       "      <td>7</td>\n",
       "      <td>10</td>\n",
       "      <td>1</td>\n",
       "      <td>...</td>\n",
       "      <td>82</td>\n",
       "      <td>177</td>\n",
       "      <td>17</td>\n",
       "      <td>0</td>\n",
       "      <td>0</td>\n",
       "      <td>0</td>\n",
       "      <td>0</td>\n",
       "      <td>29</td>\n",
       "      <td>0</td>\n",
       "      <td>0</td>\n",
       "    </tr>\n",
       "    <tr>\n",
       "      <th>3</th>\n",
       "      <td>2009091302</td>\n",
       "      <td>0</td>\n",
       "      <td>CAR</td>\n",
       "      <td>PHI</td>\n",
       "      <td>10</td>\n",
       "      <td>38</td>\n",
       "      <td>1</td>\n",
       "      <td>7</td>\n",
       "      <td>6</td>\n",
       "      <td>1</td>\n",
       "      <td>...</td>\n",
       "      <td>45</td>\n",
       "      <td>102</td>\n",
       "      <td>32</td>\n",
       "      <td>1</td>\n",
       "      <td>0</td>\n",
       "      <td>0</td>\n",
       "      <td>0</td>\n",
       "      <td>185</td>\n",
       "      <td>1</td>\n",
       "      <td>0</td>\n",
       "    </tr>\n",
       "    <tr>\n",
       "      <th>4</th>\n",
       "      <td>2009091303</td>\n",
       "      <td>0</td>\n",
       "      <td>CIN</td>\n",
       "      <td>DEN</td>\n",
       "      <td>7</td>\n",
       "      <td>12</td>\n",
       "      <td>1</td>\n",
       "      <td>7</td>\n",
       "      <td>26</td>\n",
       "      <td>0</td>\n",
       "      <td>...</td>\n",
       "      <td>146</td>\n",
       "      <td>243</td>\n",
       "      <td>20</td>\n",
       "      <td>0</td>\n",
       "      <td>0</td>\n",
       "      <td>0</td>\n",
       "      <td>0</td>\n",
       "      <td>75</td>\n",
       "      <td>0</td>\n",
       "      <td>0</td>\n",
       "    </tr>\n",
       "  </tbody>\n",
       "</table>\n",
       "<p>5 rows × 156 columns</p>\n",
       "</div>"
      ],
      "text/plain": [
       "      gsis_id  winner team_x team_y  score_x  score_y  week  day_of_week  \\\n",
       "0  2009091000       1    PIT    TEN       13       10     1            4   \n",
       "1  2009091300       1    ATL    MIA       19        7     1            7   \n",
       "2  2009091301       1    BAL     KC       38       24     1            7   \n",
       "3  2009091302       0    CAR    PHI       10       38     1            7   \n",
       "4  2009091303       0    CIN    DEN        7       12     1            7   \n",
       "\n",
       "   defense_ast_x  defense_ffum_x     ...      receiving_yac_yds_y  \\\n",
       "0             25               1     ...                       88   \n",
       "1              5               3     ...                       88   \n",
       "2             10               1     ...                       82   \n",
       "3              6               1     ...                       45   \n",
       "4             26               0     ...                      146   \n",
       "\n",
       "   receiving_yds_y  rushing_att_y  rushing_tds_y  rushing_twopta_y  \\\n",
       "0              244             25              0                 0   \n",
       "1              176             22              0                 0   \n",
       "2              177             17              0                 0   \n",
       "3              102             32              1                 0   \n",
       "4              243             20              0                 0   \n",
       "\n",
       "   rushing_twoptm_y  rushing_twoptmissed_y  rushing_yds_y  turnovers_y  \\\n",
       "0                 0                      0             86            2   \n",
       "1                 0                      0             96            0   \n",
       "2                 0                      0             29            0   \n",
       "3                 0                      0            185            1   \n",
       "4                 0                      0             75            0   \n",
       "\n",
       "   location_y  \n",
       "0           0  \n",
       "1           0  \n",
       "2           0  \n",
       "3           0  \n",
       "4           0  \n",
       "\n",
       "[5 rows x 156 columns]"
      ]
     },
     "execution_count": 220,
     "metadata": {},
     "output_type": "execute_result"
    }
   ],
   "source": [
    "final_df_2.head()"
   ]
  },
  {
   "cell_type": "markdown",
   "metadata": {},
   "source": [
    "###  DF #2 STOPPING POINT AND SAVE CLEANING"
   ]
  },
  {
   "cell_type": "code",
   "execution_count": 129,
   "metadata": {
    "collapsed": false,
    "scrolled": true
   },
   "outputs": [],
   "source": [
    "#final_df_2.to_csv('final_df_2.csv')"
   ]
  },
  {
   "cell_type": "markdown",
   "metadata": {
    "collapsed": false
   },
   "source": [
    "###  DF #3 STOPPING POINT AND SAVE CLEANING"
   ]
  },
  {
   "cell_type": "code",
   "execution_count": 259,
   "metadata": {
    "collapsed": true
   },
   "outputs": [],
   "source": [
    "final_df_3 = pd.DataFrame(final_df_2)"
   ]
  },
  {
   "cell_type": "code",
   "execution_count": 260,
   "metadata": {
    "collapsed": false
   },
   "outputs": [
    {
     "data": {
      "text/html": [
       "<div>\n",
       "<table border=\"1\" class=\"dataframe\">\n",
       "  <thead>\n",
       "    <tr style=\"text-align: right;\">\n",
       "      <th></th>\n",
       "      <th>gsis_id</th>\n",
       "      <th>winner</th>\n",
       "      <th>team_x</th>\n",
       "      <th>team_y</th>\n",
       "      <th>score_x</th>\n",
       "      <th>score_y</th>\n",
       "      <th>week</th>\n",
       "      <th>day_of_week</th>\n",
       "      <th>defense_ast_x</th>\n",
       "      <th>defense_ffum_x</th>\n",
       "      <th>...</th>\n",
       "      <th>receiving_yac_yds_y</th>\n",
       "      <th>receiving_yds_y</th>\n",
       "      <th>rushing_att_y</th>\n",
       "      <th>rushing_tds_y</th>\n",
       "      <th>rushing_twopta_y</th>\n",
       "      <th>rushing_twoptm_y</th>\n",
       "      <th>rushing_twoptmissed_y</th>\n",
       "      <th>rushing_yds_y</th>\n",
       "      <th>turnovers_y</th>\n",
       "      <th>location_y</th>\n",
       "    </tr>\n",
       "  </thead>\n",
       "  <tbody>\n",
       "    <tr>\n",
       "      <th>0</th>\n",
       "      <td>2009091000</td>\n",
       "      <td>1</td>\n",
       "      <td>PIT</td>\n",
       "      <td>TEN</td>\n",
       "      <td>13</td>\n",
       "      <td>10</td>\n",
       "      <td>1</td>\n",
       "      <td>4</td>\n",
       "      <td>25</td>\n",
       "      <td>1</td>\n",
       "      <td>...</td>\n",
       "      <td>88</td>\n",
       "      <td>244</td>\n",
       "      <td>25</td>\n",
       "      <td>0</td>\n",
       "      <td>0</td>\n",
       "      <td>0</td>\n",
       "      <td>0</td>\n",
       "      <td>86</td>\n",
       "      <td>2</td>\n",
       "      <td>0</td>\n",
       "    </tr>\n",
       "    <tr>\n",
       "      <th>1</th>\n",
       "      <td>2009091300</td>\n",
       "      <td>1</td>\n",
       "      <td>ATL</td>\n",
       "      <td>MIA</td>\n",
       "      <td>19</td>\n",
       "      <td>7</td>\n",
       "      <td>1</td>\n",
       "      <td>7</td>\n",
       "      <td>5</td>\n",
       "      <td>3</td>\n",
       "      <td>...</td>\n",
       "      <td>88</td>\n",
       "      <td>176</td>\n",
       "      <td>22</td>\n",
       "      <td>0</td>\n",
       "      <td>0</td>\n",
       "      <td>0</td>\n",
       "      <td>0</td>\n",
       "      <td>96</td>\n",
       "      <td>0</td>\n",
       "      <td>0</td>\n",
       "    </tr>\n",
       "    <tr>\n",
       "      <th>2</th>\n",
       "      <td>2009091301</td>\n",
       "      <td>1</td>\n",
       "      <td>BAL</td>\n",
       "      <td>KC</td>\n",
       "      <td>38</td>\n",
       "      <td>24</td>\n",
       "      <td>1</td>\n",
       "      <td>7</td>\n",
       "      <td>10</td>\n",
       "      <td>1</td>\n",
       "      <td>...</td>\n",
       "      <td>82</td>\n",
       "      <td>177</td>\n",
       "      <td>17</td>\n",
       "      <td>0</td>\n",
       "      <td>0</td>\n",
       "      <td>0</td>\n",
       "      <td>0</td>\n",
       "      <td>29</td>\n",
       "      <td>0</td>\n",
       "      <td>0</td>\n",
       "    </tr>\n",
       "    <tr>\n",
       "      <th>3</th>\n",
       "      <td>2009091302</td>\n",
       "      <td>0</td>\n",
       "      <td>CAR</td>\n",
       "      <td>PHI</td>\n",
       "      <td>10</td>\n",
       "      <td>38</td>\n",
       "      <td>1</td>\n",
       "      <td>7</td>\n",
       "      <td>6</td>\n",
       "      <td>1</td>\n",
       "      <td>...</td>\n",
       "      <td>45</td>\n",
       "      <td>102</td>\n",
       "      <td>32</td>\n",
       "      <td>1</td>\n",
       "      <td>0</td>\n",
       "      <td>0</td>\n",
       "      <td>0</td>\n",
       "      <td>185</td>\n",
       "      <td>1</td>\n",
       "      <td>0</td>\n",
       "    </tr>\n",
       "    <tr>\n",
       "      <th>4</th>\n",
       "      <td>2009091303</td>\n",
       "      <td>0</td>\n",
       "      <td>CIN</td>\n",
       "      <td>DEN</td>\n",
       "      <td>7</td>\n",
       "      <td>12</td>\n",
       "      <td>1</td>\n",
       "      <td>7</td>\n",
       "      <td>26</td>\n",
       "      <td>0</td>\n",
       "      <td>...</td>\n",
       "      <td>146</td>\n",
       "      <td>243</td>\n",
       "      <td>20</td>\n",
       "      <td>0</td>\n",
       "      <td>0</td>\n",
       "      <td>0</td>\n",
       "      <td>0</td>\n",
       "      <td>75</td>\n",
       "      <td>0</td>\n",
       "      <td>0</td>\n",
       "    </tr>\n",
       "  </tbody>\n",
       "</table>\n",
       "<p>5 rows × 156 columns</p>\n",
       "</div>"
      ],
      "text/plain": [
       "      gsis_id  winner team_x team_y  score_x  score_y  week  day_of_week  \\\n",
       "0  2009091000       1    PIT    TEN       13       10     1            4   \n",
       "1  2009091300       1    ATL    MIA       19        7     1            7   \n",
       "2  2009091301       1    BAL     KC       38       24     1            7   \n",
       "3  2009091302       0    CAR    PHI       10       38     1            7   \n",
       "4  2009091303       0    CIN    DEN        7       12     1            7   \n",
       "\n",
       "   defense_ast_x  defense_ffum_x     ...      receiving_yac_yds_y  \\\n",
       "0             25               1     ...                       88   \n",
       "1              5               3     ...                       88   \n",
       "2             10               1     ...                       82   \n",
       "3              6               1     ...                       45   \n",
       "4             26               0     ...                      146   \n",
       "\n",
       "   receiving_yds_y  rushing_att_y  rushing_tds_y  rushing_twopta_y  \\\n",
       "0              244             25              0                 0   \n",
       "1              176             22              0                 0   \n",
       "2              177             17              0                 0   \n",
       "3              102             32              1                 0   \n",
       "4              243             20              0                 0   \n",
       "\n",
       "   rushing_twoptm_y  rushing_twoptmissed_y  rushing_yds_y  turnovers_y  \\\n",
       "0                 0                      0             86            2   \n",
       "1                 0                      0             96            0   \n",
       "2                 0                      0             29            0   \n",
       "3                 0                      0            185            1   \n",
       "4                 0                      0             75            0   \n",
       "\n",
       "   location_y  \n",
       "0           0  \n",
       "1           0  \n",
       "2           0  \n",
       "3           0  \n",
       "4           0  \n",
       "\n",
       "[5 rows x 156 columns]"
      ]
     },
     "execution_count": 260,
     "metadata": {},
     "output_type": "execute_result"
    }
   ],
   "source": [
    "final_df_3.head()"
   ]
  },
  {
   "cell_type": "code",
   "execution_count": 261,
   "metadata": {
    "collapsed": false
   },
   "outputs": [],
   "source": [
    "final_df_3.drop(\n",
    "['defense_ast_x','defense_fgblk_x','defense_fgblk_x',\n",
    " 'defense_misc_tds_x','defense_puntblk_x','defense_pass_def_x',\n",
    " 'defense_tkl_loss_x','defense_tkl_primary_x',\n",
    " 'kicking_all_yds_x','kicking_fgb_x','kicking_fgm_yds_x','kicking_i20_x',\n",
    " 'kicking_rec_x','kicking_tot_x','kicking_xpb_x','kicking_xpmissed_x',\n",
    " 'passing_twoptmissed_x','puntret_yds_x','puntret_fair_x','passing_sk_yds_x',\n",
    " 'receiving_tar_x','receiving_twopta_x','receiving_twoptmissed_x','receiving_yac_yds_x',\n",
    " 'rushing_twopta_x','rushing_twoptmissed_x','defense_ast_y','defense_fgblk_y','defense_fgblk_y',\n",
    " 'defense_misc_tds_y','defense_puntblk_y','defense_pass_def_y',\n",
    " 'defense_tkl_loss_y','defense_tkl_primary_y',\n",
    " 'kicking_all_yds_y','kicking_fgb_y','kicking_fgm_yds_y','kicking_i20_y',\n",
    " 'kicking_rec_y','kicking_tot_y','kicking_xpb_y','kicking_xpmissed_y',\n",
    " 'passing_twoptmissed_y','puntret_yds_y','puntret_fair_y','passing_sk_yds_y',\n",
    " 'receiving_tar_y','receiving_twopta_y','receiving_twoptmissed_y','receiving_yac_yds_y',\n",
    " 'rushing_twopta_y','rushing_twoptmissed_y'], axis=1, inplace=True)"
   ]
  },
  {
   "cell_type": "code",
   "execution_count": 262,
   "metadata": {
    "collapsed": false
   },
   "outputs": [
    {
     "data": {
      "text/html": [
       "<div>\n",
       "<table border=\"1\" class=\"dataframe\">\n",
       "  <thead>\n",
       "    <tr style=\"text-align: right;\">\n",
       "      <th></th>\n",
       "      <th>gsis_id</th>\n",
       "      <th>winner</th>\n",
       "      <th>team_x</th>\n",
       "      <th>team_y</th>\n",
       "      <th>score_x</th>\n",
       "      <th>score_y</th>\n",
       "      <th>week</th>\n",
       "      <th>day_of_week</th>\n",
       "      <th>defense_ffum_x</th>\n",
       "      <th>defense_frec_x</th>\n",
       "      <th>...</th>\n",
       "      <th>receiving_rec_y</th>\n",
       "      <th>receiving_tds_y</th>\n",
       "      <th>receiving_twoptm_y</th>\n",
       "      <th>receiving_yds_y</th>\n",
       "      <th>rushing_att_y</th>\n",
       "      <th>rushing_tds_y</th>\n",
       "      <th>rushing_twoptm_y</th>\n",
       "      <th>rushing_yds_y</th>\n",
       "      <th>turnovers_y</th>\n",
       "      <th>location_y</th>\n",
       "    </tr>\n",
       "  </thead>\n",
       "  <tbody>\n",
       "    <tr>\n",
       "      <th>0</th>\n",
       "      <td>2009091000</td>\n",
       "      <td>1</td>\n",
       "      <td>PIT</td>\n",
       "      <td>TEN</td>\n",
       "      <td>13</td>\n",
       "      <td>10</td>\n",
       "      <td>1</td>\n",
       "      <td>4</td>\n",
       "      <td>1</td>\n",
       "      <td>1</td>\n",
       "      <td>...</td>\n",
       "      <td>22</td>\n",
       "      <td>1</td>\n",
       "      <td>0</td>\n",
       "      <td>244</td>\n",
       "      <td>25</td>\n",
       "      <td>0</td>\n",
       "      <td>0</td>\n",
       "      <td>86</td>\n",
       "      <td>2</td>\n",
       "      <td>0</td>\n",
       "    </tr>\n",
       "    <tr>\n",
       "      <th>1</th>\n",
       "      <td>2009091300</td>\n",
       "      <td>1</td>\n",
       "      <td>ATL</td>\n",
       "      <td>MIA</td>\n",
       "      <td>19</td>\n",
       "      <td>7</td>\n",
       "      <td>1</td>\n",
       "      <td>7</td>\n",
       "      <td>3</td>\n",
       "      <td>3</td>\n",
       "      <td>...</td>\n",
       "      <td>21</td>\n",
       "      <td>1</td>\n",
       "      <td>0</td>\n",
       "      <td>176</td>\n",
       "      <td>22</td>\n",
       "      <td>0</td>\n",
       "      <td>0</td>\n",
       "      <td>96</td>\n",
       "      <td>0</td>\n",
       "      <td>0</td>\n",
       "    </tr>\n",
       "    <tr>\n",
       "      <th>2</th>\n",
       "      <td>2009091301</td>\n",
       "      <td>1</td>\n",
       "      <td>BAL</td>\n",
       "      <td>KC</td>\n",
       "      <td>38</td>\n",
       "      <td>24</td>\n",
       "      <td>1</td>\n",
       "      <td>7</td>\n",
       "      <td>1</td>\n",
       "      <td>0</td>\n",
       "      <td>...</td>\n",
       "      <td>16</td>\n",
       "      <td>2</td>\n",
       "      <td>0</td>\n",
       "      <td>177</td>\n",
       "      <td>17</td>\n",
       "      <td>0</td>\n",
       "      <td>0</td>\n",
       "      <td>29</td>\n",
       "      <td>0</td>\n",
       "      <td>0</td>\n",
       "    </tr>\n",
       "    <tr>\n",
       "      <th>3</th>\n",
       "      <td>2009091302</td>\n",
       "      <td>0</td>\n",
       "      <td>CAR</td>\n",
       "      <td>PHI</td>\n",
       "      <td>10</td>\n",
       "      <td>38</td>\n",
       "      <td>1</td>\n",
       "      <td>7</td>\n",
       "      <td>1</td>\n",
       "      <td>1</td>\n",
       "      <td>...</td>\n",
       "      <td>17</td>\n",
       "      <td>2</td>\n",
       "      <td>0</td>\n",
       "      <td>102</td>\n",
       "      <td>32</td>\n",
       "      <td>1</td>\n",
       "      <td>0</td>\n",
       "      <td>185</td>\n",
       "      <td>1</td>\n",
       "      <td>0</td>\n",
       "    </tr>\n",
       "    <tr>\n",
       "      <th>4</th>\n",
       "      <td>2009091303</td>\n",
       "      <td>0</td>\n",
       "      <td>CIN</td>\n",
       "      <td>DEN</td>\n",
       "      <td>7</td>\n",
       "      <td>12</td>\n",
       "      <td>1</td>\n",
       "      <td>7</td>\n",
       "      <td>0</td>\n",
       "      <td>0</td>\n",
       "      <td>...</td>\n",
       "      <td>17</td>\n",
       "      <td>1</td>\n",
       "      <td>0</td>\n",
       "      <td>243</td>\n",
       "      <td>20</td>\n",
       "      <td>0</td>\n",
       "      <td>0</td>\n",
       "      <td>75</td>\n",
       "      <td>0</td>\n",
       "      <td>0</td>\n",
       "    </tr>\n",
       "  </tbody>\n",
       "</table>\n",
       "<p>5 rows × 82 columns</p>\n",
       "</div>"
      ],
      "text/plain": [
       "      gsis_id  winner team_x team_y  score_x  score_y  week  day_of_week  \\\n",
       "0  2009091000       1    PIT    TEN       13       10     1            4   \n",
       "1  2009091300       1    ATL    MIA       19        7     1            7   \n",
       "2  2009091301       1    BAL     KC       38       24     1            7   \n",
       "3  2009091302       0    CAR    PHI       10       38     1            7   \n",
       "4  2009091303       0    CIN    DEN        7       12     1            7   \n",
       "\n",
       "   defense_ffum_x  defense_frec_x     ...      receiving_rec_y  \\\n",
       "0               1               1     ...                   22   \n",
       "1               3               3     ...                   21   \n",
       "2               1               0     ...                   16   \n",
       "3               1               1     ...                   17   \n",
       "4               0               0     ...                   17   \n",
       "\n",
       "   receiving_tds_y  receiving_twoptm_y  receiving_yds_y  rushing_att_y  \\\n",
       "0                1                   0              244             25   \n",
       "1                1                   0              176             22   \n",
       "2                2                   0              177             17   \n",
       "3                2                   0              102             32   \n",
       "4                1                   0              243             20   \n",
       "\n",
       "   rushing_tds_y  rushing_twoptm_y  rushing_yds_y  turnovers_y  location_y  \n",
       "0              0                 0             86            2           0  \n",
       "1              0                 0             96            0           0  \n",
       "2              0                 0             29            0           0  \n",
       "3              1                 0            185            1           0  \n",
       "4              0                 0             75            0           0  \n",
       "\n",
       "[5 rows x 82 columns]"
      ]
     },
     "execution_count": 262,
     "metadata": {},
     "output_type": "execute_result"
    }
   ],
   "source": [
    "import re\n",
    "final_df_copy.select(lambda x: not re.search('defense(.*?)yds', x), axis=1).head()"
   ]
  },
  {
   "cell_type": "code",
   "execution_count": 263,
   "metadata": {
    "collapsed": true
   },
   "outputs": [],
   "source": [
    "import re\n",
    "final_df_3 = final_df_copy.select(lambda x: not re.search('fumbles(.*?)', x), axis=1)"
   ]
  },
  {
   "cell_type": "code",
   "execution_count": 264,
   "metadata": {
    "collapsed": false
   },
   "outputs": [
    {
     "data": {
      "text/html": [
       "<div>\n",
       "<table border=\"1\" class=\"dataframe\">\n",
       "  <thead>\n",
       "    <tr style=\"text-align: right;\">\n",
       "      <th></th>\n",
       "      <th>gsis_id</th>\n",
       "      <th>winner</th>\n",
       "      <th>team_x</th>\n",
       "      <th>team_y</th>\n",
       "      <th>score_x</th>\n",
       "      <th>score_y</th>\n",
       "      <th>week</th>\n",
       "      <th>day_of_week</th>\n",
       "      <th>defense_ffum_x</th>\n",
       "      <th>defense_frec_x</th>\n",
       "      <th>...</th>\n",
       "      <th>receiving_rec_y</th>\n",
       "      <th>receiving_tds_y</th>\n",
       "      <th>receiving_twoptm_y</th>\n",
       "      <th>receiving_yds_y</th>\n",
       "      <th>rushing_att_y</th>\n",
       "      <th>rushing_tds_y</th>\n",
       "      <th>rushing_twoptm_y</th>\n",
       "      <th>rushing_yds_y</th>\n",
       "      <th>turnovers_y</th>\n",
       "      <th>location_y</th>\n",
       "    </tr>\n",
       "  </thead>\n",
       "  <tbody>\n",
       "    <tr>\n",
       "      <th>0</th>\n",
       "      <td>2009091000</td>\n",
       "      <td>1</td>\n",
       "      <td>PIT</td>\n",
       "      <td>TEN</td>\n",
       "      <td>13</td>\n",
       "      <td>10</td>\n",
       "      <td>1</td>\n",
       "      <td>4</td>\n",
       "      <td>1</td>\n",
       "      <td>1</td>\n",
       "      <td>...</td>\n",
       "      <td>22</td>\n",
       "      <td>1</td>\n",
       "      <td>0</td>\n",
       "      <td>244</td>\n",
       "      <td>25</td>\n",
       "      <td>0</td>\n",
       "      <td>0</td>\n",
       "      <td>86</td>\n",
       "      <td>2</td>\n",
       "      <td>0</td>\n",
       "    </tr>\n",
       "    <tr>\n",
       "      <th>1</th>\n",
       "      <td>2009091300</td>\n",
       "      <td>1</td>\n",
       "      <td>ATL</td>\n",
       "      <td>MIA</td>\n",
       "      <td>19</td>\n",
       "      <td>7</td>\n",
       "      <td>1</td>\n",
       "      <td>7</td>\n",
       "      <td>3</td>\n",
       "      <td>3</td>\n",
       "      <td>...</td>\n",
       "      <td>21</td>\n",
       "      <td>1</td>\n",
       "      <td>0</td>\n",
       "      <td>176</td>\n",
       "      <td>22</td>\n",
       "      <td>0</td>\n",
       "      <td>0</td>\n",
       "      <td>96</td>\n",
       "      <td>0</td>\n",
       "      <td>0</td>\n",
       "    </tr>\n",
       "    <tr>\n",
       "      <th>2</th>\n",
       "      <td>2009091301</td>\n",
       "      <td>1</td>\n",
       "      <td>BAL</td>\n",
       "      <td>KC</td>\n",
       "      <td>38</td>\n",
       "      <td>24</td>\n",
       "      <td>1</td>\n",
       "      <td>7</td>\n",
       "      <td>1</td>\n",
       "      <td>0</td>\n",
       "      <td>...</td>\n",
       "      <td>16</td>\n",
       "      <td>2</td>\n",
       "      <td>0</td>\n",
       "      <td>177</td>\n",
       "      <td>17</td>\n",
       "      <td>0</td>\n",
       "      <td>0</td>\n",
       "      <td>29</td>\n",
       "      <td>0</td>\n",
       "      <td>0</td>\n",
       "    </tr>\n",
       "    <tr>\n",
       "      <th>3</th>\n",
       "      <td>2009091302</td>\n",
       "      <td>0</td>\n",
       "      <td>CAR</td>\n",
       "      <td>PHI</td>\n",
       "      <td>10</td>\n",
       "      <td>38</td>\n",
       "      <td>1</td>\n",
       "      <td>7</td>\n",
       "      <td>1</td>\n",
       "      <td>1</td>\n",
       "      <td>...</td>\n",
       "      <td>17</td>\n",
       "      <td>2</td>\n",
       "      <td>0</td>\n",
       "      <td>102</td>\n",
       "      <td>32</td>\n",
       "      <td>1</td>\n",
       "      <td>0</td>\n",
       "      <td>185</td>\n",
       "      <td>1</td>\n",
       "      <td>0</td>\n",
       "    </tr>\n",
       "    <tr>\n",
       "      <th>4</th>\n",
       "      <td>2009091303</td>\n",
       "      <td>0</td>\n",
       "      <td>CIN</td>\n",
       "      <td>DEN</td>\n",
       "      <td>7</td>\n",
       "      <td>12</td>\n",
       "      <td>1</td>\n",
       "      <td>7</td>\n",
       "      <td>0</td>\n",
       "      <td>0</td>\n",
       "      <td>...</td>\n",
       "      <td>17</td>\n",
       "      <td>1</td>\n",
       "      <td>0</td>\n",
       "      <td>243</td>\n",
       "      <td>20</td>\n",
       "      <td>0</td>\n",
       "      <td>0</td>\n",
       "      <td>75</td>\n",
       "      <td>0</td>\n",
       "      <td>0</td>\n",
       "    </tr>\n",
       "  </tbody>\n",
       "</table>\n",
       "<p>5 rows × 82 columns</p>\n",
       "</div>"
      ],
      "text/plain": [
       "      gsis_id  winner team_x team_y  score_x  score_y  week  day_of_week  \\\n",
       "0  2009091000       1    PIT    TEN       13       10     1            4   \n",
       "1  2009091300       1    ATL    MIA       19        7     1            7   \n",
       "2  2009091301       1    BAL     KC       38       24     1            7   \n",
       "3  2009091302       0    CAR    PHI       10       38     1            7   \n",
       "4  2009091303       0    CIN    DEN        7       12     1            7   \n",
       "\n",
       "   defense_ffum_x  defense_frec_x     ...      receiving_rec_y  \\\n",
       "0               1               1     ...                   22   \n",
       "1               3               3     ...                   21   \n",
       "2               1               0     ...                   16   \n",
       "3               1               1     ...                   17   \n",
       "4               0               0     ...                   17   \n",
       "\n",
       "   receiving_tds_y  receiving_twoptm_y  receiving_yds_y  rushing_att_y  \\\n",
       "0                1                   0              244             25   \n",
       "1                1                   0              176             22   \n",
       "2                2                   0              177             17   \n",
       "3                2                   0              102             32   \n",
       "4                1                   0              243             20   \n",
       "\n",
       "   rushing_tds_y  rushing_twoptm_y  rushing_yds_y  turnovers_y  location_y  \n",
       "0              0                 0             86            2           0  \n",
       "1              0                 0             96            0           0  \n",
       "2              0                 0             29            0           0  \n",
       "3              1                 0            185            1           0  \n",
       "4              0                 0             75            0           0  \n",
       "\n",
       "[5 rows x 82 columns]"
      ]
     },
     "execution_count": 264,
     "metadata": {},
     "output_type": "execute_result"
    }
   ],
   "source": [
    "final_df_3.head()"
   ]
  },
  {
   "cell_type": "code",
   "execution_count": 265,
   "metadata": {
    "collapsed": false
   },
   "outputs": [
    {
     "data": {
      "text/plain": [
       "(1860, 82)"
      ]
     },
     "execution_count": 265,
     "metadata": {},
     "output_type": "execute_result"
    }
   ],
   "source": [
    "final_df_3.shape"
   ]
  },
  {
   "cell_type": "code",
   "execution_count": 300,
   "metadata": {
    "collapsed": false
   },
   "outputs": [],
   "source": [
    "#final_df_3.to_csv('final_df_3.csv')"
   ]
  },
  {
   "cell_type": "code",
   "execution_count": 296,
   "metadata": {
    "collapsed": false
   },
   "outputs": [
    {
     "data": {
      "text/plain": [
       "<matplotlib.axes._subplots.AxesSubplot at 0x254c87b50>"
      ]
     },
     "execution_count": 296,
     "metadata": {},
     "output_type": "execute_result"
    },
    {
     "data": {
      "image/png": "[encoded data removed]",
      "text/plain": [
       "<matplotlib.figure.Figure at 0x254bfa150>"
      ]
     },
     "metadata": {},
     "output_type": "display_data"
    }
   ],
   "source": [
    "final_df_3.groupby(['team_x'])['winner'].sum().sort_values(ascending=False).plot(kind='bar')"
   ]
  },
  {
   "cell_type": "code",
   "execution_count": 299,
   "metadata": {
    "collapsed": false
   },
   "outputs": [
    {
     "data": {
      "text/plain": [
       "<matplotlib.axes._subplots.AxesSubplot at 0x255c9ba10>"
      ]
     },
     "execution_count": 299,
     "metadata": {},
     "output_type": "execute_result"
    },
    {
     "data": {
      "image/png": "[encoded data removed]",
      "text/plain": [
       "<matplotlib.figure.Figure at 0x255c19850>"
      ]
     },
     "metadata": {},
     "output_type": "display_data"
    }
   ],
   "source": [
    "final_df_3.groupby(['winner'])['score_x','score_y'].mean().plot(kind='bar')"
   ]
  },
  {
   "cell_type": "code",
   "execution_count": null,
   "metadata": {
    "collapsed": false
   },
   "outputs": [],
   "source": []
  },
  {
   "cell_type": "code",
   "execution_count": null,
   "metadata": {
    "collapsed": false
   },
   "outputs": [],
   "source": []
  },
  {
   "cell_type": "code",
   "execution_count": null,
   "metadata": {
    "collapsed": false,
    "scrolled": true
   },
   "outputs": [],
   "source": []
  },
  {
   "cell_type": "code",
   "execution_count": null,
   "metadata": {
    "collapsed": false
   },
   "outputs": [],
   "source": []
  },
  {
   "cell_type": "code",
   "execution_count": null,
   "metadata": {
    "collapsed": false
   },
   "outputs": [],
   "source": []
  },
  {
   "cell_type": "code",
   "execution_count": null,
   "metadata": {
    "collapsed": true
   },
   "outputs": [],
   "source": []
  },
  {
   "cell_type": "code",
   "execution_count": null,
   "metadata": {
    "collapsed": false
   },
   "outputs": [],
   "source": [
    "gridsearch\n",
    "LR - L1 or L2 params\n",
    "firgure out best param and predict\n",
    "lasso or ridge params\n",
    "\n",
    "evaluate model\n",
    "accuracy\n",
    "Why am I doing each model"
   ]
  }
 ],
 "metadata": {
  "anaconda-cloud": {},
  "kernelspec": {
   "display_name": "Python [Root]",
   "language": "python",
   "name": "Python [Root]"
  },
  "language_info": {
   "codemirror_mode": {
    "name": "ipython",
    "version": 2
   },
   "file_extension": ".py",
   "mimetype": "text/x-python",
   "name": "python",
   "nbconvert_exporter": "python",
   "pygments_lexer": "ipython2",
   "version": "2.7.12"
  }
 },
 "nbformat": 4,
 "nbformat_minor": 0
}
